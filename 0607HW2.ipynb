{
 "cells": [
  {
   "cell_type": "code",
   "execution_count": 1,
   "metadata": {},
   "outputs": [],
   "source": [
    "import tensorflow as tf\n",
    "from tensorflow import keras\n",
    "import pandas as pd\n",
    "import numpy as np\n",
    "import gc\n",
    "import math\n",
    "import jieba\n",
    "from tqdm import tqdm\n",
    "import matplotlib.pyplot as plt\n",
    "from collections import Counter"
   ]
  },
  {
   "cell_type": "code",
   "execution_count": 2,
   "metadata": {},
   "outputs": [],
   "source": [
    "def Extract_NER(ls_textRow):\n",
    "    from ckiptagger import data_utils, construct_dictionary, WS, POS, NER\n",
    "    \n",
    "    # 載入 自訂詞典\n",
    "    User_Dict = {}\n",
    "    with open(\"KCC Data/Dict/KccDict2020.txt\",\"r\", encoding='utf-8-sig') as UDicts:\n",
    "        for udic in UDicts:\n",
    "            udWord = udic.strip().split(\" \")\n",
    "            if len(udWord) > 1:\n",
    "                User_Dict[udWord[0]] = udWord[1]\n",
    "            else:\n",
    "                User_Dict[udWord[0]] = 10    # 未給定權重者一律賦予預設值 10                \n",
    "    dictionary = construct_dictionary(User_Dict)\n",
    " \n",
    "    ws = WS(\"./data\")\n",
    "    pos = POS(\"./data\")\n",
    "    ner = NER(\"./data\")\n",
    "    \n",
    "    #  ls_segRow = ws(ls_textRow) ------------   without User Dictionary\n",
    "    ls_segRow = ws(ls_textRow, \n",
    "                   sentence_segmentation=True,\n",
    "                   segment_delimiter_set = {\",\", \"。\", \":\", \"?\", \"!\", \";\", \"、\"},\n",
    "                   coerce_dictionary = dictionary)\n",
    "    #print(\"ls_segRow = \", ls_segRow)\n",
    "    #print(\"-----------------------------\")\n",
    "    \n",
    "    del ws\n",
    "    del WS\n",
    "    gc.collect()\n",
    "    ls_posRow = pos(ls_segRow)\n",
    "    del pos\n",
    "    del POS\n",
    "    gc.collect()\n",
    "    ls_nerRow = ner(ls_segRow,ls_posRow)\n",
    "    del ner\n",
    "    del NER\n",
    "    gc.collect()\n",
    "    #print(\"ls_nerRow = \", ls_nerRow)\n",
    "    #print(\"-----------------------------\")\n",
    "    return ls_nerRow"
   ]
  },
  {
   "cell_type": "code",
   "execution_count": 6,
   "metadata": {},
   "outputs": [
    {
     "data": {
      "text/html": [
       "<div>\n",
       "<style scoped>\n",
       "    .dataframe tbody tr th:only-of-type {\n",
       "        vertical-align: middle;\n",
       "    }\n",
       "\n",
       "    .dataframe tbody tr th {\n",
       "        vertical-align: top;\n",
       "    }\n",
       "\n",
       "    .dataframe thead th {\n",
       "        text-align: right;\n",
       "    }\n",
       "</style>\n",
       "<table border=\"1\" class=\"dataframe\">\n",
       "  <thead>\n",
       "    <tr style=\"text-align: right;\">\n",
       "      <th></th>\n",
       "      <th>Unnamed: 0</th>\n",
       "      <th>term</th>\n",
       "      <th>sessionPeriod</th>\n",
       "      <th>meetingDate</th>\n",
       "      <th>legislatorName</th>\n",
       "      <th>selectTerm</th>\n",
       "    </tr>\n",
       "  </thead>\n",
       "  <tbody>\n",
       "    <tr>\n",
       "      <th>0</th>\n",
       "      <td>22</td>\n",
       "      <td>8</td>\n",
       "      <td>6</td>\n",
       "      <td>9/16/2014</td>\n",
       "      <td>江啟臣</td>\n",
       "      <td>﻿江委員啟臣：（13 時 56 分）主席、各位同仁。本席與蘇委員清泉、李委員貴敏等 14 人...</td>\n",
       "    </tr>\n",
       "  </tbody>\n",
       "</table>\n",
       "</div>"
      ],
      "text/plain": [
       "   Unnamed: 0  term  sessionPeriod meetingDate legislatorName  \\\n",
       "0          22     8              6   9/16/2014            江啟臣   \n",
       "\n",
       "                                          selectTerm  \n",
       "0  ﻿江委員啟臣：（13 時 56 分）主席、各位同仁。本席與蘇委員清泉、李委員貴敏等 14 人...  "
      ]
     },
     "execution_count": 6,
     "metadata": {},
     "output_type": "execute_result"
    }
   ],
   "source": [
    "wf = pd.read_csv('Ly Data/jun江啟臣.csv',encoding='utf-8') #匯資料\n",
    "wf.head(1)"
   ]
  },
  {
   "cell_type": "code",
   "execution_count": 23,
   "metadata": {},
   "outputs": [
    {
     "data": {
      "text/plain": [
       "Index(['Unnamed: 0', 'term', 'sessionPeriod', 'meetingDate', 'legislatorName',\n",
       "       'selectTerm'],\n",
       "      dtype='object')"
      ]
     },
     "execution_count": 23,
     "metadata": {},
     "output_type": "execute_result"
    }
   ],
   "source": [
    "df.columns"
   ]
  },
  {
   "cell_type": "code",
   "execution_count": 25,
   "metadata": {},
   "outputs": [
    {
     "data": {
      "text/plain": [
       "0      ﻿江委員啟臣：（13 時 56 分）主席、各位同仁。本席與蘇委員清泉、李委員貴敏等 14 人...\n",
       "1      ﻿江委員啟臣：主席、各位列席官員、各位同仁。我接續江委員質詢的問題。有關國際傳播的部分，\\n...\n",
       "2      ﻿江委員啟臣：主席、各位列席官員、各位同仁。過去海基、海協兩會高層的會面在兩岸關係算是很\\n...\n",
       "3      ﻿江委員啟臣：主席、各位列席官員、各位同仁。本席要請教杜部長，雖然我要問的問題幾乎每個會\\n...\n",
       "4      ﻿江委員啟臣：主席、各位列席官員、各位同仁。請教外交部高次長，雖然我們今天下午排的是有關\\n...\n",
       "                             ...                        \n",
       "657    ﻿江委員啟臣：（9時16分）主席、各位列席官員、各位同仁。請問田次長，謝長廷大使現在是不是還...\n",
       "658    ﻿江委員啟臣：（9時55分）主席、各位列席官員、各位同仁。最近又開始討論組改一事，有人提案希...\n",
       "659    ﻿江委員啟臣：（9 時 56 分）主席、各位列席官員、各位同仁。我們今天審查你們的基金預算，...\n",
       "660    ﻿江委員啟臣：（15時36分）主席、各位同仁。今天在這個歷史性的時刻，其實我們最想聽一個人講...\n",
       "661    ﻿江委員啟臣：（10時45分）主席、各位列席官員、各位同仁。我想先問一下，以現在臺灣疫情的狀...\n",
       "Name: selectTerm, Length: 662, dtype: object"
      ]
     },
     "execution_count": 25,
     "metadata": {},
     "output_type": "execute_result"
    }
   ],
   "source": [
    "df['selectTerm']"
   ]
  },
  {
   "cell_type": "code",
   "execution_count": 4,
   "metadata": {},
   "outputs": [
    {
     "name": "stdout",
     "output_type": "stream",
     "text": [
      "selectTerm 欄位筆數 =  662\n",
      "------------------------------------------\n",
      "Row No =  0\n"
     ]
    },
    {
     "name": "stderr",
     "output_type": "stream",
     "text": [
      "C:\\Users\\Alice\\anaconda3\\lib\\site-packages\\tensorflow\\python\\keras\\layers\\legacy_rnn\\rnn_cell_impl.py:909: UserWarning: `tf.nn.rnn_cell.LSTMCell` is deprecated and will be removed in a future version. This class is equivalent as `tf.keras.layers.LSTMCell`, and will be replaced by that in Tensorflow 2.0.\n",
      "  warnings.warn(\"`tf.nn.rnn_cell.LSTMCell` is deprecated and will be \"\n",
      "C:\\Users\\Alice\\anaconda3\\lib\\site-packages\\tensorflow\\python\\keras\\engine\\base_layer_v1.py:1700: UserWarning: `layer.add_variable` is deprecated and will be removed in a future version. Please use `layer.add_weight` method instead.\n",
      "  warnings.warn('`layer.add_variable` is deprecated and '\n"
     ]
    },
    {
     "name": "stdout",
     "output_type": "stream",
     "text": [
      "Row No =  1\n",
      "Row No =  2\n",
      "Row No =  3\n",
      "Row No =  4\n",
      "Row No =  5\n",
      "Row No =  6\n",
      "Row No =  7\n",
      "Row No =  8\n",
      "Row No =  9\n",
      "fileCunt No =  1\n",
      "Row No =  10\n"
     ]
    },
    {
     "name": "stderr",
     "output_type": "stream",
     "text": [
      "C:\\Users\\Alice\\anaconda3\\lib\\site-packages\\tensorflow\\python\\keras\\layers\\legacy_rnn\\rnn_cell_impl.py:909: UserWarning: `tf.nn.rnn_cell.LSTMCell` is deprecated and will be removed in a future version. This class is equivalent as `tf.keras.layers.LSTMCell`, and will be replaced by that in Tensorflow 2.0.\n",
      "  warnings.warn(\"`tf.nn.rnn_cell.LSTMCell` is deprecated and will be \"\n",
      "C:\\Users\\Alice\\anaconda3\\lib\\site-packages\\tensorflow\\python\\keras\\engine\\base_layer_v1.py:1700: UserWarning: `layer.add_variable` is deprecated and will be removed in a future version. Please use `layer.add_weight` method instead.\n",
      "  warnings.warn('`layer.add_variable` is deprecated and '\n"
     ]
    },
    {
     "name": "stdout",
     "output_type": "stream",
     "text": [
      "Row No =  11\n",
      "Row No =  12\n",
      "Row No =  13\n",
      "Row No =  14\n",
      "Row No =  15\n",
      "Row No =  16\n",
      "Row No =  17\n",
      "Row No =  18\n",
      "Row No =  19\n",
      "fileCunt No =  2\n",
      "Row No =  20\n"
     ]
    },
    {
     "name": "stderr",
     "output_type": "stream",
     "text": [
      "C:\\Users\\Alice\\anaconda3\\lib\\site-packages\\tensorflow\\python\\keras\\layers\\legacy_rnn\\rnn_cell_impl.py:909: UserWarning: `tf.nn.rnn_cell.LSTMCell` is deprecated and will be removed in a future version. This class is equivalent as `tf.keras.layers.LSTMCell`, and will be replaced by that in Tensorflow 2.0.\n",
      "  warnings.warn(\"`tf.nn.rnn_cell.LSTMCell` is deprecated and will be \"\n",
      "C:\\Users\\Alice\\anaconda3\\lib\\site-packages\\tensorflow\\python\\keras\\engine\\base_layer_v1.py:1700: UserWarning: `layer.add_variable` is deprecated and will be removed in a future version. Please use `layer.add_weight` method instead.\n",
      "  warnings.warn('`layer.add_variable` is deprecated and '\n"
     ]
    },
    {
     "name": "stdout",
     "output_type": "stream",
     "text": [
      "Row No =  21\n",
      "Row No =  22\n",
      "Row No =  23\n",
      "Row No =  24\n",
      "Row No =  25\n",
      "Row No =  26\n",
      "Row No =  27\n",
      "Row No =  28\n",
      "Row No =  29\n",
      "fileCunt No =  3\n",
      "Row No =  30\n"
     ]
    },
    {
     "name": "stderr",
     "output_type": "stream",
     "text": [
      "C:\\Users\\Alice\\anaconda3\\lib\\site-packages\\tensorflow\\python\\keras\\layers\\legacy_rnn\\rnn_cell_impl.py:909: UserWarning: `tf.nn.rnn_cell.LSTMCell` is deprecated and will be removed in a future version. This class is equivalent as `tf.keras.layers.LSTMCell`, and will be replaced by that in Tensorflow 2.0.\n",
      "  warnings.warn(\"`tf.nn.rnn_cell.LSTMCell` is deprecated and will be \"\n",
      "C:\\Users\\Alice\\anaconda3\\lib\\site-packages\\tensorflow\\python\\keras\\engine\\base_layer_v1.py:1700: UserWarning: `layer.add_variable` is deprecated and will be removed in a future version. Please use `layer.add_weight` method instead.\n",
      "  warnings.warn('`layer.add_variable` is deprecated and '\n"
     ]
    },
    {
     "name": "stdout",
     "output_type": "stream",
     "text": [
      "Row No =  31\n",
      "Row No =  32\n",
      "Row No =  33\n",
      "Row No =  34\n",
      "Row No =  35\n",
      "Row No =  36\n",
      "Row No =  37\n",
      "Row No =  38\n",
      "Row No =  39\n",
      "fileCunt No =  4\n",
      "Row No =  40\n"
     ]
    },
    {
     "name": "stderr",
     "output_type": "stream",
     "text": [
      "C:\\Users\\Alice\\anaconda3\\lib\\site-packages\\tensorflow\\python\\keras\\layers\\legacy_rnn\\rnn_cell_impl.py:909: UserWarning: `tf.nn.rnn_cell.LSTMCell` is deprecated and will be removed in a future version. This class is equivalent as `tf.keras.layers.LSTMCell`, and will be replaced by that in Tensorflow 2.0.\n",
      "  warnings.warn(\"`tf.nn.rnn_cell.LSTMCell` is deprecated and will be \"\n",
      "C:\\Users\\Alice\\anaconda3\\lib\\site-packages\\tensorflow\\python\\keras\\engine\\base_layer_v1.py:1700: UserWarning: `layer.add_variable` is deprecated and will be removed in a future version. Please use `layer.add_weight` method instead.\n",
      "  warnings.warn('`layer.add_variable` is deprecated and '\n"
     ]
    },
    {
     "name": "stdout",
     "output_type": "stream",
     "text": [
      "Row No =  41\n",
      "Row No =  42\n",
      "Row No =  43\n",
      "Row No =  44\n",
      "Row No =  45\n",
      "Row No =  46\n",
      "Row No =  47\n",
      "Row No =  48\n",
      "Row No =  49\n",
      "fileCunt No =  5\n",
      "Row No =  50\n"
     ]
    },
    {
     "name": "stderr",
     "output_type": "stream",
     "text": [
      "C:\\Users\\Alice\\anaconda3\\lib\\site-packages\\tensorflow\\python\\keras\\layers\\legacy_rnn\\rnn_cell_impl.py:909: UserWarning: `tf.nn.rnn_cell.LSTMCell` is deprecated and will be removed in a future version. This class is equivalent as `tf.keras.layers.LSTMCell`, and will be replaced by that in Tensorflow 2.0.\n",
      "  warnings.warn(\"`tf.nn.rnn_cell.LSTMCell` is deprecated and will be \"\n",
      "C:\\Users\\Alice\\anaconda3\\lib\\site-packages\\tensorflow\\python\\keras\\engine\\base_layer_v1.py:1700: UserWarning: `layer.add_variable` is deprecated and will be removed in a future version. Please use `layer.add_weight` method instead.\n",
      "  warnings.warn('`layer.add_variable` is deprecated and '\n"
     ]
    },
    {
     "name": "stdout",
     "output_type": "stream",
     "text": [
      "Row No =  51\n",
      "Row No =  52\n",
      "Row No =  53\n",
      "Row No =  54\n",
      "Row No =  55\n",
      "Row No =  56\n",
      "Row No =  57\n",
      "Row No =  58\n",
      "Row No =  59\n",
      "fileCunt No =  6\n",
      "Row No =  60\n"
     ]
    },
    {
     "name": "stderr",
     "output_type": "stream",
     "text": [
      "C:\\Users\\Alice\\anaconda3\\lib\\site-packages\\tensorflow\\python\\keras\\layers\\legacy_rnn\\rnn_cell_impl.py:909: UserWarning: `tf.nn.rnn_cell.LSTMCell` is deprecated and will be removed in a future version. This class is equivalent as `tf.keras.layers.LSTMCell`, and will be replaced by that in Tensorflow 2.0.\n",
      "  warnings.warn(\"`tf.nn.rnn_cell.LSTMCell` is deprecated and will be \"\n",
      "C:\\Users\\Alice\\anaconda3\\lib\\site-packages\\tensorflow\\python\\keras\\engine\\base_layer_v1.py:1700: UserWarning: `layer.add_variable` is deprecated and will be removed in a future version. Please use `layer.add_weight` method instead.\n",
      "  warnings.warn('`layer.add_variable` is deprecated and '\n"
     ]
    },
    {
     "name": "stdout",
     "output_type": "stream",
     "text": [
      "Row No =  61\n",
      "Row No =  62\n",
      "Row No =  63\n",
      "Row No =  64\n",
      "Row No =  65\n",
      "Row No =  66\n",
      "Row No =  67\n",
      "Row No =  68\n",
      "Row No =  69\n",
      "fileCunt No =  7\n",
      "Row No =  70\n"
     ]
    },
    {
     "name": "stderr",
     "output_type": "stream",
     "text": [
      "C:\\Users\\Alice\\anaconda3\\lib\\site-packages\\tensorflow\\python\\keras\\layers\\legacy_rnn\\rnn_cell_impl.py:909: UserWarning: `tf.nn.rnn_cell.LSTMCell` is deprecated and will be removed in a future version. This class is equivalent as `tf.keras.layers.LSTMCell`, and will be replaced by that in Tensorflow 2.0.\n",
      "  warnings.warn(\"`tf.nn.rnn_cell.LSTMCell` is deprecated and will be \"\n",
      "C:\\Users\\Alice\\anaconda3\\lib\\site-packages\\tensorflow\\python\\keras\\engine\\base_layer_v1.py:1700: UserWarning: `layer.add_variable` is deprecated and will be removed in a future version. Please use `layer.add_weight` method instead.\n",
      "  warnings.warn('`layer.add_variable` is deprecated and '\n"
     ]
    },
    {
     "name": "stdout",
     "output_type": "stream",
     "text": [
      "Row No =  71\n",
      "Row No =  72\n",
      "Row No =  73\n",
      "Row No =  74\n",
      "Row No =  75\n",
      "Row No =  76\n",
      "Row No =  77\n",
      "Row No =  78\n",
      "Row No =  79\n",
      "fileCunt No =  8\n",
      "Row No =  80\n"
     ]
    },
    {
     "name": "stderr",
     "output_type": "stream",
     "text": [
      "C:\\Users\\Alice\\anaconda3\\lib\\site-packages\\tensorflow\\python\\keras\\layers\\legacy_rnn\\rnn_cell_impl.py:909: UserWarning: `tf.nn.rnn_cell.LSTMCell` is deprecated and will be removed in a future version. This class is equivalent as `tf.keras.layers.LSTMCell`, and will be replaced by that in Tensorflow 2.0.\n",
      "  warnings.warn(\"`tf.nn.rnn_cell.LSTMCell` is deprecated and will be \"\n",
      "C:\\Users\\Alice\\anaconda3\\lib\\site-packages\\tensorflow\\python\\keras\\engine\\base_layer_v1.py:1700: UserWarning: `layer.add_variable` is deprecated and will be removed in a future version. Please use `layer.add_weight` method instead.\n",
      "  warnings.warn('`layer.add_variable` is deprecated and '\n"
     ]
    },
    {
     "name": "stdout",
     "output_type": "stream",
     "text": [
      "Row No =  81\n",
      "Row No =  82\n",
      "Row No =  83\n",
      "Row No =  84\n",
      "Row No =  85\n",
      "Row No =  86\n",
      "Row No =  87\n",
      "Row No =  88\n",
      "Row No =  89\n",
      "fileCunt No =  9\n",
      "Row No =  90\n"
     ]
    },
    {
     "name": "stderr",
     "output_type": "stream",
     "text": [
      "C:\\Users\\Alice\\anaconda3\\lib\\site-packages\\tensorflow\\python\\keras\\layers\\legacy_rnn\\rnn_cell_impl.py:909: UserWarning: `tf.nn.rnn_cell.LSTMCell` is deprecated and will be removed in a future version. This class is equivalent as `tf.keras.layers.LSTMCell`, and will be replaced by that in Tensorflow 2.0.\n",
      "  warnings.warn(\"`tf.nn.rnn_cell.LSTMCell` is deprecated and will be \"\n",
      "C:\\Users\\Alice\\anaconda3\\lib\\site-packages\\tensorflow\\python\\keras\\engine\\base_layer_v1.py:1700: UserWarning: `layer.add_variable` is deprecated and will be removed in a future version. Please use `layer.add_weight` method instead.\n",
      "  warnings.warn('`layer.add_variable` is deprecated and '\n"
     ]
    },
    {
     "name": "stdout",
     "output_type": "stream",
     "text": [
      "Row No =  91\n",
      "Row No =  92\n",
      "Row No =  93\n",
      "Row No =  94\n",
      "Row No =  95\n",
      "Row No =  96\n",
      "Row No =  97\n",
      "Row No =  98\n",
      "Row No =  99\n",
      "fileCunt No =  10\n",
      "Row No =  100\n"
     ]
    },
    {
     "name": "stderr",
     "output_type": "stream",
     "text": [
      "C:\\Users\\Alice\\anaconda3\\lib\\site-packages\\tensorflow\\python\\keras\\layers\\legacy_rnn\\rnn_cell_impl.py:909: UserWarning: `tf.nn.rnn_cell.LSTMCell` is deprecated and will be removed in a future version. This class is equivalent as `tf.keras.layers.LSTMCell`, and will be replaced by that in Tensorflow 2.0.\n",
      "  warnings.warn(\"`tf.nn.rnn_cell.LSTMCell` is deprecated and will be \"\n",
      "C:\\Users\\Alice\\anaconda3\\lib\\site-packages\\tensorflow\\python\\keras\\engine\\base_layer_v1.py:1700: UserWarning: `layer.add_variable` is deprecated and will be removed in a future version. Please use `layer.add_weight` method instead.\n",
      "  warnings.warn('`layer.add_variable` is deprecated and '\n"
     ]
    },
    {
     "name": "stdout",
     "output_type": "stream",
     "text": [
      "Row No =  101\n",
      "Row No =  102\n",
      "Row No =  103\n",
      "Row No =  104\n",
      "Row No =  105\n",
      "Row No =  106\n",
      "Row No =  107\n",
      "Row No =  108\n",
      "Row No =  109\n",
      "fileCunt No =  11\n",
      "Row No =  110\n"
     ]
    },
    {
     "name": "stderr",
     "output_type": "stream",
     "text": [
      "C:\\Users\\Alice\\anaconda3\\lib\\site-packages\\tensorflow\\python\\keras\\layers\\legacy_rnn\\rnn_cell_impl.py:909: UserWarning: `tf.nn.rnn_cell.LSTMCell` is deprecated and will be removed in a future version. This class is equivalent as `tf.keras.layers.LSTMCell`, and will be replaced by that in Tensorflow 2.0.\n",
      "  warnings.warn(\"`tf.nn.rnn_cell.LSTMCell` is deprecated and will be \"\n",
      "C:\\Users\\Alice\\anaconda3\\lib\\site-packages\\tensorflow\\python\\keras\\engine\\base_layer_v1.py:1700: UserWarning: `layer.add_variable` is deprecated and will be removed in a future version. Please use `layer.add_weight` method instead.\n",
      "  warnings.warn('`layer.add_variable` is deprecated and '\n"
     ]
    },
    {
     "name": "stdout",
     "output_type": "stream",
     "text": [
      "Row No =  111\n",
      "Row No =  112\n",
      "Row No =  113\n",
      "Row No =  114\n",
      "Row No =  115\n",
      "Row No =  116\n",
      "Row No =  117\n",
      "Row No =  118\n",
      "Row No =  119\n",
      "fileCunt No =  12\n",
      "Row No =  120\n"
     ]
    },
    {
     "name": "stderr",
     "output_type": "stream",
     "text": [
      "C:\\Users\\Alice\\anaconda3\\lib\\site-packages\\tensorflow\\python\\keras\\layers\\legacy_rnn\\rnn_cell_impl.py:909: UserWarning: `tf.nn.rnn_cell.LSTMCell` is deprecated and will be removed in a future version. This class is equivalent as `tf.keras.layers.LSTMCell`, and will be replaced by that in Tensorflow 2.0.\n",
      "  warnings.warn(\"`tf.nn.rnn_cell.LSTMCell` is deprecated and will be \"\n",
      "C:\\Users\\Alice\\anaconda3\\lib\\site-packages\\tensorflow\\python\\keras\\engine\\base_layer_v1.py:1700: UserWarning: `layer.add_variable` is deprecated and will be removed in a future version. Please use `layer.add_weight` method instead.\n",
      "  warnings.warn('`layer.add_variable` is deprecated and '\n"
     ]
    },
    {
     "name": "stdout",
     "output_type": "stream",
     "text": [
      "Row No =  121\n",
      "Row No =  122\n",
      "Row No =  123\n",
      "Row No =  124\n",
      "Row No =  125\n",
      "Row No =  126\n",
      "Row No =  127\n",
      "Row No =  128\n",
      "Row No =  129\n",
      "fileCunt No =  13\n",
      "Row No =  130\n"
     ]
    },
    {
     "name": "stderr",
     "output_type": "stream",
     "text": [
      "C:\\Users\\Alice\\anaconda3\\lib\\site-packages\\tensorflow\\python\\keras\\layers\\legacy_rnn\\rnn_cell_impl.py:909: UserWarning: `tf.nn.rnn_cell.LSTMCell` is deprecated and will be removed in a future version. This class is equivalent as `tf.keras.layers.LSTMCell`, and will be replaced by that in Tensorflow 2.0.\n",
      "  warnings.warn(\"`tf.nn.rnn_cell.LSTMCell` is deprecated and will be \"\n",
      "C:\\Users\\Alice\\anaconda3\\lib\\site-packages\\tensorflow\\python\\keras\\engine\\base_layer_v1.py:1700: UserWarning: `layer.add_variable` is deprecated and will be removed in a future version. Please use `layer.add_weight` method instead.\n",
      "  warnings.warn('`layer.add_variable` is deprecated and '\n"
     ]
    },
    {
     "name": "stdout",
     "output_type": "stream",
     "text": [
      "Row No =  131\n",
      "Row No =  132\n",
      "Row No =  133\n",
      "Row No =  134\n",
      "Row No =  135\n",
      "Row No =  136\n",
      "Row No =  137\n",
      "Row No =  138\n",
      "Row No =  139\n",
      "fileCunt No =  14\n",
      "Row No =  140\n"
     ]
    },
    {
     "name": "stderr",
     "output_type": "stream",
     "text": [
      "C:\\Users\\Alice\\anaconda3\\lib\\site-packages\\tensorflow\\python\\keras\\layers\\legacy_rnn\\rnn_cell_impl.py:909: UserWarning: `tf.nn.rnn_cell.LSTMCell` is deprecated and will be removed in a future version. This class is equivalent as `tf.keras.layers.LSTMCell`, and will be replaced by that in Tensorflow 2.0.\n",
      "  warnings.warn(\"`tf.nn.rnn_cell.LSTMCell` is deprecated and will be \"\n",
      "C:\\Users\\Alice\\anaconda3\\lib\\site-packages\\tensorflow\\python\\keras\\engine\\base_layer_v1.py:1700: UserWarning: `layer.add_variable` is deprecated and will be removed in a future version. Please use `layer.add_weight` method instead.\n",
      "  warnings.warn('`layer.add_variable` is deprecated and '\n"
     ]
    },
    {
     "name": "stdout",
     "output_type": "stream",
     "text": [
      "Row No =  141\n",
      "Row No =  142\n",
      "Row No =  143\n",
      "Row No =  144\n",
      "Row No =  145\n",
      "Row No =  146\n",
      "Row No =  147\n",
      "Row No =  148\n",
      "Row No =  149\n",
      "fileCunt No =  15\n",
      "Row No =  150\n"
     ]
    },
    {
     "name": "stderr",
     "output_type": "stream",
     "text": [
      "C:\\Users\\Alice\\anaconda3\\lib\\site-packages\\tensorflow\\python\\keras\\layers\\legacy_rnn\\rnn_cell_impl.py:909: UserWarning: `tf.nn.rnn_cell.LSTMCell` is deprecated and will be removed in a future version. This class is equivalent as `tf.keras.layers.LSTMCell`, and will be replaced by that in Tensorflow 2.0.\n",
      "  warnings.warn(\"`tf.nn.rnn_cell.LSTMCell` is deprecated and will be \"\n",
      "C:\\Users\\Alice\\anaconda3\\lib\\site-packages\\tensorflow\\python\\keras\\engine\\base_layer_v1.py:1700: UserWarning: `layer.add_variable` is deprecated and will be removed in a future version. Please use `layer.add_weight` method instead.\n",
      "  warnings.warn('`layer.add_variable` is deprecated and '\n"
     ]
    },
    {
     "name": "stdout",
     "output_type": "stream",
     "text": [
      "Row No =  151\n",
      "Row No =  152\n",
      "Row No =  153\n",
      "Row No =  154\n",
      "Row No =  155\n",
      "Row No =  156\n",
      "Row No =  157\n",
      "Row No =  158\n",
      "Row No =  159\n",
      "fileCunt No =  16\n",
      "Row No =  160\n"
     ]
    },
    {
     "name": "stderr",
     "output_type": "stream",
     "text": [
      "C:\\Users\\Alice\\anaconda3\\lib\\site-packages\\tensorflow\\python\\keras\\layers\\legacy_rnn\\rnn_cell_impl.py:909: UserWarning: `tf.nn.rnn_cell.LSTMCell` is deprecated and will be removed in a future version. This class is equivalent as `tf.keras.layers.LSTMCell`, and will be replaced by that in Tensorflow 2.0.\n",
      "  warnings.warn(\"`tf.nn.rnn_cell.LSTMCell` is deprecated and will be \"\n",
      "C:\\Users\\Alice\\anaconda3\\lib\\site-packages\\tensorflow\\python\\keras\\engine\\base_layer_v1.py:1700: UserWarning: `layer.add_variable` is deprecated and will be removed in a future version. Please use `layer.add_weight` method instead.\n",
      "  warnings.warn('`layer.add_variable` is deprecated and '\n"
     ]
    },
    {
     "name": "stdout",
     "output_type": "stream",
     "text": [
      "Row No =  161\n",
      "Row No =  162\n",
      "Row No =  163\n",
      "Row No =  164\n",
      "Row No =  165\n",
      "Row No =  166\n",
      "Row No =  167\n",
      "Row No =  168\n",
      "Row No =  169\n",
      "fileCunt No =  17\n",
      "Row No =  170\n"
     ]
    },
    {
     "name": "stderr",
     "output_type": "stream",
     "text": [
      "C:\\Users\\Alice\\anaconda3\\lib\\site-packages\\tensorflow\\python\\keras\\layers\\legacy_rnn\\rnn_cell_impl.py:909: UserWarning: `tf.nn.rnn_cell.LSTMCell` is deprecated and will be removed in a future version. This class is equivalent as `tf.keras.layers.LSTMCell`, and will be replaced by that in Tensorflow 2.0.\n",
      "  warnings.warn(\"`tf.nn.rnn_cell.LSTMCell` is deprecated and will be \"\n",
      "C:\\Users\\Alice\\anaconda3\\lib\\site-packages\\tensorflow\\python\\keras\\engine\\base_layer_v1.py:1700: UserWarning: `layer.add_variable` is deprecated and will be removed in a future version. Please use `layer.add_weight` method instead.\n",
      "  warnings.warn('`layer.add_variable` is deprecated and '\n"
     ]
    },
    {
     "name": "stdout",
     "output_type": "stream",
     "text": [
      "Row No =  171\n",
      "Row No =  172\n",
      "Row No =  173\n",
      "Row No =  174\n",
      "Row No =  175\n",
      "Row No =  176\n",
      "Row No =  177\n",
      "Row No =  178\n",
      "Row No =  179\n",
      "fileCunt No =  18\n",
      "Row No =  180\n"
     ]
    },
    {
     "name": "stderr",
     "output_type": "stream",
     "text": [
      "C:\\Users\\Alice\\anaconda3\\lib\\site-packages\\tensorflow\\python\\keras\\layers\\legacy_rnn\\rnn_cell_impl.py:909: UserWarning: `tf.nn.rnn_cell.LSTMCell` is deprecated and will be removed in a future version. This class is equivalent as `tf.keras.layers.LSTMCell`, and will be replaced by that in Tensorflow 2.0.\n",
      "  warnings.warn(\"`tf.nn.rnn_cell.LSTMCell` is deprecated and will be \"\n",
      "C:\\Users\\Alice\\anaconda3\\lib\\site-packages\\tensorflow\\python\\keras\\engine\\base_layer_v1.py:1700: UserWarning: `layer.add_variable` is deprecated and will be removed in a future version. Please use `layer.add_weight` method instead.\n",
      "  warnings.warn('`layer.add_variable` is deprecated and '\n"
     ]
    },
    {
     "name": "stdout",
     "output_type": "stream",
     "text": [
      "Row No =  181\n",
      "Row No =  182\n",
      "Row No =  183\n",
      "Row No =  184\n",
      "Row No =  185\n",
      "Row No =  186\n",
      "Row No =  187\n",
      "Row No =  188\n",
      "Row No =  189\n",
      "fileCunt No =  19\n",
      "Row No =  190\n"
     ]
    },
    {
     "name": "stderr",
     "output_type": "stream",
     "text": [
      "C:\\Users\\Alice\\anaconda3\\lib\\site-packages\\tensorflow\\python\\keras\\layers\\legacy_rnn\\rnn_cell_impl.py:909: UserWarning: `tf.nn.rnn_cell.LSTMCell` is deprecated and will be removed in a future version. This class is equivalent as `tf.keras.layers.LSTMCell`, and will be replaced by that in Tensorflow 2.0.\n",
      "  warnings.warn(\"`tf.nn.rnn_cell.LSTMCell` is deprecated and will be \"\n",
      "C:\\Users\\Alice\\anaconda3\\lib\\site-packages\\tensorflow\\python\\keras\\engine\\base_layer_v1.py:1700: UserWarning: `layer.add_variable` is deprecated and will be removed in a future version. Please use `layer.add_weight` method instead.\n",
      "  warnings.warn('`layer.add_variable` is deprecated and '\n"
     ]
    },
    {
     "name": "stdout",
     "output_type": "stream",
     "text": [
      "Row No =  191\n",
      "Row No =  192\n",
      "Row No =  193\n",
      "Row No =  194\n",
      "Row No =  195\n",
      "Row No =  196\n",
      "Row No =  197\n",
      "Row No =  198\n",
      "Row No =  199\n",
      "fileCunt No =  20\n",
      "Row No =  200\n"
     ]
    },
    {
     "name": "stderr",
     "output_type": "stream",
     "text": [
      "C:\\Users\\Alice\\anaconda3\\lib\\site-packages\\tensorflow\\python\\keras\\layers\\legacy_rnn\\rnn_cell_impl.py:909: UserWarning: `tf.nn.rnn_cell.LSTMCell` is deprecated and will be removed in a future version. This class is equivalent as `tf.keras.layers.LSTMCell`, and will be replaced by that in Tensorflow 2.0.\n",
      "  warnings.warn(\"`tf.nn.rnn_cell.LSTMCell` is deprecated and will be \"\n",
      "C:\\Users\\Alice\\anaconda3\\lib\\site-packages\\tensorflow\\python\\keras\\engine\\base_layer_v1.py:1700: UserWarning: `layer.add_variable` is deprecated and will be removed in a future version. Please use `layer.add_weight` method instead.\n",
      "  warnings.warn('`layer.add_variable` is deprecated and '\n"
     ]
    },
    {
     "name": "stdout",
     "output_type": "stream",
     "text": [
      "Row No =  201\n",
      "Row No =  202\n",
      "Row No =  203\n",
      "Row No =  204\n",
      "Row No =  205\n",
      "Row No =  206\n",
      "Row No =  207\n",
      "Row No =  208\n",
      "Row No =  209\n",
      "fileCunt No =  21\n",
      "Row No =  210\n"
     ]
    },
    {
     "name": "stderr",
     "output_type": "stream",
     "text": [
      "C:\\Users\\Alice\\anaconda3\\lib\\site-packages\\tensorflow\\python\\keras\\layers\\legacy_rnn\\rnn_cell_impl.py:909: UserWarning: `tf.nn.rnn_cell.LSTMCell` is deprecated and will be removed in a future version. This class is equivalent as `tf.keras.layers.LSTMCell`, and will be replaced by that in Tensorflow 2.0.\n",
      "  warnings.warn(\"`tf.nn.rnn_cell.LSTMCell` is deprecated and will be \"\n",
      "C:\\Users\\Alice\\anaconda3\\lib\\site-packages\\tensorflow\\python\\keras\\engine\\base_layer_v1.py:1700: UserWarning: `layer.add_variable` is deprecated and will be removed in a future version. Please use `layer.add_weight` method instead.\n",
      "  warnings.warn('`layer.add_variable` is deprecated and '\n"
     ]
    },
    {
     "name": "stdout",
     "output_type": "stream",
     "text": [
      "Row No =  211\n",
      "Row No =  212\n",
      "Row No =  213\n",
      "Row No =  214\n",
      "Row No =  215\n",
      "Row No =  216\n",
      "Row No =  217\n",
      "Row No =  218\n",
      "Row No =  219\n",
      "fileCunt No =  22\n",
      "Row No =  220\n"
     ]
    },
    {
     "name": "stderr",
     "output_type": "stream",
     "text": [
      "C:\\Users\\Alice\\anaconda3\\lib\\site-packages\\tensorflow\\python\\keras\\layers\\legacy_rnn\\rnn_cell_impl.py:909: UserWarning: `tf.nn.rnn_cell.LSTMCell` is deprecated and will be removed in a future version. This class is equivalent as `tf.keras.layers.LSTMCell`, and will be replaced by that in Tensorflow 2.0.\n",
      "  warnings.warn(\"`tf.nn.rnn_cell.LSTMCell` is deprecated and will be \"\n",
      "C:\\Users\\Alice\\anaconda3\\lib\\site-packages\\tensorflow\\python\\keras\\engine\\base_layer_v1.py:1700: UserWarning: `layer.add_variable` is deprecated and will be removed in a future version. Please use `layer.add_weight` method instead.\n",
      "  warnings.warn('`layer.add_variable` is deprecated and '\n"
     ]
    },
    {
     "name": "stdout",
     "output_type": "stream",
     "text": [
      "Row No =  221\n",
      "Row No =  222\n",
      "Row No =  223\n",
      "Row No =  224\n",
      "Row No =  225\n",
      "Row No =  226\n",
      "Row No =  227\n",
      "Row No =  228\n",
      "Row No =  229\n",
      "fileCunt No =  23\n",
      "Row No =  230\n"
     ]
    },
    {
     "name": "stderr",
     "output_type": "stream",
     "text": [
      "C:\\Users\\Alice\\anaconda3\\lib\\site-packages\\tensorflow\\python\\keras\\layers\\legacy_rnn\\rnn_cell_impl.py:909: UserWarning: `tf.nn.rnn_cell.LSTMCell` is deprecated and will be removed in a future version. This class is equivalent as `tf.keras.layers.LSTMCell`, and will be replaced by that in Tensorflow 2.0.\n",
      "  warnings.warn(\"`tf.nn.rnn_cell.LSTMCell` is deprecated and will be \"\n",
      "C:\\Users\\Alice\\anaconda3\\lib\\site-packages\\tensorflow\\python\\keras\\engine\\base_layer_v1.py:1700: UserWarning: `layer.add_variable` is deprecated and will be removed in a future version. Please use `layer.add_weight` method instead.\n",
      "  warnings.warn('`layer.add_variable` is deprecated and '\n"
     ]
    },
    {
     "name": "stdout",
     "output_type": "stream",
     "text": [
      "Row No =  231\n",
      "Row No =  232\n",
      "Row No =  233\n",
      "Row No =  234\n",
      "Row No =  235\n",
      "Row No =  236\n",
      "Row No =  237\n",
      "Row No =  238\n",
      "Row No =  239\n",
      "fileCunt No =  24\n",
      "Row No =  240\n"
     ]
    },
    {
     "name": "stderr",
     "output_type": "stream",
     "text": [
      "C:\\Users\\Alice\\anaconda3\\lib\\site-packages\\tensorflow\\python\\keras\\layers\\legacy_rnn\\rnn_cell_impl.py:909: UserWarning: `tf.nn.rnn_cell.LSTMCell` is deprecated and will be removed in a future version. This class is equivalent as `tf.keras.layers.LSTMCell`, and will be replaced by that in Tensorflow 2.0.\n",
      "  warnings.warn(\"`tf.nn.rnn_cell.LSTMCell` is deprecated and will be \"\n",
      "C:\\Users\\Alice\\anaconda3\\lib\\site-packages\\tensorflow\\python\\keras\\engine\\base_layer_v1.py:1700: UserWarning: `layer.add_variable` is deprecated and will be removed in a future version. Please use `layer.add_weight` method instead.\n",
      "  warnings.warn('`layer.add_variable` is deprecated and '\n"
     ]
    },
    {
     "name": "stdout",
     "output_type": "stream",
     "text": [
      "Row No =  241\n",
      "Row No =  242\n",
      "Row No =  243\n",
      "Row No =  244\n",
      "Row No =  245\n",
      "Row No =  246\n",
      "Row No =  247\n",
      "Row No =  248\n",
      "Row No =  249\n",
      "fileCunt No =  25\n",
      "Row No =  250\n"
     ]
    },
    {
     "name": "stderr",
     "output_type": "stream",
     "text": [
      "C:\\Users\\Alice\\anaconda3\\lib\\site-packages\\tensorflow\\python\\keras\\layers\\legacy_rnn\\rnn_cell_impl.py:909: UserWarning: `tf.nn.rnn_cell.LSTMCell` is deprecated and will be removed in a future version. This class is equivalent as `tf.keras.layers.LSTMCell`, and will be replaced by that in Tensorflow 2.0.\n",
      "  warnings.warn(\"`tf.nn.rnn_cell.LSTMCell` is deprecated and will be \"\n",
      "C:\\Users\\Alice\\anaconda3\\lib\\site-packages\\tensorflow\\python\\keras\\engine\\base_layer_v1.py:1700: UserWarning: `layer.add_variable` is deprecated and will be removed in a future version. Please use `layer.add_weight` method instead.\n",
      "  warnings.warn('`layer.add_variable` is deprecated and '\n"
     ]
    },
    {
     "name": "stdout",
     "output_type": "stream",
     "text": [
      "Row No =  251\n",
      "Row No =  252\n",
      "Row No =  253\n",
      "Row No =  254\n",
      "Row No =  255\n",
      "Row No =  256\n",
      "Row No =  257\n",
      "Row No =  258\n",
      "Row No =  259\n",
      "fileCunt No =  26\n",
      "Row No =  260\n"
     ]
    },
    {
     "name": "stderr",
     "output_type": "stream",
     "text": [
      "C:\\Users\\Alice\\anaconda3\\lib\\site-packages\\tensorflow\\python\\keras\\layers\\legacy_rnn\\rnn_cell_impl.py:909: UserWarning: `tf.nn.rnn_cell.LSTMCell` is deprecated and will be removed in a future version. This class is equivalent as `tf.keras.layers.LSTMCell`, and will be replaced by that in Tensorflow 2.0.\n",
      "  warnings.warn(\"`tf.nn.rnn_cell.LSTMCell` is deprecated and will be \"\n",
      "C:\\Users\\Alice\\anaconda3\\lib\\site-packages\\tensorflow\\python\\keras\\engine\\base_layer_v1.py:1700: UserWarning: `layer.add_variable` is deprecated and will be removed in a future version. Please use `layer.add_weight` method instead.\n",
      "  warnings.warn('`layer.add_variable` is deprecated and '\n"
     ]
    },
    {
     "name": "stdout",
     "output_type": "stream",
     "text": [
      "Row No =  261\n",
      "Row No =  262\n",
      "Row No =  263\n",
      "Row No =  264\n",
      "Row No =  265\n",
      "Row No =  266\n",
      "Row No =  267\n",
      "Row No =  268\n",
      "Row No =  269\n",
      "fileCunt No =  27\n",
      "Row No =  270\n"
     ]
    },
    {
     "name": "stderr",
     "output_type": "stream",
     "text": [
      "C:\\Users\\Alice\\anaconda3\\lib\\site-packages\\tensorflow\\python\\keras\\layers\\legacy_rnn\\rnn_cell_impl.py:909: UserWarning: `tf.nn.rnn_cell.LSTMCell` is deprecated and will be removed in a future version. This class is equivalent as `tf.keras.layers.LSTMCell`, and will be replaced by that in Tensorflow 2.0.\n",
      "  warnings.warn(\"`tf.nn.rnn_cell.LSTMCell` is deprecated and will be \"\n",
      "C:\\Users\\Alice\\anaconda3\\lib\\site-packages\\tensorflow\\python\\keras\\engine\\base_layer_v1.py:1700: UserWarning: `layer.add_variable` is deprecated and will be removed in a future version. Please use `layer.add_weight` method instead.\n",
      "  warnings.warn('`layer.add_variable` is deprecated and '\n"
     ]
    },
    {
     "name": "stdout",
     "output_type": "stream",
     "text": [
      "Row No =  271\n",
      "Row No =  272\n",
      "Row No =  273\n",
      "Row No =  274\n",
      "Row No =  275\n",
      "Row No =  276\n",
      "Row No =  277\n",
      "Row No =  278\n",
      "Row No =  279\n",
      "fileCunt No =  28\n",
      "Row No =  280\n"
     ]
    },
    {
     "name": "stderr",
     "output_type": "stream",
     "text": [
      "C:\\Users\\Alice\\anaconda3\\lib\\site-packages\\tensorflow\\python\\keras\\layers\\legacy_rnn\\rnn_cell_impl.py:909: UserWarning: `tf.nn.rnn_cell.LSTMCell` is deprecated and will be removed in a future version. This class is equivalent as `tf.keras.layers.LSTMCell`, and will be replaced by that in Tensorflow 2.0.\n",
      "  warnings.warn(\"`tf.nn.rnn_cell.LSTMCell` is deprecated and will be \"\n",
      "C:\\Users\\Alice\\anaconda3\\lib\\site-packages\\tensorflow\\python\\keras\\engine\\base_layer_v1.py:1700: UserWarning: `layer.add_variable` is deprecated and will be removed in a future version. Please use `layer.add_weight` method instead.\n",
      "  warnings.warn('`layer.add_variable` is deprecated and '\n"
     ]
    },
    {
     "name": "stdout",
     "output_type": "stream",
     "text": [
      "Row No =  281\n",
      "Row No =  282\n",
      "Row No =  283\n",
      "Row No =  284\n",
      "Row No =  285\n",
      "Row No =  286\n",
      "Row No =  287\n",
      "Row No =  288\n",
      "Row No =  289\n",
      "fileCunt No =  29\n",
      "Row No =  290\n"
     ]
    },
    {
     "name": "stderr",
     "output_type": "stream",
     "text": [
      "C:\\Users\\Alice\\anaconda3\\lib\\site-packages\\tensorflow\\python\\keras\\layers\\legacy_rnn\\rnn_cell_impl.py:909: UserWarning: `tf.nn.rnn_cell.LSTMCell` is deprecated and will be removed in a future version. This class is equivalent as `tf.keras.layers.LSTMCell`, and will be replaced by that in Tensorflow 2.0.\n",
      "  warnings.warn(\"`tf.nn.rnn_cell.LSTMCell` is deprecated and will be \"\n",
      "C:\\Users\\Alice\\anaconda3\\lib\\site-packages\\tensorflow\\python\\keras\\engine\\base_layer_v1.py:1700: UserWarning: `layer.add_variable` is deprecated and will be removed in a future version. Please use `layer.add_weight` method instead.\n",
      "  warnings.warn('`layer.add_variable` is deprecated and '\n"
     ]
    },
    {
     "name": "stdout",
     "output_type": "stream",
     "text": [
      "Row No =  291\n",
      "Row No =  292\n",
      "Row No =  293\n",
      "Row No =  294\n",
      "Row No =  295\n",
      "Row No =  296\n",
      "Row No =  297\n",
      "Row No =  298\n",
      "Row No =  299\n",
      "fileCunt No =  30\n",
      "Row No =  300\n"
     ]
    },
    {
     "name": "stderr",
     "output_type": "stream",
     "text": [
      "C:\\Users\\Alice\\anaconda3\\lib\\site-packages\\tensorflow\\python\\keras\\layers\\legacy_rnn\\rnn_cell_impl.py:909: UserWarning: `tf.nn.rnn_cell.LSTMCell` is deprecated and will be removed in a future version. This class is equivalent as `tf.keras.layers.LSTMCell`, and will be replaced by that in Tensorflow 2.0.\n",
      "  warnings.warn(\"`tf.nn.rnn_cell.LSTMCell` is deprecated and will be \"\n",
      "C:\\Users\\Alice\\anaconda3\\lib\\site-packages\\tensorflow\\python\\keras\\engine\\base_layer_v1.py:1700: UserWarning: `layer.add_variable` is deprecated and will be removed in a future version. Please use `layer.add_weight` method instead.\n",
      "  warnings.warn('`layer.add_variable` is deprecated and '\n"
     ]
    },
    {
     "name": "stdout",
     "output_type": "stream",
     "text": [
      "Row No =  301\n",
      "Row No =  302\n",
      "Row No =  303\n",
      "Row No =  304\n",
      "Row No =  305\n",
      "Row No =  306\n",
      "Row No =  307\n",
      "Row No =  308\n",
      "Row No =  309\n",
      "fileCunt No =  31\n",
      "Row No =  310\n"
     ]
    },
    {
     "name": "stderr",
     "output_type": "stream",
     "text": [
      "C:\\Users\\Alice\\anaconda3\\lib\\site-packages\\tensorflow\\python\\keras\\layers\\legacy_rnn\\rnn_cell_impl.py:909: UserWarning: `tf.nn.rnn_cell.LSTMCell` is deprecated and will be removed in a future version. This class is equivalent as `tf.keras.layers.LSTMCell`, and will be replaced by that in Tensorflow 2.0.\n",
      "  warnings.warn(\"`tf.nn.rnn_cell.LSTMCell` is deprecated and will be \"\n",
      "C:\\Users\\Alice\\anaconda3\\lib\\site-packages\\tensorflow\\python\\keras\\engine\\base_layer_v1.py:1700: UserWarning: `layer.add_variable` is deprecated and will be removed in a future version. Please use `layer.add_weight` method instead.\n",
      "  warnings.warn('`layer.add_variable` is deprecated and '\n"
     ]
    },
    {
     "name": "stdout",
     "output_type": "stream",
     "text": [
      "Row No =  311\n",
      "Row No =  312\n",
      "Row No =  313\n",
      "Row No =  314\n",
      "Row No =  315\n",
      "Row No =  316\n",
      "Row No =  317\n",
      "Row No =  318\n",
      "Row No =  319\n",
      "fileCunt No =  32\n",
      "Row No =  320\n"
     ]
    },
    {
     "name": "stderr",
     "output_type": "stream",
     "text": [
      "C:\\Users\\Alice\\anaconda3\\lib\\site-packages\\tensorflow\\python\\keras\\layers\\legacy_rnn\\rnn_cell_impl.py:909: UserWarning: `tf.nn.rnn_cell.LSTMCell` is deprecated and will be removed in a future version. This class is equivalent as `tf.keras.layers.LSTMCell`, and will be replaced by that in Tensorflow 2.0.\n",
      "  warnings.warn(\"`tf.nn.rnn_cell.LSTMCell` is deprecated and will be \"\n",
      "C:\\Users\\Alice\\anaconda3\\lib\\site-packages\\tensorflow\\python\\keras\\engine\\base_layer_v1.py:1700: UserWarning: `layer.add_variable` is deprecated and will be removed in a future version. Please use `layer.add_weight` method instead.\n",
      "  warnings.warn('`layer.add_variable` is deprecated and '\n"
     ]
    },
    {
     "name": "stdout",
     "output_type": "stream",
     "text": [
      "Row No =  321\n",
      "Row No =  322\n",
      "Row No =  323\n",
      "Row No =  324\n",
      "Row No =  325\n",
      "Row No =  326\n",
      "Row No =  327\n",
      "Row No =  328\n",
      "Row No =  329\n",
      "fileCunt No =  33\n",
      "Row No =  330\n"
     ]
    },
    {
     "name": "stderr",
     "output_type": "stream",
     "text": [
      "C:\\Users\\Alice\\anaconda3\\lib\\site-packages\\tensorflow\\python\\keras\\layers\\legacy_rnn\\rnn_cell_impl.py:909: UserWarning: `tf.nn.rnn_cell.LSTMCell` is deprecated and will be removed in a future version. This class is equivalent as `tf.keras.layers.LSTMCell`, and will be replaced by that in Tensorflow 2.0.\n",
      "  warnings.warn(\"`tf.nn.rnn_cell.LSTMCell` is deprecated and will be \"\n",
      "C:\\Users\\Alice\\anaconda3\\lib\\site-packages\\tensorflow\\python\\keras\\engine\\base_layer_v1.py:1700: UserWarning: `layer.add_variable` is deprecated and will be removed in a future version. Please use `layer.add_weight` method instead.\n",
      "  warnings.warn('`layer.add_variable` is deprecated and '\n"
     ]
    },
    {
     "name": "stdout",
     "output_type": "stream",
     "text": [
      "Row No =  331\n",
      "Row No =  332\n",
      "Row No =  333\n",
      "Row No =  334\n",
      "Row No =  335\n",
      "Row No =  336\n",
      "Row No =  337\n",
      "Row No =  338\n",
      "Row No =  339\n",
      "fileCunt No =  34\n",
      "Row No =  340\n"
     ]
    },
    {
     "name": "stderr",
     "output_type": "stream",
     "text": [
      "C:\\Users\\Alice\\anaconda3\\lib\\site-packages\\tensorflow\\python\\keras\\layers\\legacy_rnn\\rnn_cell_impl.py:909: UserWarning: `tf.nn.rnn_cell.LSTMCell` is deprecated and will be removed in a future version. This class is equivalent as `tf.keras.layers.LSTMCell`, and will be replaced by that in Tensorflow 2.0.\n",
      "  warnings.warn(\"`tf.nn.rnn_cell.LSTMCell` is deprecated and will be \"\n",
      "C:\\Users\\Alice\\anaconda3\\lib\\site-packages\\tensorflow\\python\\keras\\engine\\base_layer_v1.py:1700: UserWarning: `layer.add_variable` is deprecated and will be removed in a future version. Please use `layer.add_weight` method instead.\n",
      "  warnings.warn('`layer.add_variable` is deprecated and '\n"
     ]
    },
    {
     "name": "stdout",
     "output_type": "stream",
     "text": [
      "Row No =  341\n",
      "Row No =  342\n",
      "Row No =  343\n",
      "Row No =  344\n",
      "Row No =  345\n",
      "Row No =  346\n",
      "Row No =  347\n",
      "Row No =  348\n",
      "Row No =  349\n",
      "fileCunt No =  35\n",
      "Row No =  350\n"
     ]
    },
    {
     "name": "stderr",
     "output_type": "stream",
     "text": [
      "C:\\Users\\Alice\\anaconda3\\lib\\site-packages\\tensorflow\\python\\keras\\layers\\legacy_rnn\\rnn_cell_impl.py:909: UserWarning: `tf.nn.rnn_cell.LSTMCell` is deprecated and will be removed in a future version. This class is equivalent as `tf.keras.layers.LSTMCell`, and will be replaced by that in Tensorflow 2.0.\n",
      "  warnings.warn(\"`tf.nn.rnn_cell.LSTMCell` is deprecated and will be \"\n",
      "C:\\Users\\Alice\\anaconda3\\lib\\site-packages\\tensorflow\\python\\keras\\engine\\base_layer_v1.py:1700: UserWarning: `layer.add_variable` is deprecated and will be removed in a future version. Please use `layer.add_weight` method instead.\n",
      "  warnings.warn('`layer.add_variable` is deprecated and '\n"
     ]
    },
    {
     "name": "stdout",
     "output_type": "stream",
     "text": [
      "Row No =  351\n",
      "Row No =  352\n",
      "Row No =  353\n",
      "Row No =  354\n",
      "Row No =  355\n",
      "Row No =  356\n",
      "Row No =  357\n",
      "Row No =  358\n",
      "Row No =  359\n",
      "fileCunt No =  36\n",
      "Row No =  360\n"
     ]
    },
    {
     "name": "stderr",
     "output_type": "stream",
     "text": [
      "C:\\Users\\Alice\\anaconda3\\lib\\site-packages\\tensorflow\\python\\keras\\layers\\legacy_rnn\\rnn_cell_impl.py:909: UserWarning: `tf.nn.rnn_cell.LSTMCell` is deprecated and will be removed in a future version. This class is equivalent as `tf.keras.layers.LSTMCell`, and will be replaced by that in Tensorflow 2.0.\n",
      "  warnings.warn(\"`tf.nn.rnn_cell.LSTMCell` is deprecated and will be \"\n",
      "C:\\Users\\Alice\\anaconda3\\lib\\site-packages\\tensorflow\\python\\keras\\engine\\base_layer_v1.py:1700: UserWarning: `layer.add_variable` is deprecated and will be removed in a future version. Please use `layer.add_weight` method instead.\n",
      "  warnings.warn('`layer.add_variable` is deprecated and '\n"
     ]
    },
    {
     "name": "stdout",
     "output_type": "stream",
     "text": [
      "Row No =  361\n",
      "Row No =  362\n",
      "Row No =  363\n",
      "Row No =  364\n",
      "Row No =  365\n",
      "Row No =  366\n",
      "Row No =  367\n",
      "Row No =  368\n",
      "Row No =  369\n",
      "fileCunt No =  37\n",
      "Row No =  370\n"
     ]
    },
    {
     "name": "stderr",
     "output_type": "stream",
     "text": [
      "C:\\Users\\Alice\\anaconda3\\lib\\site-packages\\tensorflow\\python\\keras\\layers\\legacy_rnn\\rnn_cell_impl.py:909: UserWarning: `tf.nn.rnn_cell.LSTMCell` is deprecated and will be removed in a future version. This class is equivalent as `tf.keras.layers.LSTMCell`, and will be replaced by that in Tensorflow 2.0.\n",
      "  warnings.warn(\"`tf.nn.rnn_cell.LSTMCell` is deprecated and will be \"\n",
      "C:\\Users\\Alice\\anaconda3\\lib\\site-packages\\tensorflow\\python\\keras\\engine\\base_layer_v1.py:1700: UserWarning: `layer.add_variable` is deprecated and will be removed in a future version. Please use `layer.add_weight` method instead.\n",
      "  warnings.warn('`layer.add_variable` is deprecated and '\n"
     ]
    },
    {
     "name": "stdout",
     "output_type": "stream",
     "text": [
      "Row No =  371\n",
      "Row No =  372\n",
      "Row No =  373\n",
      "Row No =  374\n",
      "Row No =  375\n",
      "Row No =  376\n",
      "Row No =  377\n",
      "Row No =  378\n",
      "Row No =  379\n",
      "fileCunt No =  38\n",
      "Row No =  380\n"
     ]
    },
    {
     "name": "stderr",
     "output_type": "stream",
     "text": [
      "C:\\Users\\Alice\\anaconda3\\lib\\site-packages\\tensorflow\\python\\keras\\layers\\legacy_rnn\\rnn_cell_impl.py:909: UserWarning: `tf.nn.rnn_cell.LSTMCell` is deprecated and will be removed in a future version. This class is equivalent as `tf.keras.layers.LSTMCell`, and will be replaced by that in Tensorflow 2.0.\n",
      "  warnings.warn(\"`tf.nn.rnn_cell.LSTMCell` is deprecated and will be \"\n",
      "C:\\Users\\Alice\\anaconda3\\lib\\site-packages\\tensorflow\\python\\keras\\engine\\base_layer_v1.py:1700: UserWarning: `layer.add_variable` is deprecated and will be removed in a future version. Please use `layer.add_weight` method instead.\n",
      "  warnings.warn('`layer.add_variable` is deprecated and '\n"
     ]
    },
    {
     "name": "stdout",
     "output_type": "stream",
     "text": [
      "Row No =  381\n",
      "Row No =  382\n",
      "Row No =  383\n",
      "Row No =  384\n",
      "Row No =  385\n",
      "Row No =  386\n",
      "Row No =  387\n",
      "Row No =  388\n",
      "Row No =  389\n",
      "fileCunt No =  39\n",
      "Row No =  390\n"
     ]
    },
    {
     "name": "stderr",
     "output_type": "stream",
     "text": [
      "C:\\Users\\Alice\\anaconda3\\lib\\site-packages\\tensorflow\\python\\keras\\layers\\legacy_rnn\\rnn_cell_impl.py:909: UserWarning: `tf.nn.rnn_cell.LSTMCell` is deprecated and will be removed in a future version. This class is equivalent as `tf.keras.layers.LSTMCell`, and will be replaced by that in Tensorflow 2.0.\n",
      "  warnings.warn(\"`tf.nn.rnn_cell.LSTMCell` is deprecated and will be \"\n",
      "C:\\Users\\Alice\\anaconda3\\lib\\site-packages\\tensorflow\\python\\keras\\engine\\base_layer_v1.py:1700: UserWarning: `layer.add_variable` is deprecated and will be removed in a future version. Please use `layer.add_weight` method instead.\n",
      "  warnings.warn('`layer.add_variable` is deprecated and '\n"
     ]
    },
    {
     "name": "stdout",
     "output_type": "stream",
     "text": [
      "Row No =  391\n",
      "Row No =  392\n",
      "Row No =  393\n",
      "Row No =  394\n",
      "Row No =  395\n",
      "Row No =  396\n",
      "Row No =  397\n",
      "Row No =  398\n",
      "Row No =  399\n",
      "fileCunt No =  40\n",
      "Row No =  400\n"
     ]
    },
    {
     "name": "stderr",
     "output_type": "stream",
     "text": [
      "C:\\Users\\Alice\\anaconda3\\lib\\site-packages\\tensorflow\\python\\keras\\layers\\legacy_rnn\\rnn_cell_impl.py:909: UserWarning: `tf.nn.rnn_cell.LSTMCell` is deprecated and will be removed in a future version. This class is equivalent as `tf.keras.layers.LSTMCell`, and will be replaced by that in Tensorflow 2.0.\n",
      "  warnings.warn(\"`tf.nn.rnn_cell.LSTMCell` is deprecated and will be \"\n",
      "C:\\Users\\Alice\\anaconda3\\lib\\site-packages\\tensorflow\\python\\keras\\engine\\base_layer_v1.py:1700: UserWarning: `layer.add_variable` is deprecated and will be removed in a future version. Please use `layer.add_weight` method instead.\n",
      "  warnings.warn('`layer.add_variable` is deprecated and '\n"
     ]
    },
    {
     "name": "stdout",
     "output_type": "stream",
     "text": [
      "Row No =  401\n",
      "Row No =  402\n",
      "Row No =  403\n",
      "Row No =  404\n",
      "Row No =  405\n",
      "Row No =  406\n",
      "Row No =  407\n",
      "Row No =  408\n",
      "Row No =  409\n",
      "fileCunt No =  41\n",
      "Row No =  410\n"
     ]
    },
    {
     "name": "stderr",
     "output_type": "stream",
     "text": [
      "C:\\Users\\Alice\\anaconda3\\lib\\site-packages\\tensorflow\\python\\keras\\layers\\legacy_rnn\\rnn_cell_impl.py:909: UserWarning: `tf.nn.rnn_cell.LSTMCell` is deprecated and will be removed in a future version. This class is equivalent as `tf.keras.layers.LSTMCell`, and will be replaced by that in Tensorflow 2.0.\n",
      "  warnings.warn(\"`tf.nn.rnn_cell.LSTMCell` is deprecated and will be \"\n",
      "C:\\Users\\Alice\\anaconda3\\lib\\site-packages\\tensorflow\\python\\keras\\engine\\base_layer_v1.py:1700: UserWarning: `layer.add_variable` is deprecated and will be removed in a future version. Please use `layer.add_weight` method instead.\n",
      "  warnings.warn('`layer.add_variable` is deprecated and '\n"
     ]
    },
    {
     "name": "stdout",
     "output_type": "stream",
     "text": [
      "Row No =  411\n",
      "Row No =  412\n",
      "Row No =  413\n",
      "Row No =  414\n",
      "Row No =  415\n",
      "Row No =  416\n",
      "Row No =  417\n",
      "Row No =  418\n",
      "Row No =  419\n",
      "fileCunt No =  42\n",
      "Row No =  420\n"
     ]
    },
    {
     "name": "stderr",
     "output_type": "stream",
     "text": [
      "C:\\Users\\Alice\\anaconda3\\lib\\site-packages\\tensorflow\\python\\keras\\layers\\legacy_rnn\\rnn_cell_impl.py:909: UserWarning: `tf.nn.rnn_cell.LSTMCell` is deprecated and will be removed in a future version. This class is equivalent as `tf.keras.layers.LSTMCell`, and will be replaced by that in Tensorflow 2.0.\n",
      "  warnings.warn(\"`tf.nn.rnn_cell.LSTMCell` is deprecated and will be \"\n",
      "C:\\Users\\Alice\\anaconda3\\lib\\site-packages\\tensorflow\\python\\keras\\engine\\base_layer_v1.py:1700: UserWarning: `layer.add_variable` is deprecated and will be removed in a future version. Please use `layer.add_weight` method instead.\n",
      "  warnings.warn('`layer.add_variable` is deprecated and '\n"
     ]
    },
    {
     "name": "stdout",
     "output_type": "stream",
     "text": [
      "Row No =  421\n",
      "Row No =  422\n",
      "Row No =  423\n",
      "Row No =  424\n",
      "Row No =  425\n",
      "Row No =  426\n",
      "Row No =  427\n",
      "Row No =  428\n",
      "Row No =  429\n",
      "fileCunt No =  43\n",
      "Row No =  430\n"
     ]
    },
    {
     "name": "stderr",
     "output_type": "stream",
     "text": [
      "C:\\Users\\Alice\\anaconda3\\lib\\site-packages\\tensorflow\\python\\keras\\layers\\legacy_rnn\\rnn_cell_impl.py:909: UserWarning: `tf.nn.rnn_cell.LSTMCell` is deprecated and will be removed in a future version. This class is equivalent as `tf.keras.layers.LSTMCell`, and will be replaced by that in Tensorflow 2.0.\n",
      "  warnings.warn(\"`tf.nn.rnn_cell.LSTMCell` is deprecated and will be \"\n",
      "C:\\Users\\Alice\\anaconda3\\lib\\site-packages\\tensorflow\\python\\keras\\engine\\base_layer_v1.py:1700: UserWarning: `layer.add_variable` is deprecated and will be removed in a future version. Please use `layer.add_weight` method instead.\n",
      "  warnings.warn('`layer.add_variable` is deprecated and '\n"
     ]
    },
    {
     "name": "stdout",
     "output_type": "stream",
     "text": [
      "Row No =  431\n",
      "Row No =  432\n",
      "Row No =  433\n",
      "Row No =  434\n",
      "Row No =  435\n",
      "Row No =  436\n",
      "Row No =  437\n",
      "Row No =  438\n",
      "Row No =  439\n",
      "fileCunt No =  44\n",
      "Row No =  440\n"
     ]
    },
    {
     "name": "stderr",
     "output_type": "stream",
     "text": [
      "C:\\Users\\Alice\\anaconda3\\lib\\site-packages\\tensorflow\\python\\keras\\layers\\legacy_rnn\\rnn_cell_impl.py:909: UserWarning: `tf.nn.rnn_cell.LSTMCell` is deprecated and will be removed in a future version. This class is equivalent as `tf.keras.layers.LSTMCell`, and will be replaced by that in Tensorflow 2.0.\n",
      "  warnings.warn(\"`tf.nn.rnn_cell.LSTMCell` is deprecated and will be \"\n",
      "C:\\Users\\Alice\\anaconda3\\lib\\site-packages\\tensorflow\\python\\keras\\engine\\base_layer_v1.py:1700: UserWarning: `layer.add_variable` is deprecated and will be removed in a future version. Please use `layer.add_weight` method instead.\n",
      "  warnings.warn('`layer.add_variable` is deprecated and '\n"
     ]
    },
    {
     "name": "stdout",
     "output_type": "stream",
     "text": [
      "Row No =  441\n",
      "Row No =  442\n",
      "Row No =  443\n",
      "Row No =  444\n",
      "Row No =  445\n",
      "Row No =  446\n",
      "Row No =  447\n",
      "Row No =  448\n",
      "Row No =  449\n",
      "fileCunt No =  45\n",
      "Row No =  450\n"
     ]
    },
    {
     "name": "stderr",
     "output_type": "stream",
     "text": [
      "C:\\Users\\Alice\\anaconda3\\lib\\site-packages\\tensorflow\\python\\keras\\layers\\legacy_rnn\\rnn_cell_impl.py:909: UserWarning: `tf.nn.rnn_cell.LSTMCell` is deprecated and will be removed in a future version. This class is equivalent as `tf.keras.layers.LSTMCell`, and will be replaced by that in Tensorflow 2.0.\n",
      "  warnings.warn(\"`tf.nn.rnn_cell.LSTMCell` is deprecated and will be \"\n",
      "C:\\Users\\Alice\\anaconda3\\lib\\site-packages\\tensorflow\\python\\keras\\engine\\base_layer_v1.py:1700: UserWarning: `layer.add_variable` is deprecated and will be removed in a future version. Please use `layer.add_weight` method instead.\n",
      "  warnings.warn('`layer.add_variable` is deprecated and '\n"
     ]
    },
    {
     "name": "stdout",
     "output_type": "stream",
     "text": [
      "Row No =  451\n",
      "Row No =  452\n",
      "Row No =  453\n",
      "Row No =  454\n",
      "Row No =  455\n",
      "Row No =  456\n",
      "Row No =  457\n",
      "Row No =  458\n",
      "Row No =  459\n",
      "fileCunt No =  46\n",
      "Row No =  460\n"
     ]
    },
    {
     "name": "stderr",
     "output_type": "stream",
     "text": [
      "C:\\Users\\Alice\\anaconda3\\lib\\site-packages\\tensorflow\\python\\keras\\layers\\legacy_rnn\\rnn_cell_impl.py:909: UserWarning: `tf.nn.rnn_cell.LSTMCell` is deprecated and will be removed in a future version. This class is equivalent as `tf.keras.layers.LSTMCell`, and will be replaced by that in Tensorflow 2.0.\n",
      "  warnings.warn(\"`tf.nn.rnn_cell.LSTMCell` is deprecated and will be \"\n",
      "C:\\Users\\Alice\\anaconda3\\lib\\site-packages\\tensorflow\\python\\keras\\engine\\base_layer_v1.py:1700: UserWarning: `layer.add_variable` is deprecated and will be removed in a future version. Please use `layer.add_weight` method instead.\n",
      "  warnings.warn('`layer.add_variable` is deprecated and '\n"
     ]
    },
    {
     "name": "stdout",
     "output_type": "stream",
     "text": [
      "Row No =  461\n",
      "Row No =  462\n",
      "Row No =  463\n",
      "Row No =  464\n",
      "Row No =  465\n",
      "Row No =  466\n",
      "Row No =  467\n",
      "Row No =  468\n",
      "Row No =  469\n",
      "fileCunt No =  47\n",
      "Row No =  470\n"
     ]
    },
    {
     "name": "stderr",
     "output_type": "stream",
     "text": [
      "C:\\Users\\Alice\\anaconda3\\lib\\site-packages\\tensorflow\\python\\keras\\layers\\legacy_rnn\\rnn_cell_impl.py:909: UserWarning: `tf.nn.rnn_cell.LSTMCell` is deprecated and will be removed in a future version. This class is equivalent as `tf.keras.layers.LSTMCell`, and will be replaced by that in Tensorflow 2.0.\n",
      "  warnings.warn(\"`tf.nn.rnn_cell.LSTMCell` is deprecated and will be \"\n",
      "C:\\Users\\Alice\\anaconda3\\lib\\site-packages\\tensorflow\\python\\keras\\engine\\base_layer_v1.py:1700: UserWarning: `layer.add_variable` is deprecated and will be removed in a future version. Please use `layer.add_weight` method instead.\n",
      "  warnings.warn('`layer.add_variable` is deprecated and '\n"
     ]
    },
    {
     "name": "stdout",
     "output_type": "stream",
     "text": [
      "Row No =  471\n",
      "Row No =  472\n",
      "Row No =  473\n",
      "Row No =  474\n",
      "Row No =  475\n",
      "Row No =  476\n",
      "Row No =  477\n",
      "Row No =  478\n",
      "Row No =  479\n",
      "fileCunt No =  48\n",
      "Row No =  480\n"
     ]
    },
    {
     "name": "stderr",
     "output_type": "stream",
     "text": [
      "C:\\Users\\Alice\\anaconda3\\lib\\site-packages\\tensorflow\\python\\keras\\layers\\legacy_rnn\\rnn_cell_impl.py:909: UserWarning: `tf.nn.rnn_cell.LSTMCell` is deprecated and will be removed in a future version. This class is equivalent as `tf.keras.layers.LSTMCell`, and will be replaced by that in Tensorflow 2.0.\n",
      "  warnings.warn(\"`tf.nn.rnn_cell.LSTMCell` is deprecated and will be \"\n",
      "C:\\Users\\Alice\\anaconda3\\lib\\site-packages\\tensorflow\\python\\keras\\engine\\base_layer_v1.py:1700: UserWarning: `layer.add_variable` is deprecated and will be removed in a future version. Please use `layer.add_weight` method instead.\n",
      "  warnings.warn('`layer.add_variable` is deprecated and '\n"
     ]
    },
    {
     "name": "stdout",
     "output_type": "stream",
     "text": [
      "Row No =  481\n",
      "Row No =  482\n",
      "Row No =  483\n",
      "Row No =  484\n",
      "Row No =  485\n",
      "Row No =  486\n",
      "Row No =  487\n",
      "Row No =  488\n",
      "Row No =  489\n",
      "fileCunt No =  49\n",
      "Row No =  490\n"
     ]
    },
    {
     "name": "stderr",
     "output_type": "stream",
     "text": [
      "C:\\Users\\Alice\\anaconda3\\lib\\site-packages\\tensorflow\\python\\keras\\layers\\legacy_rnn\\rnn_cell_impl.py:909: UserWarning: `tf.nn.rnn_cell.LSTMCell` is deprecated and will be removed in a future version. This class is equivalent as `tf.keras.layers.LSTMCell`, and will be replaced by that in Tensorflow 2.0.\n",
      "  warnings.warn(\"`tf.nn.rnn_cell.LSTMCell` is deprecated and will be \"\n",
      "C:\\Users\\Alice\\anaconda3\\lib\\site-packages\\tensorflow\\python\\keras\\engine\\base_layer_v1.py:1700: UserWarning: `layer.add_variable` is deprecated and will be removed in a future version. Please use `layer.add_weight` method instead.\n",
      "  warnings.warn('`layer.add_variable` is deprecated and '\n"
     ]
    },
    {
     "name": "stdout",
     "output_type": "stream",
     "text": [
      "Row No =  491\n",
      "Row No =  492\n",
      "Row No =  493\n",
      "Row No =  494\n",
      "Row No =  495\n",
      "Row No =  496\n",
      "Row No =  497\n",
      "Row No =  498\n",
      "Row No =  499\n",
      "fileCunt No =  50\n",
      "Row No =  500\n"
     ]
    },
    {
     "name": "stderr",
     "output_type": "stream",
     "text": [
      "C:\\Users\\Alice\\anaconda3\\lib\\site-packages\\tensorflow\\python\\keras\\layers\\legacy_rnn\\rnn_cell_impl.py:909: UserWarning: `tf.nn.rnn_cell.LSTMCell` is deprecated and will be removed in a future version. This class is equivalent as `tf.keras.layers.LSTMCell`, and will be replaced by that in Tensorflow 2.0.\n",
      "  warnings.warn(\"`tf.nn.rnn_cell.LSTMCell` is deprecated and will be \"\n",
      "C:\\Users\\Alice\\anaconda3\\lib\\site-packages\\tensorflow\\python\\keras\\engine\\base_layer_v1.py:1700: UserWarning: `layer.add_variable` is deprecated and will be removed in a future version. Please use `layer.add_weight` method instead.\n",
      "  warnings.warn('`layer.add_variable` is deprecated and '\n"
     ]
    },
    {
     "name": "stdout",
     "output_type": "stream",
     "text": [
      "Row No =  501\n",
      "Row No =  502\n",
      "Row No =  503\n",
      "Row No =  504\n",
      "Row No =  505\n",
      "Row No =  506\n",
      "Row No =  507\n",
      "Row No =  508\n",
      "Row No =  509\n",
      "fileCunt No =  51\n",
      "Row No =  510\n"
     ]
    },
    {
     "name": "stderr",
     "output_type": "stream",
     "text": [
      "C:\\Users\\Alice\\anaconda3\\lib\\site-packages\\tensorflow\\python\\keras\\layers\\legacy_rnn\\rnn_cell_impl.py:909: UserWarning: `tf.nn.rnn_cell.LSTMCell` is deprecated and will be removed in a future version. This class is equivalent as `tf.keras.layers.LSTMCell`, and will be replaced by that in Tensorflow 2.0.\n",
      "  warnings.warn(\"`tf.nn.rnn_cell.LSTMCell` is deprecated and will be \"\n",
      "C:\\Users\\Alice\\anaconda3\\lib\\site-packages\\tensorflow\\python\\keras\\engine\\base_layer_v1.py:1700: UserWarning: `layer.add_variable` is deprecated and will be removed in a future version. Please use `layer.add_weight` method instead.\n",
      "  warnings.warn('`layer.add_variable` is deprecated and '\n"
     ]
    },
    {
     "name": "stdout",
     "output_type": "stream",
     "text": [
      "Row No =  511\n",
      "Row No =  512\n",
      "Row No =  513\n",
      "Row No =  514\n",
      "Row No =  515\n",
      "Row No =  516\n",
      "Row No =  517\n",
      "Row No =  518\n",
      "Row No =  519\n",
      "fileCunt No =  52\n",
      "Row No =  520\n"
     ]
    },
    {
     "name": "stderr",
     "output_type": "stream",
     "text": [
      "C:\\Users\\Alice\\anaconda3\\lib\\site-packages\\tensorflow\\python\\keras\\layers\\legacy_rnn\\rnn_cell_impl.py:909: UserWarning: `tf.nn.rnn_cell.LSTMCell` is deprecated and will be removed in a future version. This class is equivalent as `tf.keras.layers.LSTMCell`, and will be replaced by that in Tensorflow 2.0.\n",
      "  warnings.warn(\"`tf.nn.rnn_cell.LSTMCell` is deprecated and will be \"\n",
      "C:\\Users\\Alice\\anaconda3\\lib\\site-packages\\tensorflow\\python\\keras\\engine\\base_layer_v1.py:1700: UserWarning: `layer.add_variable` is deprecated and will be removed in a future version. Please use `layer.add_weight` method instead.\n",
      "  warnings.warn('`layer.add_variable` is deprecated and '\n"
     ]
    },
    {
     "name": "stdout",
     "output_type": "stream",
     "text": [
      "Row No =  521\n",
      "Row No =  522\n",
      "Row No =  523\n",
      "Row No =  524\n",
      "Row No =  525\n",
      "Row No =  526\n",
      "Row No =  527\n",
      "Row No =  528\n",
      "Row No =  529\n",
      "fileCunt No =  53\n",
      "Row No =  530\n"
     ]
    },
    {
     "name": "stderr",
     "output_type": "stream",
     "text": [
      "C:\\Users\\Alice\\anaconda3\\lib\\site-packages\\tensorflow\\python\\keras\\layers\\legacy_rnn\\rnn_cell_impl.py:909: UserWarning: `tf.nn.rnn_cell.LSTMCell` is deprecated and will be removed in a future version. This class is equivalent as `tf.keras.layers.LSTMCell`, and will be replaced by that in Tensorflow 2.0.\n",
      "  warnings.warn(\"`tf.nn.rnn_cell.LSTMCell` is deprecated and will be \"\n",
      "C:\\Users\\Alice\\anaconda3\\lib\\site-packages\\tensorflow\\python\\keras\\engine\\base_layer_v1.py:1700: UserWarning: `layer.add_variable` is deprecated and will be removed in a future version. Please use `layer.add_weight` method instead.\n",
      "  warnings.warn('`layer.add_variable` is deprecated and '\n"
     ]
    },
    {
     "name": "stdout",
     "output_type": "stream",
     "text": [
      "Row No =  531\n",
      "Row No =  532\n",
      "Row No =  533\n",
      "Row No =  534\n",
      "Row No =  535\n",
      "Row No =  536\n",
      "Row No =  537\n",
      "Row No =  538\n",
      "Row No =  539\n",
      "fileCunt No =  54\n",
      "Row No =  540\n"
     ]
    },
    {
     "name": "stderr",
     "output_type": "stream",
     "text": [
      "C:\\Users\\Alice\\anaconda3\\lib\\site-packages\\tensorflow\\python\\keras\\layers\\legacy_rnn\\rnn_cell_impl.py:909: UserWarning: `tf.nn.rnn_cell.LSTMCell` is deprecated and will be removed in a future version. This class is equivalent as `tf.keras.layers.LSTMCell`, and will be replaced by that in Tensorflow 2.0.\n",
      "  warnings.warn(\"`tf.nn.rnn_cell.LSTMCell` is deprecated and will be \"\n",
      "C:\\Users\\Alice\\anaconda3\\lib\\site-packages\\tensorflow\\python\\keras\\engine\\base_layer_v1.py:1700: UserWarning: `layer.add_variable` is deprecated and will be removed in a future version. Please use `layer.add_weight` method instead.\n",
      "  warnings.warn('`layer.add_variable` is deprecated and '\n"
     ]
    },
    {
     "name": "stdout",
     "output_type": "stream",
     "text": [
      "Row No =  541\n",
      "Row No =  542\n",
      "Row No =  543\n",
      "Row No =  544\n",
      "Row No =  545\n",
      "Row No =  546\n",
      "Row No =  547\n",
      "Row No =  548\n",
      "Row No =  549\n",
      "fileCunt No =  55\n",
      "Row No =  550\n"
     ]
    },
    {
     "name": "stderr",
     "output_type": "stream",
     "text": [
      "C:\\Users\\Alice\\anaconda3\\lib\\site-packages\\tensorflow\\python\\keras\\layers\\legacy_rnn\\rnn_cell_impl.py:909: UserWarning: `tf.nn.rnn_cell.LSTMCell` is deprecated and will be removed in a future version. This class is equivalent as `tf.keras.layers.LSTMCell`, and will be replaced by that in Tensorflow 2.0.\n",
      "  warnings.warn(\"`tf.nn.rnn_cell.LSTMCell` is deprecated and will be \"\n",
      "C:\\Users\\Alice\\anaconda3\\lib\\site-packages\\tensorflow\\python\\keras\\engine\\base_layer_v1.py:1700: UserWarning: `layer.add_variable` is deprecated and will be removed in a future version. Please use `layer.add_weight` method instead.\n",
      "  warnings.warn('`layer.add_variable` is deprecated and '\n"
     ]
    },
    {
     "name": "stdout",
     "output_type": "stream",
     "text": [
      "Row No =  551\n",
      "Row No =  552\n",
      "Row No =  553\n",
      "Row No =  554\n",
      "Row No =  555\n",
      "Row No =  556\n",
      "Row No =  557\n",
      "Row No =  558\n",
      "Row No =  559\n",
      "fileCunt No =  56\n",
      "Row No =  560\n"
     ]
    },
    {
     "name": "stderr",
     "output_type": "stream",
     "text": [
      "C:\\Users\\Alice\\anaconda3\\lib\\site-packages\\tensorflow\\python\\keras\\layers\\legacy_rnn\\rnn_cell_impl.py:909: UserWarning: `tf.nn.rnn_cell.LSTMCell` is deprecated and will be removed in a future version. This class is equivalent as `tf.keras.layers.LSTMCell`, and will be replaced by that in Tensorflow 2.0.\n",
      "  warnings.warn(\"`tf.nn.rnn_cell.LSTMCell` is deprecated and will be \"\n",
      "C:\\Users\\Alice\\anaconda3\\lib\\site-packages\\tensorflow\\python\\keras\\engine\\base_layer_v1.py:1700: UserWarning: `layer.add_variable` is deprecated and will be removed in a future version. Please use `layer.add_weight` method instead.\n",
      "  warnings.warn('`layer.add_variable` is deprecated and '\n"
     ]
    },
    {
     "name": "stdout",
     "output_type": "stream",
     "text": [
      "Row No =  561\n",
      "Row No =  562\n",
      "Row No =  563\n",
      "Row No =  564\n",
      "Row No =  565\n",
      "Row No =  566\n",
      "Row No =  567\n",
      "Row No =  568\n",
      "Row No =  569\n",
      "fileCunt No =  57\n",
      "Row No =  570\n"
     ]
    },
    {
     "name": "stderr",
     "output_type": "stream",
     "text": [
      "C:\\Users\\Alice\\anaconda3\\lib\\site-packages\\tensorflow\\python\\keras\\layers\\legacy_rnn\\rnn_cell_impl.py:909: UserWarning: `tf.nn.rnn_cell.LSTMCell` is deprecated and will be removed in a future version. This class is equivalent as `tf.keras.layers.LSTMCell`, and will be replaced by that in Tensorflow 2.0.\n",
      "  warnings.warn(\"`tf.nn.rnn_cell.LSTMCell` is deprecated and will be \"\n",
      "C:\\Users\\Alice\\anaconda3\\lib\\site-packages\\tensorflow\\python\\keras\\engine\\base_layer_v1.py:1700: UserWarning: `layer.add_variable` is deprecated and will be removed in a future version. Please use `layer.add_weight` method instead.\n",
      "  warnings.warn('`layer.add_variable` is deprecated and '\n"
     ]
    },
    {
     "name": "stdout",
     "output_type": "stream",
     "text": [
      "Row No =  571\n",
      "Row No =  572\n",
      "Row No =  573\n",
      "Row No =  574\n",
      "Row No =  575\n",
      "Row No =  576\n",
      "Row No =  577\n",
      "Row No =  578\n",
      "Row No =  579\n",
      "fileCunt No =  58\n",
      "Row No =  580\n"
     ]
    },
    {
     "name": "stderr",
     "output_type": "stream",
     "text": [
      "C:\\Users\\Alice\\anaconda3\\lib\\site-packages\\tensorflow\\python\\keras\\layers\\legacy_rnn\\rnn_cell_impl.py:909: UserWarning: `tf.nn.rnn_cell.LSTMCell` is deprecated and will be removed in a future version. This class is equivalent as `tf.keras.layers.LSTMCell`, and will be replaced by that in Tensorflow 2.0.\n",
      "  warnings.warn(\"`tf.nn.rnn_cell.LSTMCell` is deprecated and will be \"\n",
      "C:\\Users\\Alice\\anaconda3\\lib\\site-packages\\tensorflow\\python\\keras\\engine\\base_layer_v1.py:1700: UserWarning: `layer.add_variable` is deprecated and will be removed in a future version. Please use `layer.add_weight` method instead.\n",
      "  warnings.warn('`layer.add_variable` is deprecated and '\n"
     ]
    },
    {
     "name": "stdout",
     "output_type": "stream",
     "text": [
      "Row No =  581\n",
      "Row No =  582\n",
      "Row No =  583\n",
      "Row No =  584\n",
      "Row No =  585\n",
      "Row No =  586\n",
      "Row No =  587\n",
      "Row No =  588\n",
      "Row No =  589\n",
      "fileCunt No =  59\n",
      "Row No =  590\n"
     ]
    },
    {
     "name": "stderr",
     "output_type": "stream",
     "text": [
      "C:\\Users\\Alice\\anaconda3\\lib\\site-packages\\tensorflow\\python\\keras\\layers\\legacy_rnn\\rnn_cell_impl.py:909: UserWarning: `tf.nn.rnn_cell.LSTMCell` is deprecated and will be removed in a future version. This class is equivalent as `tf.keras.layers.LSTMCell`, and will be replaced by that in Tensorflow 2.0.\n",
      "  warnings.warn(\"`tf.nn.rnn_cell.LSTMCell` is deprecated and will be \"\n",
      "C:\\Users\\Alice\\anaconda3\\lib\\site-packages\\tensorflow\\python\\keras\\engine\\base_layer_v1.py:1700: UserWarning: `layer.add_variable` is deprecated and will be removed in a future version. Please use `layer.add_weight` method instead.\n",
      "  warnings.warn('`layer.add_variable` is deprecated and '\n"
     ]
    },
    {
     "name": "stdout",
     "output_type": "stream",
     "text": [
      "Row No =  591\n",
      "Row No =  592\n",
      "Row No =  593\n",
      "Row No =  594\n",
      "Row No =  595\n",
      "Row No =  596\n",
      "Row No =  597\n",
      "Row No =  598\n",
      "Row No =  599\n",
      "fileCunt No =  60\n",
      "Row No =  600\n"
     ]
    },
    {
     "name": "stderr",
     "output_type": "stream",
     "text": [
      "C:\\Users\\Alice\\anaconda3\\lib\\site-packages\\tensorflow\\python\\keras\\layers\\legacy_rnn\\rnn_cell_impl.py:909: UserWarning: `tf.nn.rnn_cell.LSTMCell` is deprecated and will be removed in a future version. This class is equivalent as `tf.keras.layers.LSTMCell`, and will be replaced by that in Tensorflow 2.0.\n",
      "  warnings.warn(\"`tf.nn.rnn_cell.LSTMCell` is deprecated and will be \"\n",
      "C:\\Users\\Alice\\anaconda3\\lib\\site-packages\\tensorflow\\python\\keras\\engine\\base_layer_v1.py:1700: UserWarning: `layer.add_variable` is deprecated and will be removed in a future version. Please use `layer.add_weight` method instead.\n",
      "  warnings.warn('`layer.add_variable` is deprecated and '\n"
     ]
    },
    {
     "name": "stdout",
     "output_type": "stream",
     "text": [
      "Row No =  601\n",
      "Row No =  602\n",
      "Row No =  603\n",
      "Row No =  604\n",
      "Row No =  605\n",
      "Row No =  606\n",
      "Row No =  607\n",
      "Row No =  608\n",
      "Row No =  609\n",
      "fileCunt No =  61\n",
      "Row No =  610\n"
     ]
    },
    {
     "name": "stderr",
     "output_type": "stream",
     "text": [
      "C:\\Users\\Alice\\anaconda3\\lib\\site-packages\\tensorflow\\python\\keras\\layers\\legacy_rnn\\rnn_cell_impl.py:909: UserWarning: `tf.nn.rnn_cell.LSTMCell` is deprecated and will be removed in a future version. This class is equivalent as `tf.keras.layers.LSTMCell`, and will be replaced by that in Tensorflow 2.0.\n",
      "  warnings.warn(\"`tf.nn.rnn_cell.LSTMCell` is deprecated and will be \"\n",
      "C:\\Users\\Alice\\anaconda3\\lib\\site-packages\\tensorflow\\python\\keras\\engine\\base_layer_v1.py:1700: UserWarning: `layer.add_variable` is deprecated and will be removed in a future version. Please use `layer.add_weight` method instead.\n",
      "  warnings.warn('`layer.add_variable` is deprecated and '\n"
     ]
    },
    {
     "name": "stdout",
     "output_type": "stream",
     "text": [
      "Row No =  611\n",
      "Row No =  612\n",
      "Row No =  613\n",
      "Row No =  614\n",
      "Row No =  615\n",
      "Row No =  616\n",
      "Row No =  617\n",
      "Row No =  618\n",
      "Row No =  619\n",
      "fileCunt No =  62\n",
      "Row No =  620\n"
     ]
    },
    {
     "name": "stderr",
     "output_type": "stream",
     "text": [
      "C:\\Users\\Alice\\anaconda3\\lib\\site-packages\\tensorflow\\python\\keras\\layers\\legacy_rnn\\rnn_cell_impl.py:909: UserWarning: `tf.nn.rnn_cell.LSTMCell` is deprecated and will be removed in a future version. This class is equivalent as `tf.keras.layers.LSTMCell`, and will be replaced by that in Tensorflow 2.0.\n",
      "  warnings.warn(\"`tf.nn.rnn_cell.LSTMCell` is deprecated and will be \"\n",
      "C:\\Users\\Alice\\anaconda3\\lib\\site-packages\\tensorflow\\python\\keras\\engine\\base_layer_v1.py:1700: UserWarning: `layer.add_variable` is deprecated and will be removed in a future version. Please use `layer.add_weight` method instead.\n",
      "  warnings.warn('`layer.add_variable` is deprecated and '\n"
     ]
    },
    {
     "name": "stdout",
     "output_type": "stream",
     "text": [
      "Row No =  621\n",
      "Row No =  622\n",
      "Row No =  623\n",
      "Row No =  624\n",
      "Row No =  625\n",
      "Row No =  626\n",
      "Row No =  627\n",
      "Row No =  628\n",
      "Row No =  629\n",
      "fileCunt No =  63\n",
      "Row No =  630\n"
     ]
    },
    {
     "name": "stderr",
     "output_type": "stream",
     "text": [
      "C:\\Users\\Alice\\anaconda3\\lib\\site-packages\\tensorflow\\python\\keras\\layers\\legacy_rnn\\rnn_cell_impl.py:909: UserWarning: `tf.nn.rnn_cell.LSTMCell` is deprecated and will be removed in a future version. This class is equivalent as `tf.keras.layers.LSTMCell`, and will be replaced by that in Tensorflow 2.0.\n",
      "  warnings.warn(\"`tf.nn.rnn_cell.LSTMCell` is deprecated and will be \"\n",
      "C:\\Users\\Alice\\anaconda3\\lib\\site-packages\\tensorflow\\python\\keras\\engine\\base_layer_v1.py:1700: UserWarning: `layer.add_variable` is deprecated and will be removed in a future version. Please use `layer.add_weight` method instead.\n",
      "  warnings.warn('`layer.add_variable` is deprecated and '\n"
     ]
    },
    {
     "name": "stdout",
     "output_type": "stream",
     "text": [
      "Row No =  631\n",
      "Row No =  632\n",
      "Row No =  633\n",
      "Row No =  634\n",
      "Row No =  635\n",
      "Row No =  636\n",
      "Row No =  637\n",
      "Row No =  638\n",
      "Row No =  639\n",
      "fileCunt No =  64\n",
      "Row No =  640\n"
     ]
    },
    {
     "name": "stderr",
     "output_type": "stream",
     "text": [
      "C:\\Users\\Alice\\anaconda3\\lib\\site-packages\\tensorflow\\python\\keras\\layers\\legacy_rnn\\rnn_cell_impl.py:909: UserWarning: `tf.nn.rnn_cell.LSTMCell` is deprecated and will be removed in a future version. This class is equivalent as `tf.keras.layers.LSTMCell`, and will be replaced by that in Tensorflow 2.0.\n",
      "  warnings.warn(\"`tf.nn.rnn_cell.LSTMCell` is deprecated and will be \"\n",
      "C:\\Users\\Alice\\anaconda3\\lib\\site-packages\\tensorflow\\python\\keras\\engine\\base_layer_v1.py:1700: UserWarning: `layer.add_variable` is deprecated and will be removed in a future version. Please use `layer.add_weight` method instead.\n",
      "  warnings.warn('`layer.add_variable` is deprecated and '\n"
     ]
    },
    {
     "name": "stdout",
     "output_type": "stream",
     "text": [
      "Row No =  641\n",
      "Row No =  642\n",
      "Row No =  643\n",
      "Row No =  644\n",
      "Row No =  645\n",
      "Row No =  646\n",
      "Row No =  647\n",
      "Row No =  648\n",
      "Row No =  649\n",
      "fileCunt No =  65\n",
      "Row No =  650\n"
     ]
    },
    {
     "name": "stderr",
     "output_type": "stream",
     "text": [
      "C:\\Users\\Alice\\anaconda3\\lib\\site-packages\\tensorflow\\python\\keras\\layers\\legacy_rnn\\rnn_cell_impl.py:909: UserWarning: `tf.nn.rnn_cell.LSTMCell` is deprecated and will be removed in a future version. This class is equivalent as `tf.keras.layers.LSTMCell`, and will be replaced by that in Tensorflow 2.0.\n",
      "  warnings.warn(\"`tf.nn.rnn_cell.LSTMCell` is deprecated and will be \"\n",
      "C:\\Users\\Alice\\anaconda3\\lib\\site-packages\\tensorflow\\python\\keras\\engine\\base_layer_v1.py:1700: UserWarning: `layer.add_variable` is deprecated and will be removed in a future version. Please use `layer.add_weight` method instead.\n",
      "  warnings.warn('`layer.add_variable` is deprecated and '\n"
     ]
    },
    {
     "name": "stdout",
     "output_type": "stream",
     "text": [
      "Row No =  651\n",
      "Row No =  652\n",
      "Row No =  653\n",
      "Row No =  654\n",
      "Row No =  655\n",
      "Row No =  656\n",
      "Row No =  657\n",
      "Row No =  658\n",
      "Row No =  659\n",
      "fileCunt No =  66\n",
      "Row No =  660\n"
     ]
    },
    {
     "name": "stderr",
     "output_type": "stream",
     "text": [
      "C:\\Users\\Alice\\anaconda3\\lib\\site-packages\\tensorflow\\python\\keras\\layers\\legacy_rnn\\rnn_cell_impl.py:909: UserWarning: `tf.nn.rnn_cell.LSTMCell` is deprecated and will be removed in a future version. This class is equivalent as `tf.keras.layers.LSTMCell`, and will be replaced by that in Tensorflow 2.0.\n",
      "  warnings.warn(\"`tf.nn.rnn_cell.LSTMCell` is deprecated and will be \"\n",
      "C:\\Users\\Alice\\anaconda3\\lib\\site-packages\\tensorflow\\python\\keras\\engine\\base_layer_v1.py:1700: UserWarning: `layer.add_variable` is deprecated and will be removed in a future version. Please use `layer.add_weight` method instead.\n",
      "  warnings.warn('`layer.add_variable` is deprecated and '\n"
     ]
    },
    {
     "name": "stdout",
     "output_type": "stream",
     "text": [
      "Row No =  661\n",
      "fileCunt No =  67\n",
      "=====================================================================\n",
      "Totle NER Files =  67\n"
     ]
    }
   ],
   "source": [
    "#逐筆傳遞欄位 \"text\"\n",
    "jun_text = df[\"selectTerm\"]\n",
    "print(\"selectTerm 欄位筆數 = \",len(jun_text))\n",
    "print(\"------------------------------------------\")\n",
    "ls_class = list()\n",
    "ls_ner = list()\n",
    "fileCunt = 0\n",
    "rowCunt = 0\n",
    "for i in range(len(jun_text)):\n",
    "    rowCunt += 1\n",
    "    ls_dfRow = [jun_text[i]]\n",
    "    # print(\"ls_dfRow = \", ls_dfRow)\n",
    "    print(\"Row No = \",str(i))\n",
    "    entity_list = Extract_NER(ls_dfRow)\n",
    "    for j in range(len(entity_list[0])):\n",
    "        seg = entity_list[0].pop()\n",
    "        # print(\"seg = \",seg)\n",
    "        ls_class.append(seg[2])\n",
    "        ls_ner.append(seg[3])\n",
    "    #print(\"===========================================\")\n",
    "    #print(\"ls_class = \",ls_class)\n",
    "    #print(\"ls_ner = \",ls_ner)\n",
    "    # if i == 5 or rowCunt == 2:\n",
    "    if i == (len(jun_text)-1) or rowCunt == 10:\n",
    "        fileCunt += 1\n",
    "        extract_df = pd.DataFrame({'Class':ls_class, 'NER':ls_ner})\n",
    "        deDup_df = extract_df.drop_duplicates().copy()\n",
    "        del extract_df #去除重複\n",
    "        cate_df = deDup_df.loc[deDup_df['Class'].isin(['LOC','PERSON', 'ORG', 'LAW', 'EVENT','GPE','NORP'])].copy()\n",
    "        del deDup_df\n",
    "        filt_df = cate_df[cate_df['NER'].map(len) >= 2].copy()\n",
    "        del cate_df\n",
    "        NER_df = filt_df.sort_values(by=['Class']).copy()\n",
    "        del filt_df\n",
    "        #print(\"__________________________________________________________\")  \n",
    "        #print(NER_df)\n",
    "        print(\"fileCunt No = \",str(fileCunt))\n",
    "        NER_df.to_csv(r\"Ner out/NewsNER870_\" + str(fileCunt)+ \".csv\")\n",
    "        #NER_df.to_csv(r\"ner out/NerTest_\" + str(fileCunt)+ \".csv\")\n",
    "        rowCunt = 0\n",
    "print(\"=====================================================================\")\n",
    "print(\"Totle NER Files = \",fileCunt)\n"
   ]
  },
  {
   "cell_type": "code",
   "execution_count": 7,
   "metadata": {},
   "outputs": [
    {
     "name": "stdout",
     "output_type": "stream",
     "text": [
      "1250741\n"
     ]
    },
    {
     "data": {
      "text/html": [
       "<div>\n",
       "<style scoped>\n",
       "    .dataframe tbody tr th:only-of-type {\n",
       "        vertical-align: middle;\n",
       "    }\n",
       "\n",
       "    .dataframe tbody tr th {\n",
       "        vertical-align: top;\n",
       "    }\n",
       "\n",
       "    .dataframe thead th {\n",
       "        text-align: right;\n",
       "    }\n",
       "</style>\n",
       "<table border=\"1\" class=\"dataframe\">\n",
       "  <thead>\n",
       "    <tr style=\"text-align: right;\">\n",
       "      <th></th>\n",
       "      <th>NER</th>\n",
       "    </tr>\n",
       "    <tr>\n",
       "      <th>Class</th>\n",
       "      <th></th>\n",
       "    </tr>\n",
       "  </thead>\n",
       "  <tbody>\n",
       "    <tr>\n",
       "      <th>EVENT</th>\n",
       "      <td>57787</td>\n",
       "    </tr>\n",
       "    <tr>\n",
       "      <th>GPE</th>\n",
       "      <td>172213</td>\n",
       "    </tr>\n",
       "    <tr>\n",
       "      <th>LAW</th>\n",
       "      <td>10708</td>\n",
       "    </tr>\n",
       "    <tr>\n",
       "      <th>LOC</th>\n",
       "      <td>90336</td>\n",
       "    </tr>\n",
       "    <tr>\n",
       "      <th>NORP</th>\n",
       "      <td>21792</td>\n",
       "    </tr>\n",
       "    <tr>\n",
       "      <th>ORG</th>\n",
       "      <td>488948</td>\n",
       "    </tr>\n",
       "    <tr>\n",
       "      <th>PERSON</th>\n",
       "      <td>408957</td>\n",
       "    </tr>\n",
       "  </tbody>\n",
       "</table>\n",
       "</div>"
      ],
      "text/plain": [
       "           NER\n",
       "Class         \n",
       "EVENT    57787\n",
       "GPE     172213\n",
       "LAW      10708\n",
       "LOC      90336\n",
       "NORP     21792\n",
       "ORG     488948\n",
       "PERSON  408957"
      ]
     },
     "execution_count": 7,
     "metadata": {},
     "output_type": "execute_result"
    }
   ],
   "source": [
    "import glob\n",
    "# import pandas as pd\n",
    "\n",
    "path = r'Ner out'\n",
    "#path = r'ner out'\n",
    "allFiles = glob.glob(\"{}/*.csv\".format(path))\n",
    "li = []\n",
    "for filename in allFiles:\n",
    "    df = pd.read_csv(filename, index_col=0, header=0)\n",
    "    li.append(df)\n",
    "\n",
    "nerFrame = pd.concat(li, axis=0, ignore_index=True)\n",
    "print(len(nerFrame))\n",
    "nerFrame.groupby('Class').count()"
   ]
  },
  {
   "cell_type": "code",
   "execution_count": 8,
   "metadata": {},
   "outputs": [
    {
     "name": "stdout",
     "output_type": "stream",
     "text": [
      "10863\n"
     ]
    },
    {
     "data": {
      "text/html": [
       "<div>\n",
       "<style scoped>\n",
       "    .dataframe tbody tr th:only-of-type {\n",
       "        vertical-align: middle;\n",
       "    }\n",
       "\n",
       "    .dataframe tbody tr th {\n",
       "        vertical-align: top;\n",
       "    }\n",
       "\n",
       "    .dataframe thead th {\n",
       "        text-align: right;\n",
       "    }\n",
       "</style>\n",
       "<table border=\"1\" class=\"dataframe\">\n",
       "  <thead>\n",
       "    <tr style=\"text-align: right;\">\n",
       "      <th></th>\n",
       "      <th>NER</th>\n",
       "    </tr>\n",
       "    <tr>\n",
       "      <th>Class</th>\n",
       "      <th></th>\n",
       "    </tr>\n",
       "  </thead>\n",
       "  <tbody>\n",
       "    <tr>\n",
       "      <th>EVENT</th>\n",
       "      <td>538</td>\n",
       "    </tr>\n",
       "    <tr>\n",
       "      <th>GPE</th>\n",
       "      <td>1464</td>\n",
       "    </tr>\n",
       "    <tr>\n",
       "      <th>LAW</th>\n",
       "      <td>88</td>\n",
       "    </tr>\n",
       "    <tr>\n",
       "      <th>LOC</th>\n",
       "      <td>839</td>\n",
       "    </tr>\n",
       "    <tr>\n",
       "      <th>NORP</th>\n",
       "      <td>180</td>\n",
       "    </tr>\n",
       "    <tr>\n",
       "      <th>ORG</th>\n",
       "      <td>4144</td>\n",
       "    </tr>\n",
       "    <tr>\n",
       "      <th>PERSON</th>\n",
       "      <td>3610</td>\n",
       "    </tr>\n",
       "  </tbody>\n",
       "</table>\n",
       "</div>"
      ],
      "text/plain": [
       "         NER\n",
       "Class       \n",
       "EVENT    538\n",
       "GPE     1464\n",
       "LAW       88\n",
       "LOC      839\n",
       "NORP     180\n",
       "ORG     4144\n",
       "PERSON  3610"
      ]
     },
     "execution_count": 8,
     "metadata": {},
     "output_type": "execute_result"
    }
   ],
   "source": [
    "ddFrame = nerFrame.drop_duplicates().copy()\n",
    "print(len(ddFrame))\n",
    "ddFrame.groupby('Class').count()"
   ]
  },
  {
   "cell_type": "code",
   "execution_count": 9,
   "metadata": {},
   "outputs": [],
   "source": [
    "ddFrame.sort_values(by=['Class']).to_csv(r\"News Data/News NER Out/Ligis_NER.csv\")\n",
    "#ddFrame.sort_values(by=['Class']).to_csv(r\"ner out/NerTest.csv\")"
   ]
  },
  {
   "cell_type": "code",
   "execution_count": 10,
   "metadata": {},
   "outputs": [
    {
     "name": "stderr",
     "output_type": "stream",
     "text": [
      "IOPub data rate exceeded.\n",
      "The notebook server will temporarily stop sending output\n",
      "to the client in order to avoid crashing it.\n",
      "To change this limit, set the config variable\n",
      "`--NotebookApp.iopub_data_rate_limit`.\n",
      "\n",
      "Current values:\n",
      "NotebookApp.iopub_data_rate_limit=1000000.0 (bytes/sec)\n",
      "NotebookApp.rate_limit_window=3.0 (secs)\n",
      "\n"
     ]
    }
   ],
   "source": [
    "text_list = list(wf['selectTerm']) # 把所有message轉成一個list 用for iterate\n",
    "\n",
    "jun_str = ','.join(text_list)\n",
    "print(jun_str) #轉字串斷詞"
   ]
  },
  {
   "cell_type": "code",
   "execution_count": 11,
   "metadata": {},
   "outputs": [],
   "source": [
    "from ckiptagger import data_utils, construct_dictionary, WS, POS, NER\n",
    "import gc\n",
    "import tensorflow as tf\n",
    "# import keras\n",
    "\n",
    "# 載入 ckiptagger 自訂詞典\n",
    "User_Dict = {}\n",
    "with open(\"KCC Data/Dict/KccDict2020.txt\",\"r\", encoding='utf-8-sig') as UDicts:\n",
    "    for udic in UDicts:\n",
    "        udWord = udic.strip().split(\" \")\n",
    "        if len(udWord) > 1:\n",
    "            User_Dict[udWord[0]] = udWord[1]\n",
    "        else:\n",
    "            User_Dict[udWord[0]] = 100    # 未給定權重者一律賦予預設值 100               \n",
    "dictionary = construct_dictionary(User_Dict)"
   ]
  },
  {
   "cell_type": "code",
   "execution_count": 12,
   "metadata": {},
   "outputs": [
    {
     "name": "stderr",
     "output_type": "stream",
     "text": [
      "C:\\Users\\Alice\\anaconda3\\lib\\site-packages\\tensorflow\\python\\keras\\layers\\legacy_rnn\\rnn_cell_impl.py:909: UserWarning: `tf.nn.rnn_cell.LSTMCell` is deprecated and will be removed in a future version. This class is equivalent as `tf.keras.layers.LSTMCell`, and will be replaced by that in Tensorflow 2.0.\n",
      "  warnings.warn(\"`tf.nn.rnn_cell.LSTMCell` is deprecated and will be \"\n",
      "C:\\Users\\Alice\\anaconda3\\lib\\site-packages\\tensorflow\\python\\keras\\engine\\base_layer_v1.py:1700: UserWarning: `layer.add_variable` is deprecated and will be removed in a future version. Please use `layer.add_weight` method instead.\n",
      "  warnings.warn('`layer.add_variable` is deprecated and '\n"
     ]
    }
   ],
   "source": [
    "# 載入模型\n",
    "ws = WS(\"data\")\n",
    "# pos = POS(\"./data\")\n",
    "# ner = NER(\"./data\")"
   ]
  },
  {
   "cell_type": "code",
   "execution_count": 13,
   "metadata": {},
   "outputs": [],
   "source": [
    "# 載入 StopWord\n",
    "stopword_list = []\n",
    "with open(\"KCC Data/Dict/KccStopWord2020.txt\",\"r\", encoding='utf-8-sig') as stopwords:\n",
    "    for stopword in stopwords:\n",
    "        stopword_list.append(stopword.strip())"
   ]
  },
  {
   "cell_type": "code",
   "execution_count": 14,
   "metadata": {},
   "outputs": [
    {
     "name": "stdout",
     "output_type": "stream",
     "text": [
      "------------CKIPTagger Word Segment ws(jun_str,....) + 刪除標點及停用字 ---------------\n"
     ]
    },
    {
     "name": "stderr",
     "output_type": "stream",
     "text": [
      "IOPub data rate exceeded.\n",
      "The notebook server will temporarily stop sending output\n",
      "to the client in order to avoid crashing it.\n",
      "To change this limit, set the config variable\n",
      "`--NotebookApp.iopub_data_rate_limit`.\n",
      "\n",
      "Current values:\n",
      "NotebookApp.iopub_data_rate_limit=1000000.0 (bytes/sec)\n",
      "NotebookApp.rate_limit_window=3.0 (secs)\n",
      "\n"
     ]
    }
   ],
   "source": [
    "# 開始斷詞\n",
    "# sentence_segmentation = True,  => To consider delimiters\n",
    "# segment_delimiter_set = {\",\", \"。\", \":\", \"?\", \"!\", \";\"}), # This is the defualt set of delimiters\n",
    "# recommend_dictionary = dictionary1, # words in this dictionary are encouraged\n",
    "# coerce_dictionary = dictionary2, # words in this dictionary are forced\n",
    "strCut = ws([jun_str], sentence_segmentation=True,\n",
    "                 segment_delimiter_set = {'\"',\"\\r\\n\",\"，\",\"「\",\"」\",\",\",\"？\",'\\n', \"。\", \":\", \"?\", \"!\", \";\", \"、\"},\n",
    "                 coerce_dictionary = dictionary)\n",
    "\n",
    "print(\"------------CKIPTagger Word Segment ws(jun_str,....) + 刪除標點及停用字 ---------------\")\n",
    "stayed_lst= [] #斷好字的\n",
    "for word in strCut[0]:\n",
    "     # 刪除停用字\n",
    "    if word not in stopword_list:\n",
    "        stayed_lst.append(word)\n",
    "        \n",
    "print(\" \".join(stayed_lst))"
   ]
  },
  {
   "cell_type": "code",
   "execution_count": 16,
   "metadata": {},
   "outputs": [],
   "source": [
    "from gensim import corpora, models, utils\n",
    "from gensim.models import LdaModel, CoherenceModel"
   ]
  },
  {
   "cell_type": "code",
   "execution_count": 17,
   "metadata": {},
   "outputs": [
    {
     "name": "stdout",
     "output_type": "stream",
     "text": [
      "fList[:2] =  [['主任委員', '主委', '國正', '處長', '吉仲', '明通', '榮民', '退輔會', '農委會', '李副', '農民', '英鈐', '農業', '聰賢', '就業', '文化', '機組', '保基', '啟臣', '筱貞'], ['局長', '安全', '勝竹', '國安局', '行政院', '是否', '修正', '針對', '主席', '人員', '相關', '交通部', '酒駕', '各位', '同仁', '本院', '政府', '委員會', '民眾', '防疫']]\n",
      "------------------------------\n"
     ]
    }
   ],
   "source": [
    "fList = []\n",
    "with open(\"Ly Data/JunLDA.txt\",\"r\", encoding='utf-8-sig') as files:\n",
    "     for file in files:\n",
    "        #simple_preprocess: tokenize,去除標點 - gensim.utils.simple_preprocess(doc, deacc=False, min_len=2, max_len=15) \n",
    "        fList.append(list(utils.simple_preprocess(file, deacc=True, min_len=2,)))\n",
    "print(\"fList[:2] = \", fList[:2])\n",
    "print(\"------------------------------\")"
   ]
  },
  {
   "cell_type": "code",
   "execution_count": 18,
   "metadata": {},
   "outputs": [
    {
     "name": "stdout",
     "output_type": "stream",
     "text": [
      "dict =  Dictionary(167 unique tokens: ['主任委員', '主委', '保基', '吉仲', '啟臣']...)\n",
      "------------------------------\n"
     ]
    }
   ],
   "source": [
    "dict = corpora.Dictionary(fList)\n",
    "print(\"dict = \", dict)\n",
    "print(\"------------------------------\")"
   ]
  },
  {
   "cell_type": "code",
   "execution_count": 19,
   "metadata": {},
   "outputs": [
    {
     "name": "stdout",
     "output_type": "stream",
     "text": [
      "corpus[:1] =  [[(0, 1), (1, 1), (2, 1), (3, 1), (4, 1), (5, 1), (6, 1), (7, 1), (8, 1), (9, 1), (10, 1), (11, 1), (12, 1), (13, 1), (14, 1), (15, 1), (16, 1), (17, 1), (18, 1), (19, 1)]]\n",
      "------------------------------\n",
      "print lists of [word:frequency]\n",
      "('主任委員', 1)\n",
      "('主委', 1)\n",
      "('保基', 1)\n",
      "('吉仲', 1)\n",
      "('啟臣', 1)\n",
      "('國正', 1)\n",
      "('就業', 1)\n",
      "('文化', 1)\n",
      "('明通', 1)\n",
      "('李副', 1)\n",
      "('榮民', 1)\n",
      "('機組', 1)\n",
      "('筱貞', 1)\n",
      "('聰賢', 1)\n",
      "('英鈐', 1)\n",
      "('處長', 1)\n",
      "('農委會', 1)\n",
      "('農業', 1)\n",
      "('農民', 1)\n",
      "('退輔會', 1)\n",
      "======================================================\n"
     ]
    }
   ],
   "source": [
    "# creat mapping matrix of [word_id, word_frequency] for each word segment\n",
    "corpus = [dict.doc2bow(text) for text in fList]   \n",
    "print(\"corpus[:1] = \", corpus[:1])   \n",
    "print(\"------------------------------\")\n",
    "\n",
    "print(\"print lists of [word:frequency]\")\n",
    "[[print((dict[id], freq)) for id,freq in cp] for cp in corpus[:1]]\n",
    "print(\"======================================================\")"
   ]
  },
  {
   "cell_type": "code",
   "execution_count": 20,
   "metadata": {},
   "outputs": [
    {
     "name": "stdout",
     "output_type": "stream",
     "text": [
      "strTM =  00.030*\"但是\" + 0.030*\"一個\" + 0.030*\"部長\" + 0.030*\"外交部\" + 0.030*\"次長\" + 0.030*\"沒有\" + 0.030*\"如果\" + 0.030*\"國家\" + 0.030*\"有沒有\" + 0.030*\"國際\" + 0.030*\"臺灣\" + 0.030*\"委員\" + 0.030*\"美國\" + 0.030*\"所以\" + 0.030*\"我們\" + 0.030*\"就是\" + 0.030*\"啟臣\" + 0.030*\"這個\" + 0.030*\"總統\" + 0.030*\"什麼\"\n",
      "\n",
      "strTM =  10.030*\"主席\" + 0.030*\"因為\" + 0.030*\"一個\" + 0.030*\"他們\" + 0.030*\"這些\" + 0.030*\"部長\" + 0.030*\"這樣\" + 0.030*\"這個\" + 0.030*\"不是\" + 0.030*\"現在\" + 0.030*\"你們\" + 0.030*\"可以\" + 0.030*\"問題\" + 0.030*\"沒有\" + 0.030*\"如果\" + 0.030*\"委員\" + 0.030*\"就是\" + 0.030*\"我們\" + 0.030*\"所以\" + 0.030*\"啟臣\"\n",
      "\n",
      "strTM =  20.030*\"文化\" + 0.030*\"農民\" + 0.030*\"農業\" + 0.030*\"農委會\" + 0.030*\"退輔會\" + 0.030*\"英鈐\" + 0.030*\"主任委員\" + 0.030*\"筱貞\" + 0.030*\"機組\" + 0.030*\"榮民\" + 0.030*\"李副\" + 0.030*\"明通\" + 0.030*\"就業\" + 0.030*\"國正\" + 0.030*\"啟臣\" + 0.030*\"吉仲\" + 0.030*\"保基\" + 0.030*\"處長\" + 0.030*\"主委\" + 0.030*\"聰賢\"\n",
      "\n",
      "strTM =  30.030*\"學校\" + 0.030*\"教育\" + 0.030*\"會報\" + 0.030*\"大學\" + 0.030*\"法務部\" + 0.030*\"酒害\" + 0.030*\"教育部\" + 0.030*\"毒品\" + 0.030*\"防制\" + 0.030*\"俊榮\" + 0.030*\"國勇\" + 0.030*\"吸毒\" + 0.030*\"公克\" + 0.030*\"酒駕\" + 0.030*\"人才\" + 0.030*\"二級\" + 0.030*\"三級\" + 0.030*\"學生\" + 0.030*\"家長\" + 0.030*\"思華\"\n",
      "\n",
      "strTM =  40.030*\"校級\" + 0.030*\"外問\" + 0.030*\"公外\" + 0.030*\"校友\" + 0.030*\"外行\" + 0.030*\"情報人員\" + 0.030*\"延緩\" + 0.030*\"敵我\" + 0.030*\"生智\" + 0.030*\"翔宙\" + 0.030*\"藍皮書\" + 0.030*\"計算公式\" + 0.030*\"超穩定\" + 0.030*\"適任\" + 0.030*\"選上\" + 0.030*\"陳俊生\" + 0.030*\"養生\" + 0.030*\"校友會\" + 0.030*\"定宇\" + 0.030*\"末代\"\n",
      "\n",
      "strTM =  50.006*\"志嘉\" + 0.006*\"年金\" + 0.006*\"能源\" + 0.006*\"秘書長\" + 0.006*\"法案\" + 0.006*\"立法院\" + 0.006*\"議長\" + 0.006*\"常態\" + 0.006*\"燃煤\" + 0.006*\"國民黨\" + 0.006*\"中立\" + 0.006*\"改革\" + 0.006*\"憲法\" + 0.006*\"議事\" + 0.006*\"公務員\" + 0.006*\"清德\" + 0.006*\"討論\" + 0.006*\"銘謙\" + 0.006*\"通過\" + 0.006*\"公務人員\"\n",
      "\n",
      "strTM =  60.014*\"改領\" + 0.014*\"繳的\" + 0.014*\"新陳代謝\" + 0.014*\"因故\" + 0.014*\"年革\" + 0.014*\"年滿\" + 0.014*\"屬意\" + 0.014*\"就視\" + 0.014*\"小小\" + 0.014*\"嫩妻\" + 0.014*\"單地\" + 0.014*\"勞一體\" + 0.014*\"再婚\" + 0.014*\"個人帳戶\" + 0.014*\"人偷\" + 0.014*\"二擇\" + 0.014*\"二分法\" + 0.014*\"年邁\" + 0.014*\"殆盡\" + 0.014*\"正想\"\n",
      "\n",
      "strTM =  70.006*\"委員會\" + 0.006*\"交通部\" + 0.006*\"勝竹\" + 0.006*\"安全\" + 0.006*\"是否\" + 0.006*\"各位\" + 0.006*\"相關\" + 0.006*\"政府\" + 0.006*\"防疫\" + 0.006*\"民眾\" + 0.006*\"行政院\" + 0.006*\"針對\" + 0.006*\"同仁\" + 0.006*\"局長\" + 0.006*\"主席\" + 0.006*\"人員\" + 0.006*\"本院\" + 0.006*\"酒駕\" + 0.006*\"國安局\" + 0.006*\"修正\"\n",
      "\n",
      "strTM =  80.030*\"張達京\" + 0.030*\"地方\" + 0.030*\"三線\" + 0.030*\"苗栗\" + 0.030*\"營造\" + 0.030*\"保存\" + 0.030*\"委會\" + 0.030*\"永得\" + 0.030*\"東勢\" + 0.030*\"意象\" + 0.030*\"客語\" + 0.030*\"文化\" + 0.030*\"中央\" + 0.030*\"客庄\" + 0.030*\"聚落\" + 0.030*\"客家人\" + 0.030*\"創生\" + 0.030*\"大埔\" + 0.030*\"客家\" + 0.030*\"浪漫\"\n",
      "\n",
      "strTM =  90.030*\"什麼\" + 0.030*\"這個\" + 0.030*\"啟臣\" + 0.030*\"就是\" + 0.030*\"我們\" + 0.030*\"所以\" + 0.030*\"委員\" + 0.030*\"如果\" + 0.030*\"沒有\" + 0.030*\"次長\" + 0.030*\"現在\" + 0.030*\"這樣\" + 0.030*\"行政院\" + 0.030*\"你們\" + 0.030*\"問題\" + 0.030*\"主席\" + 0.030*\"不是\" + 0.030*\"可以\" + 0.030*\"院長\" + 0.030*\"因為\"\n",
      "\n",
      "------------------------------\n",
      "Perplexity =  -5.849484735131264\n",
      "------------------------------\n",
      "\n",
      " Coherence Score:  0.9897987981423819\n"
     ]
    }
   ],
   "source": [
    "lda_model = models.ldamodel.LdaModel(corpus=corpus, id2word= dict, num_topics=10, passes=20, alpha='auto', chunksize=50, per_word_topics=True)\n",
    "# print(ldamodel.print_topics())   列出最重要的前若干个主题\n",
    "\n",
    "output = open(\"KCC Data/NewsCisTest-KccDict2020-LDA-TopicNum10_hsu.txt\", 'w', encoding='utf-8-sig')\n",
    "lstTM = lda_model.print_topics(num_topics=10, num_words=20)\n",
    "for tupleTM in lstTM:\n",
    "        str1 = \"\".join(str(x) for x in tupleTM)\n",
    "        #print(\"type(str1) = \", type(str1))\n",
    "        str1 += \"\\n\"\n",
    "        print(\"strTM = \", str1)\n",
    "        output.write(str1)\n",
    "output.close()\n",
    " \n",
    "print(\"------------------------------\")\n",
    "print(\"Perplexity = \", lda_model.log_perplexity(corpus))\n",
    "\n",
    "print(\"------------------------------\")\n",
    "cm = CoherenceModel(model=lda_model, texts=list(fList), dictionary=dict, coherence= 'c_v' )\n",
    "coher_lda = cm.get_coherence()\n",
    "print(\"\\n Coherence Score: \", coher_lda)"
   ]
  },
  {
   "cell_type": "code",
   "execution_count": 21,
   "metadata": {},
   "outputs": [
    {
     "name": "stderr",
     "output_type": "stream",
     "text": [
      "C:\\Users\\Alice\\anaconda3\\lib\\site-packages\\sklearn\\linear_model\\_least_angle.py:34: DeprecationWarning: `np.float` is a deprecated alias for the builtin `float`. To silence this warning, use `float` by itself. Doing this will not modify any behavior and is safe. If you specifically wanted the numpy scalar type, use `np.float64` here.\n",
      "Deprecated in NumPy 1.20; for more details and guidance: https://numpy.org/devdocs/release/1.20.0-notes.html#deprecations\n",
      "  method='lar', copy_X=True, eps=np.finfo(np.float).eps,\n",
      "C:\\Users\\Alice\\anaconda3\\lib\\site-packages\\sklearn\\linear_model\\_least_angle.py:164: DeprecationWarning: `np.float` is a deprecated alias for the builtin `float`. To silence this warning, use `float` by itself. Doing this will not modify any behavior and is safe. If you specifically wanted the numpy scalar type, use `np.float64` here.\n",
      "Deprecated in NumPy 1.20; for more details and guidance: https://numpy.org/devdocs/release/1.20.0-notes.html#deprecations\n",
      "  method='lar', copy_X=True, eps=np.finfo(np.float).eps,\n",
      "C:\\Users\\Alice\\anaconda3\\lib\\site-packages\\sklearn\\linear_model\\_least_angle.py:281: DeprecationWarning: `np.float` is a deprecated alias for the builtin `float`. To silence this warning, use `float` by itself. Doing this will not modify any behavior and is safe. If you specifically wanted the numpy scalar type, use `np.float64` here.\n",
      "Deprecated in NumPy 1.20; for more details and guidance: https://numpy.org/devdocs/release/1.20.0-notes.html#deprecations\n",
      "  eps=np.finfo(np.float).eps, copy_Gram=True, verbose=0,\n",
      "C:\\Users\\Alice\\anaconda3\\lib\\site-packages\\sklearn\\linear_model\\_least_angle.py:865: DeprecationWarning: `np.float` is a deprecated alias for the builtin `float`. To silence this warning, use `float` by itself. Doing this will not modify any behavior and is safe. If you specifically wanted the numpy scalar type, use `np.float64` here.\n",
      "Deprecated in NumPy 1.20; for more details and guidance: https://numpy.org/devdocs/release/1.20.0-notes.html#deprecations\n",
      "  eps=np.finfo(np.float).eps, copy_X=True, fit_path=True,\n",
      "C:\\Users\\Alice\\anaconda3\\lib\\site-packages\\sklearn\\linear_model\\_least_angle.py:1121: DeprecationWarning: `np.float` is a deprecated alias for the builtin `float`. To silence this warning, use `float` by itself. Doing this will not modify any behavior and is safe. If you specifically wanted the numpy scalar type, use `np.float64` here.\n",
      "Deprecated in NumPy 1.20; for more details and guidance: https://numpy.org/devdocs/release/1.20.0-notes.html#deprecations\n",
      "  eps=np.finfo(np.float).eps, copy_X=True, fit_path=True,\n",
      "C:\\Users\\Alice\\anaconda3\\lib\\site-packages\\sklearn\\linear_model\\_least_angle.py:1149: DeprecationWarning: `np.float` is a deprecated alias for the builtin `float`. To silence this warning, use `float` by itself. Doing this will not modify any behavior and is safe. If you specifically wanted the numpy scalar type, use `np.float64` here.\n",
      "Deprecated in NumPy 1.20; for more details and guidance: https://numpy.org/devdocs/release/1.20.0-notes.html#deprecations\n",
      "  eps=np.finfo(np.float).eps, positive=False):\n",
      "C:\\Users\\Alice\\anaconda3\\lib\\site-packages\\sklearn\\linear_model\\_least_angle.py:1379: DeprecationWarning: `np.float` is a deprecated alias for the builtin `float`. To silence this warning, use `float` by itself. Doing this will not modify any behavior and is safe. If you specifically wanted the numpy scalar type, use `np.float64` here.\n",
      "Deprecated in NumPy 1.20; for more details and guidance: https://numpy.org/devdocs/release/1.20.0-notes.html#deprecations\n",
      "  max_n_alphas=1000, n_jobs=None, eps=np.finfo(np.float).eps,\n",
      "C:\\Users\\Alice\\anaconda3\\lib\\site-packages\\sklearn\\linear_model\\_least_angle.py:1621: DeprecationWarning: `np.float` is a deprecated alias for the builtin `float`. To silence this warning, use `float` by itself. Doing this will not modify any behavior and is safe. If you specifically wanted the numpy scalar type, use `np.float64` here.\n",
      "Deprecated in NumPy 1.20; for more details and guidance: https://numpy.org/devdocs/release/1.20.0-notes.html#deprecations\n",
      "  max_n_alphas=1000, n_jobs=None, eps=np.finfo(np.float).eps,\n",
      "C:\\Users\\Alice\\anaconda3\\lib\\site-packages\\sklearn\\linear_model\\_least_angle.py:1755: DeprecationWarning: `np.float` is a deprecated alias for the builtin `float`. To silence this warning, use `float` by itself. Doing this will not modify any behavior and is safe. If you specifically wanted the numpy scalar type, use `np.float64` here.\n",
      "Deprecated in NumPy 1.20; for more details and guidance: https://numpy.org/devdocs/release/1.20.0-notes.html#deprecations\n",
      "  eps=np.finfo(np.float).eps, copy_X=True, positive=False):\n",
      "C:\\Users\\Alice\\anaconda3\\lib\\site-packages\\sklearn\\decomposition\\_lda.py:28: DeprecationWarning: `np.float` is a deprecated alias for the builtin `float`. To silence this warning, use `float` by itself. Doing this will not modify any behavior and is safe. If you specifically wanted the numpy scalar type, use `np.float64` here.\n",
      "Deprecated in NumPy 1.20; for more details and guidance: https://numpy.org/devdocs/release/1.20.0-notes.html#deprecations\n",
      "  EPS = np.finfo(np.float).eps\n"
     ]
    }
   ],
   "source": [
    "import pyLDAvis\n",
    "import pyLDAvis.gensim #import pyLDAvis.gensim_models\n",
    "import matplotlib.pyplot as plt\n",
    "%matplotlib inline"
   ]
  },
  {
   "cell_type": "code",
   "execution_count": 22,
   "metadata": {},
   "outputs": [
    {
     "name": "stderr",
     "output_type": "stream",
     "text": [
      "C:\\Users\\Alice\\anaconda3\\lib\\site-packages\\ipykernel\\ipkernel.py:287: DeprecationWarning: `should_run_async` will not call `transform_cell` automatically in the future. Please pass the result to `transformed_cell` argument and any exception that happen during thetransform in `preprocessing_exc_tuple` in IPython 7.17 and above.\n",
      "  and should_run_async(code)\n"
     ]
    },
    {
     "data": {
      "text/html": [
       "\n",
       "<link rel=\"stylesheet\" type=\"text/css\" href=\"https://cdn.jsdelivr.net/gh/bmabey/pyLDAvis@3.2.2/pyLDAvis/js/ldavis.v1.0.0.css\">\n",
       "\n",
       "\n",
       "<div id=\"ldavis_el1454426336916678082425265332\"></div>\n",
       "<script type=\"text/javascript\">\n",
       "\n",
       "var ldavis_el1454426336916678082425265332_data = {\"mdsDat\": {\"x\": [-0.11425066793119319, 0.12630428734610646, -0.02657122453074511, 0.13032921009876616, -0.05539836559636446, -0.06326312966794312, -0.05779874396976141, 0.12046139642676067, -0.02990680774362593, -0.029905954431999983], \"y\": [0.18037405329637518, 0.033047271383136796, -0.0709959302105143, 0.024012490315361425, -0.06741513474978494, -0.03943914419461253, -0.08187652676359126, 0.007464860724451559, 0.007416509188311686, 0.0074115510108663605], \"topics\": [1, 2, 3, 4, 5, 6, 7, 8, 9, 10], \"cluster\": [1, 1, 1, 1, 1, 1, 1, 1, 1, 1], \"Freq\": [29.84432733271072, 9.997014187493756, 9.99675713315863, 9.992589390272366, 9.992588298296685, 9.992587590491551, 9.99251216151463, 9.992405107152452, 0.09967708739496374, 0.09954171151424908]}, \"tinfo\": {\"Term\": [\"\\u555f\\u81e3\", \"\\u6211\\u5011\", \"\\u5c31\\u662f\", \"\\u59d4\\u54e1\", \"\\u5982\\u679c\", \"\\u6c92\\u6709\", \"\\u6240\\u4ee5\", \"\\u9019\\u500b\", \"\\u4e3b\\u5e2d\", \"\\u4ec0\\u9ebc\", \"\\u6b21\\u9577\", \"\\u6587\\u5316\", \"\\u73fe\\u5728\", \"\\u9019\\u6a23\", \"\\u4e0d\\u662f\", \"\\u56e0\\u70ba\", \"\\u554f\\u984c\", \"\\u53ef\\u4ee5\", \"\\u4f60\\u5011\", \"\\u4e00\\u500b\", \"\\u90e8\\u9577\", \"\\u9152\\u99d5\", \"\\u884c\\u653f\\u9662\", \"\\u4e3b\\u4efb\\u59d4\\u54e1\", \"\\u8fb2\\u6c11\", \"\\u8fb2\\u696d\", \"\\u9000\\u8f14\\u6703\", \"\\u8655\\u9577\", \"\\u82f1\\u9210\", \"\\u7b71\\u8c9e\", \"\\u4e8c\\u5206\\u6cd5\", \"\\u4e8c\\u64c7\", \"\\u4eba\\u5077\", \"\\u500b\\u4eba\\u5e33\\u6236\", \"\\u518d\\u5a5a\", \"\\u52de\\u4e00\\u9ad4\", \"\\u55ae\\u5730\", \"\\u56e0\\u6545\", \"\\u5ae9\\u59bb\", \"\\u5c0f\\u5c0f\", \"\\u5c31\\u8996\", \"\\u5c6c\\u610f\", \"\\u5e74\\u6eff\", \"\\u5e74\\u9081\", \"\\u5e74\\u9769\", \"\\u6539\\u9818\", \"\\u65b0\\u9673\\u4ee3\\u8b1d\", \"\\u6b63\\u60f3\", \"\\u6b86\\u76e1\", \"\\u7e73\\u7684\", \"\\u516c\\u52d9\\u4eba\\u54e1\", \"\\u901a\\u904e\", \"\\u9298\\u8b19\", \"\\u8a0e\\u8ad6\", \"\\u6e05\\u5fb7\", \"\\u516c\\u52d9\\u54e1\", \"\\u8b70\\u4e8b\", \"\\u61b2\\u6cd5\", \"\\u6539\\u9769\", \"\\u4fee\\u6b63\", \"\\u9662\\u9577\", \"\\u4ec0\\u9ebc\", \"\\u6b21\\u9577\", \"\\u4e0d\\u662f\", \"\\u4f60\\u5011\", \"\\u53ef\\u4ee5\", \"\\u554f\\u984c\", \"\\u56e0\\u70ba\", \"\\u73fe\\u5728\", \"\\u9019\\u6a23\", \"\\u884c\\u653f\\u9662\", \"\\u9019\\u500b\", \"\\u5c31\\u662f\", \"\\u6211\\u5011\", \"\\u6240\\u4ee5\", \"\\u59d4\\u54e1\", \"\\u5982\\u679c\", \"\\u6c92\\u6709\", \"\\u4e3b\\u5e2d\", \"\\u555f\\u81e3\", \"\\u7e3d\\u7d71\", \"\\u7f8e\\u570b\", \"\\u81fa\\u7063\", \"\\u570b\\u969b\", \"\\u6709\\u6c92\\u6709\", \"\\u570b\\u5bb6\", \"\\u5916\\u4ea4\\u90e8\", \"\\u4f46\\u662f\", \"\\u516c\\u5916\", \"\\u5916\\u554f\", \"\\u90e8\\u9577\", \"\\u4e00\\u500b\", \"\\u4e3b\\u4efb\\u59d4\\u54e1\", \"\\u4fdd\\u57fa\", \"\\u5409\\u4ef2\", \"\\u570b\\u6b63\", \"\\u5c31\\u696d\", \"\\u660e\\u901a\", \"\\u674e\\u526f\", \"\\u69ae\\u6c11\", \"\\u6a5f\\u7d44\", \"\\u7b71\\u8c9e\", \"\\u82f1\\u9210\", \"\\u8655\\u9577\", \"\\u8fb2\\u59d4\\u6703\", \"\\u8fb2\\u696d\", \"\\u8fb2\\u6c11\", \"\\u9000\\u8f14\\u6703\", \"\\u4e3b\\u59d4\", \"\\u8070\\u8ce2\", \"\\u6587\\u5316\", \"\\u555f\\u81e3\", \"\\u6d6a\\u6f2b\", \"\\u5ba2\\u5bb6\", \"\\u5927\\u57d4\", \"\\u5275\\u751f\", \"\\u5ba2\\u5bb6\\u4eba\", \"\\u805a\\u843d\", \"\\u5ba2\\u5e84\", \"\\u4e2d\\u592e\", \"\\u610f\\u8c61\", \"\\u5ba2\\u8a9e\", \"\\u4ed6\\u5011\", \"\\u9019\\u4e9b\", \"\\u90e8\\u9577\", \"\\u4e00\\u500b\", \"\\u4e0d\\u662f\", \"\\u4f60\\u5011\", \"\\u53ef\\u4ee5\", \"\\u554f\\u984c\", \"\\u56e0\\u70ba\", \"\\u73fe\\u5728\", \"\\u9019\\u6a23\", \"\\u9019\\u500b\", \"\\u6240\\u4ee5\", \"\\u6c92\\u6709\", \"\\u5982\\u679c\", \"\\u59d4\\u54e1\", \"\\u5c31\\u662f\", \"\\u6211\\u5011\", \"\\u4e3b\\u5e2d\", \"\\u555f\\u81e3\", \"\\u516c\\u5916\", \"\\u5916\\u554f\", \"\\u5916\\u884c\", \"\\u5b9a\\u5b87\", \"\\u5ef6\\u7de9\", \"\\u60c5\\u5831\\u4eba\\u54e1\", \"\\u6575\\u6211\", \"\\u672b\\u4ee3\", \"\\u6821\\u53cb\", \"\\u6821\\u53cb\\u6703\", \"\\u4e3b\\u4efb\\u59d4\\u54e1\", \"\\u4e3b\\u59d4\", \"\\u4fdd\\u57fa\", \"\\u5409\\u4ef2\", \"\\u570b\\u6b63\", \"\\u5c31\\u696d\", \"\\u6587\\u5316\", \"\\u660e\\u901a\", \"\\u674e\\u526f\", \"\\u69ae\\u6c11\", \"\\u516c\\u5916\", \"\\u5916\\u554f\", \"\\u5916\\u884c\", \"\\u5b9a\\u5b87\", \"\\u5ef6\\u7de9\", \"\\u60c5\\u5831\\u4eba\\u54e1\", \"\\u6575\\u6211\", \"\\u672b\\u4ee3\", \"\\u6821\\u53cb\", \"\\u6821\\u53cb\\u6703\", \"\\u6821\\u7d1a\", \"\\u751f\\u667a\", \"\\u7fd4\\u5b99\", \"\\u85cd\\u76ae\\u66f8\", \"\\u8a08\\u7b97\\u516c\\u5f0f\", \"\\u8d85\\u7a69\\u5b9a\", \"\\u9069\\u4efb\", \"\\u9078\\u4e0a\", \"\\u9673\\u4fca\\u751f\", \"\\u990a\\u751f\", \"\\u4e09\\u7d1a\", \"\\u4e8c\\u7d1a\", \"\\u4eba\\u624d\", \"\\u4fca\\u69ae\", \"\\u516c\\u514b\", \"\\u5438\\u6bd2\", \"\\u570b\\u52c7\", \"\\u5927\\u5b78\", \"\\u5b78\\u6821\", \"\\u5b78\\u751f\", \"\\u4e3b\\u4efb\\u59d4\\u54e1\", \"\\u4e3b\\u59d4\", \"\\u4fdd\\u57fa\", \"\\u5409\\u4ef2\", \"\\u555f\\u81e3\", \"\\u570b\\u6b63\", \"\\u5c31\\u696d\", \"\\u6587\\u5316\", \"\\u660e\\u901a\", \"\\u674e\\u526f\", \"\\u4e09\\u7d1a\", \"\\u4e8c\\u7d1a\", \"\\u4eba\\u624d\", \"\\u4fca\\u69ae\", \"\\u516c\\u514b\", \"\\u5438\\u6bd2\", \"\\u570b\\u52c7\", \"\\u5927\\u5b78\", \"\\u5b78\\u6821\", \"\\u5b78\\u751f\", \"\\u5bb6\\u9577\", \"\\u601d\\u83ef\", \"\\u6559\\u80b2\", \"\\u6559\\u80b2\\u90e8\", \"\\u6703\\u5831\", \"\\u6bd2\\u54c1\", \"\\u6cd5\\u52d9\\u90e8\", \"\\u9152\\u5bb3\", \"\\u9632\\u5236\", \"\\u9152\\u99d5\", \"\\u516c\\u5916\", \"\\u5916\\u554f\", \"\\u5916\\u884c\", \"\\u5b9a\\u5b87\", \"\\u5ef6\\u7de9\", \"\\u60c5\\u5831\\u4eba\\u54e1\", \"\\u6575\\u6211\", \"\\u672b\\u4ee3\", \"\\u6821\\u53cb\", \"\\u6821\\u53cb\\u6703\", \"\\u4e3b\\u4efb\\u59d4\\u54e1\", \"\\u4e3b\\u59d4\", \"\\u4fdd\\u57fa\", \"\\u5409\\u4ef2\", \"\\u555f\\u81e3\", \"\\u570b\\u6b63\", \"\\u5c31\\u696d\", \"\\u6587\\u5316\", \"\\u660e\\u901a\", \"\\u674e\\u526f\", \"\\u5f35\\u9054\\u4eac\", \"\\u5730\\u65b9\", \"\\u4e09\\u7dda\", \"\\u82d7\\u6817\", \"\\u71df\\u9020\", \"\\u4fdd\\u5b58\", \"\\u59d4\\u6703\", \"\\u6c38\\u5f97\", \"\\u6771\\u52e2\", \"\\u5ba2\\u8a9e\", \"\\u610f\\u8c61\", \"\\u4e2d\\u592e\", \"\\u5ba2\\u5e84\", \"\\u805a\\u843d\", \"\\u5ba2\\u5bb6\\u4eba\", \"\\u5275\\u751f\", \"\\u5927\\u57d4\", \"\\u5ba2\\u5bb6\", \"\\u6d6a\\u6f2b\", \"\\u6587\\u5316\", \"\\u516c\\u5916\", \"\\u5916\\u554f\", \"\\u5916\\u884c\", \"\\u5b9a\\u5b87\", \"\\u5ef6\\u7de9\", \"\\u60c5\\u5831\\u4eba\\u54e1\", \"\\u6575\\u6211\", \"\\u672b\\u4ee3\", \"\\u6821\\u53cb\", \"\\u6821\\u53cb\\u6703\", \"\\u4e3b\\u4efb\\u59d4\\u54e1\", \"\\u4e3b\\u59d4\", \"\\u4fdd\\u57fa\", \"\\u5409\\u4ef2\", \"\\u555f\\u81e3\", \"\\u570b\\u6b63\", \"\\u5c31\\u696d\", \"\\u660e\\u901a\", \"\\u674e\\u526f\", \"\\u69ae\\u6c11\", \"\\u4f46\\u662f\", \"\\u5916\\u4ea4\\u90e8\", \"\\u570b\\u5bb6\", \"\\u6709\\u6c92\\u6709\", \"\\u570b\\u969b\", \"\\u81fa\\u7063\", \"\\u7f8e\\u570b\", \"\\u7e3d\\u7d71\", \"\\u4e00\\u500b\", \"\\u90e8\\u9577\", \"\\u6b21\\u9577\", \"\\u4ec0\\u9ebc\", \"\\u6c92\\u6709\", \"\\u5982\\u679c\", \"\\u59d4\\u54e1\", \"\\u6240\\u4ee5\", \"\\u6211\\u5011\", \"\\u5c31\\u662f\", \"\\u9019\\u500b\", \"\\u555f\\u81e3\", \"\\u516c\\u5916\", \"\\u5916\\u554f\", \"\\u5916\\u884c\", \"\\u5b9a\\u5b87\", \"\\u5ef6\\u7de9\", \"\\u60c5\\u5831\\u4eba\\u54e1\", \"\\u6575\\u6211\", \"\\u672b\\u4ee3\", \"\\u6821\\u53cb\", \"\\u6821\\u53cb\\u6703\", \"\\u4e3b\\u4efb\\u59d4\\u54e1\", \"\\u4e3b\\u59d4\", \"\\u4fdd\\u57fa\", \"\\u5409\\u4ef2\", \"\\u570b\\u6b63\", \"\\u5c31\\u696d\", \"\\u6587\\u5316\", \"\\u660e\\u901a\", \"\\u674e\\u526f\", \"\\u69ae\\u6c11\", \"\\u516c\\u5916\", \"\\u5916\\u554f\", \"\\u5916\\u884c\", \"\\u5b9a\\u5b87\", \"\\u5ef6\\u7de9\", \"\\u60c5\\u5831\\u4eba\\u54e1\", \"\\u6575\\u6211\", \"\\u672b\\u4ee3\", \"\\u6821\\u53cb\", \"\\u6821\\u53cb\\u6703\", \"\\u6821\\u7d1a\", \"\\u751f\\u667a\", \"\\u7fd4\\u5b99\", \"\\u85cd\\u76ae\\u66f8\", \"\\u8a08\\u7b97\\u516c\\u5f0f\", \"\\u8d85\\u7a69\\u5b9a\", \"\\u9069\\u4efb\", \"\\u9078\\u4e0a\", \"\\u9673\\u4fca\\u751f\", \"\\u990a\\u751f\", \"\\u4e09\\u7d1a\", \"\\u4e8c\\u7d1a\", \"\\u4eba\\u624d\", \"\\u4fca\\u69ae\", \"\\u516c\\u514b\", \"\\u5438\\u6bd2\", \"\\u570b\\u52c7\", \"\\u5927\\u5b78\", \"\\u5b78\\u6821\", \"\\u5b78\\u751f\", \"\\u59d4\\u54e1\\u6703\", \"\\u4ea4\\u901a\\u90e8\", \"\\u52dd\\u7af9\", \"\\u5b89\\u5168\", \"\\u662f\\u5426\", \"\\u5404\\u4f4d\", \"\\u76f8\\u95dc\", \"\\u653f\\u5e9c\", \"\\u9632\\u75ab\", \"\\u6c11\\u773e\", \"\\u884c\\u653f\\u9662\", \"\\u91dd\\u5c0d\", \"\\u540c\\u4ec1\", \"\\u5c40\\u9577\", \"\\u4e3b\\u5e2d\", \"\\u4eba\\u54e1\", \"\\u672c\\u9662\", \"\\u9152\\u99d5\", \"\\u570b\\u5b89\\u5c40\", \"\\u4fee\\u6b63\", \"\\u4e3b\\u4efb\\u59d4\\u54e1\", \"\\u4e3b\\u59d4\", \"\\u4fdd\\u57fa\", \"\\u5409\\u4ef2\", \"\\u555f\\u81e3\", \"\\u570b\\u6b63\", \"\\u5c31\\u696d\", \"\\u6587\\u5316\", \"\\u660e\\u901a\", \"\\u674e\\u526f\", \"\\u516c\\u5916\", \"\\u5916\\u554f\", \"\\u5916\\u884c\", \"\\u5b9a\\u5b87\", \"\\u5ef6\\u7de9\", \"\\u60c5\\u5831\\u4eba\\u54e1\", \"\\u6575\\u6211\", \"\\u672b\\u4ee3\", \"\\u6821\\u53cb\", \"\\u6821\\u53cb\\u6703\", \"\\u6821\\u7d1a\", \"\\u751f\\u667a\", \"\\u7fd4\\u5b99\", \"\\u85cd\\u76ae\\u66f8\", \"\\u8a08\\u7b97\\u516c\\u5f0f\", \"\\u8d85\\u7a69\\u5b9a\", \"\\u9069\\u4efb\", \"\\u9078\\u4e0a\", \"\\u9673\\u4fca\\u751f\", \"\\u990a\\u751f\", \"\\u4e09\\u7d1a\", \"\\u4e8c\\u7d1a\", \"\\u4eba\\u624d\", \"\\u4fca\\u69ae\", \"\\u516c\\u514b\", \"\\u5438\\u6bd2\", \"\\u570b\\u52c7\", \"\\u5927\\u5b78\", \"\\u5b78\\u6821\", \"\\u5b78\\u751f\", \"\\u5fd7\\u5609\", \"\\u5e74\\u91d1\", \"\\u80fd\\u6e90\", \"\\u79d8\\u66f8\\u9577\", \"\\u6cd5\\u6848\", \"\\u7acb\\u6cd5\\u9662\", \"\\u8b70\\u9577\", \"\\u5e38\\u614b\", \"\\u71c3\\u7164\", \"\\u570b\\u6c11\\u9ee8\", \"\\u4e2d\\u7acb\", \"\\u6539\\u9769\", \"\\u61b2\\u6cd5\", \"\\u8b70\\u4e8b\", \"\\u516c\\u52d9\\u54e1\", \"\\u6e05\\u5fb7\", \"\\u8a0e\\u8ad6\", \"\\u9298\\u8b19\", \"\\u901a\\u904e\", \"\\u516c\\u52d9\\u4eba\\u54e1\", \"\\u4e3b\\u4efb\\u59d4\\u54e1\", \"\\u4e3b\\u59d4\", \"\\u4fdd\\u57fa\", \"\\u5409\\u4ef2\", \"\\u555f\\u81e3\", \"\\u570b\\u6b63\", \"\\u5c31\\u696d\", \"\\u6587\\u5316\", \"\\u660e\\u901a\", \"\\u674e\\u526f\"], \"Freq\": [2.0, 2.0, 2.0, 2.0, 2.0, 2.0, 2.0, 2.0, 2.0, 1.0, 1.0, 1.0, 1.0, 1.0, 1.0, 1.0, 1.0, 1.0, 1.0, 1.0, 1.0, 1.0, 1.0, 1.0, 1.0, 1.0, 1.0, 1.0, 1.0, 1.0, 0.8560511986995223, 0.8560511986995223, 0.8560511986995223, 0.8560511986995223, 0.8560511986995223, 0.8560511986995223, 0.8560511986995223, 0.8560511986995223, 0.8560511986995223, 0.8560511986995223, 0.8560511986995223, 0.8560511986995223, 0.8560511986995223, 0.8560511986995223, 0.8560511986995223, 0.8560511986995223, 0.8560511986995223, 0.8560511986995223, 0.8560511986995223, 0.8560511986995223, 0.8560284070482208, 0.8560266281876314, 0.856026572598238, 0.8560254052209763, 0.8560235707709934, 0.8560216251422238, 0.8560211804270764, 0.8560206801225356, 0.8560206801225356, 0.8560206801225356, 0.5992183233492651, 0.5993399550067483, 0.5993050222159586, 0.5992183233492651, 0.5992183233492651, 0.5992183233492651, 0.5992183233492651, 0.5992183233492651, 0.5992183233492651, 0.5992183233492651, 0.5992183233492651, 0.5993237175901339, 0.5993164926845761, 0.5993150030133271, 0.5993148168044209, 0.5993125450557661, 0.5993055063591145, 0.5993051339413022, 0.5992183233492651, 0.599318950642137, 0.054592913307694, 0.05456961857353731, 0.05456511697323165, 0.054564302309267336, 0.054563599370646705, 0.05456340385129527, 0.0545610622743007, 0.054554470479023745, 0.05447472651497417, 0.05447472651497417, 0.0545607038221564, 0.05455601135772196, 0.5992336020206902, 0.5992336020206902, 0.5992336020206902, 0.5992336020206902, 0.5992336020206902, 0.5992336020206902, 0.5992336020206902, 0.5992336020206902, 0.5992336020206902, 0.5992336020206902, 0.5992336020206902, 0.5992336020206902, 0.5992336020206902, 0.5992336020206902, 0.5992336020206902, 0.5992336020206902, 0.5992335275390429, 0.5992335275390429, 0.5992747158899707, 0.5992336020206902, 0.05453908378459997, 0.05453380024274836, 0.05453021115837163, 0.054526659314818524, 0.05452640328415611, 0.054524033836753055, 0.05452114301781927, 0.054519187874579024, 0.05451660894754309, 0.05451659032713127, 0.5990093124013194, 0.5990093124013194, 0.5990093124013194, 0.5990093124013194, 0.5990093124013194, 0.5990093124013194, 0.5990093124013194, 0.5990093124013194, 0.5990093124013194, 0.5990093124013194, 0.5990093124013194, 0.5990093124013194, 0.5990093124013194, 0.5990093124013194, 0.5990093124013194, 0.5990093124013194, 0.5990093124013194, 0.5990093124013194, 0.5990093124013194, 0.5990093124013194, 0.054455733832397636, 0.054455733832397636, 0.054455733832397636, 0.054455733832397636, 0.054455733832397636, 0.054455733832397636, 0.054455733832397636, 0.054455733832397636, 0.054455733832397636, 0.054455733832397636, 0.054455733832397636, 0.054455733832397636, 0.054455733832397636, 0.054455733832397636, 0.054455733832397636, 0.054455733832397636, 0.054455733832397636, 0.054455733832397636, 0.054455733832397636, 0.054455733832397636, 0.5990092469424501, 0.5990092469424501, 0.5990092469424501, 0.5990092469424501, 0.5990092469424501, 0.5990092469424501, 0.5990092469424501, 0.5990092469424501, 0.5990092469424501, 0.5990092469424501, 0.5990092469424501, 0.5990092469424501, 0.5990092469424501, 0.5990092469424501, 0.5990092469424501, 0.5990092469424501, 0.5990092469424501, 0.5990092469424501, 0.5990092469424501, 0.5990092469424501, 0.05445572788155399, 0.05445572788155399, 0.05445572788155399, 0.05445572788155399, 0.05445572788155399, 0.05445572788155399, 0.05445572788155399, 0.05445572788155399, 0.05445572788155399, 0.05445572788155399, 0.05445572788155399, 0.05445572788155399, 0.05445572788155399, 0.05445572788155399, 0.05445572788155399, 0.05445572788155399, 0.05445572788155399, 0.05445572788155399, 0.05445572788155399, 0.05445572788155399, 0.5990092789634023, 0.5990092789634023, 0.5990092789634023, 0.5990092789634023, 0.5990092789634023, 0.5990092789634023, 0.5990092789634023, 0.5990092789634023, 0.5990092789634023, 0.5990092789634023, 0.5990092789634023, 0.5990092789634023, 0.5990092789634023, 0.5990092789634023, 0.5990092789634023, 0.5990092789634023, 0.5990092789634023, 0.5990092789634023, 0.5990092789634023, 0.5990092789634023, 0.05445572402429073, 0.05445572402429073, 0.05445572402429073, 0.05445572402429073, 0.05445572402429073, 0.05445572402429073, 0.05445572402429073, 0.05445572402429073, 0.05445572402429073, 0.05445572402429073, 0.05445572402429073, 0.05445572402429073, 0.05445572402429073, 0.05445572402429073, 0.05445572402429073, 0.05445572402429073, 0.05445572402429073, 0.05445572402429073, 0.05445572402429073, 0.05445572402429073, 0.5989983918693985, 0.5989982057443491, 0.5989974984691616, 0.5989946321434015, 0.5989937387431646, 0.5989936642931448, 0.5989931431430067, 0.598992473092829, 0.5989899045671478, 0.5989897556671083, 0.5989897556671083, 0.5989872988164568, 0.598985214215904, 0.5989823106651341, 0.5989799654895122, 0.5989797793644628, 0.5989761313134955, 0.5989726321625675, 0.5989672345361361, 0.5989891228419406, 0.0544576348756329, 0.0544576348756329, 0.0544576348756329, 0.0544576348756329, 0.0544576348756329, 0.0544576348756329, 0.0544576348756329, 0.0544576348756329, 0.0544576348756329, 0.0544576348756329, 0.0544576348756329, 0.0544576348756329, 0.0544576348756329, 0.0544576348756329, 0.0544576348756329, 0.0544576348756329, 0.0544576348756329, 0.0544576348756329, 0.0544576348756329, 0.0544576348756329, 0.5989748139794161, 0.5989681879986469, 0.598965880072761, 0.5989656567250946, 0.5989649494574845, 0.598964130516041, 0.5989597007873245, 0.5989363237315771, 0.5989732877703625, 0.5989685230201465, 0.5989678157525362, 0.5989329362919703, 0.5989677413033141, 0.5989673690572035, 0.5989603336057127, 0.5989580256798267, 0.5989579512306046, 0.5989563877969399, 0.5989490545485606, 0.5989538565233877, 0.05445983863878683, 0.05445983863878683, 0.05445983863878683, 0.05445983863878683, 0.05445983863878683, 0.05445983863878683, 0.05445983863878683, 0.05445983863878683, 0.05445983863878683, 0.05445983863878683, 0.05445983863878683, 0.05445983863878683, 0.05445983863878683, 0.05445983863878683, 0.05445983863878683, 0.05445983863878683, 0.05445983863878683, 0.05445983863878683, 0.05445983863878683, 0.05445983863878683, 0.0011936522534303478, 0.0011936522534303478, 0.0011936522534303478, 0.0011936522534303478, 0.0011936522534303478, 0.0011936522534303478, 0.0011936522534303478, 0.0011936522534303478, 0.0011936522534303478, 0.0011936522534303478, 0.0011936522534303478, 0.0011936522534303478, 0.0011936522534303478, 0.0011936522534303478, 0.0011936522534303478, 0.0011936522534303478, 0.0011936522534303478, 0.0011936522534303478, 0.0011936522534303478, 0.0011936522534303478, 0.0011936522534303478, 0.0011936522534303478, 0.0011936522534303478, 0.0011936522534303478, 0.0011936522534303478, 0.0011936522534303478, 0.0011936522534303478, 0.0011936522534303478, 0.0011936522534303478, 0.0011936522534303478, 0.0011946632815669695, 0.0011945086242466489, 0.0011944798464739602, 0.001194476690202117, 0.0011944706561530048, 0.0011944634152940702, 0.0011944554317829372, 0.001194452275511094, 0.0011944319454071622, 0.001194401496667027, 0.0011943678916550486, 0.0011943168343164074, 0.0011943012386202406, 0.0011942894490165907, 0.0011942656841462413, 0.0011942580719612075, 0.0011942393199931975, 0.0011941471382890688, 0.0011941442605118, 0.0011941205884729753, 0.0011936522534303478, 0.0011936522534303478, 0.0011936522534303478, 0.0011936522534303478, 0.0011936522534303478, 0.0011936522534303478, 0.0011936522534303478, 0.0011936522534303478, 0.0011936522534303478, 0.0011936522534303478, 0.0011920582639706715, 0.0011920582639706715, 0.0011920582639706715, 0.0011920582639706715, 0.0011920582639706715, 0.0011920582639706715, 0.0011920582639706715, 0.0011920582639706715, 0.0011920582639706715, 0.0011920582639706715, 0.0011920582639706715, 0.0011920582639706715, 0.0011920582639706715, 0.0011920582639706715, 0.0011920582639706715, 0.0011920582639706715, 0.0011920582639706715, 0.0011920582639706715, 0.0011920582639706715, 0.0011920582639706715, 0.0011920582639706715, 0.0011920582639706715, 0.0011920582639706715, 0.0011920582639706715, 0.0011920582639706715, 0.0011920582639706715, 0.0011920582639706715, 0.0011920582639706715, 0.0011920582639706715, 0.0011920582639706715, 0.0011926461092049258, 0.0011926304419845207, 0.0011926119008952838, 0.00119260494798682, 0.001192601888707096, 0.0011926017960016497, 0.0011925899297045382, 0.0011925839038505362, 0.001192549046602771, 0.00119254858307554, 0.0011925414447561838, 0.0011925262410630096, 0.0011925251285976554, 0.0011925186392164225, 0.0011925109446643892, 0.0011924825767978568, 0.0011924526329387393, 0.0011924370584237803, 0.0011924339991440562, 0.0011924080416191246, 0.0011920582639706715, 0.0011920582639706715, 0.0011920582639706715, 0.0011920582639706715, 0.0011920582639706715, 0.0011920582639706715, 0.0011920582639706715, 0.0011920582639706715, 0.0011920582639706715, 0.0011920582639706715], \"Total\": [2.0, 2.0, 2.0, 2.0, 2.0, 2.0, 2.0, 2.0, 2.0, 1.0, 1.0, 1.0, 1.0, 1.0, 1.0, 1.0, 1.0, 1.0, 1.0, 1.0, 1.0, 1.0, 1.0, 1.0, 1.0, 1.0, 1.0, 1.0, 1.0, 1.0, 1.239672413846618, 1.239672413846618, 1.239672413846618, 1.239672413846618, 1.239672413846618, 1.239672413846618, 1.239672413846618, 1.239672413846618, 1.239672413846618, 1.239672413846618, 1.239672413846618, 1.239672413846618, 1.239672413846618, 1.239672413846618, 1.239672413846618, 1.239672413846618, 1.239672413846618, 1.239672413846618, 1.239672413846618, 1.239672413846618, 1.2396499719729648, 1.2396482190699005, 1.2396481665397867, 1.23964701473704, 1.2396452102309163, 1.2396432929700132, 1.2396428559494177, 1.2396423621342583, 1.2396423632467237, 1.2396423636046738, 1.006188656416251, 1.5507833857269178, 1.550783332396694, 1.5507422349851727, 1.5507422349851727, 1.5507422349851727, 1.5507422349851727, 1.5507422349851727, 1.5507422349851727, 1.5507422349851727, 1.7843700868180556, 2.095336845135815, 2.0953369534786366, 2.0953370272410523, 2.095336915481368, 2.095336951658599, 2.0953369484134385, 2.0953369482417368, 2.328930233906678, 2.640094363321277, 1.00603973146747, 1.0060398137890607, 1.0060397419174716, 1.0060397461949508, 1.0060397505239402, 1.0060397783522552, 1.0060397447011467, 1.0060397788866389, 1.005998578642856, 1.005998578642856, 1.5505932998394236, 1.5505933721252052, 1.006202542740592, 1.006202542740592, 1.006202542740592, 1.006202542740592, 1.006202542740592, 1.006202542740592, 1.006202542740592, 1.006202542740592, 1.006202542740592, 1.006202542740592, 1.006202542740592, 1.006202542740592, 1.006202542740592, 1.006202542740592, 1.006202542740592, 1.006202542740592, 1.0062024682589448, 1.0062024682589448, 1.5507751445761804, 2.640094363321277, 1.006017624165005, 1.0060177382495847, 1.006017648316136, 1.00601774452355, 1.0060176746179372, 1.006017650346156, 1.0060176630779922, 1.0060177925353047, 1.0060176704589203, 1.0060176518385084, 1.0059986381508819, 1.0059986381508819, 1.5505932998394236, 1.5505933721252052, 1.5507422349851727, 1.5507422349851727, 1.5507422349851727, 1.5507422349851727, 1.5507422349851727, 1.5507422349851727, 1.5507422349851727, 2.095336845135815, 2.095336915481368, 2.0953369482417368, 2.0953369484134385, 2.095336951658599, 2.0953369534786366, 2.0953370272410523, 2.328930233906678, 2.640094363321277, 1.005998578642856, 1.005998578642856, 1.005998578642856, 1.005998578642856, 1.005998578642856, 1.005998578642856, 1.005998578642856, 1.005998578642856, 1.005998578642856, 1.005998578642856, 1.006202542740592, 1.0062024682589448, 1.006202542740592, 1.006202542740592, 1.006202542740592, 1.006202542740592, 1.5507751445761804, 1.006202542740592, 1.006202542740592, 1.006202542740592, 1.005998578642856, 1.005998578642856, 1.005998578642856, 1.005998578642856, 1.005998578642856, 1.005998578642856, 1.005998578642856, 1.005998578642856, 1.005998578642856, 1.005998578642856, 1.005998578642856, 1.005998578642856, 1.005998578642856, 1.005998578642856, 1.005998578642856, 1.005998578642856, 1.005998578642856, 1.005998578642856, 1.005998578642856, 1.005998578642856, 1.0059986145210715, 1.0059986145210715, 1.0059986145210715, 1.0059986145210715, 1.0059986145210715, 1.0059986145210715, 1.0059986145210715, 1.0059986145210715, 1.0059986145210715, 1.0059986145210715, 1.006202542740592, 1.0062024682589448, 1.006202542740592, 1.006202542740592, 2.640094363321277, 1.006202542740592, 1.006202542740592, 1.5507751445761804, 1.006202542740592, 1.006202542740592, 1.0059986145210715, 1.0059986145210715, 1.0059986145210715, 1.0059986145210715, 1.0059986145210715, 1.0059986145210715, 1.0059986145210715, 1.0059986145210715, 1.0059986145210715, 1.0059986145210715, 1.0059986145210715, 1.0059986145210715, 1.0059986145210715, 1.0059986145210715, 1.0059986145210715, 1.0059986145210715, 1.0059986145210715, 1.0059986145210715, 1.0059986145210715, 1.7841942218224056, 1.005998578642856, 1.005998578642856, 1.005998578642856, 1.005998578642856, 1.005998578642856, 1.005998578642856, 1.005998578642856, 1.005998578642856, 1.005998578642856, 1.005998578642856, 1.006202542740592, 1.0062024682589448, 1.006202542740592, 1.006202542740592, 2.640094363321277, 1.006202542740592, 1.006202542740592, 1.5507751445761804, 1.006202542740592, 1.006202542740592, 1.0060177040309535, 1.0060176529038896, 1.0060177230308953, 1.0060176916628336, 1.0060176966974665, 1.0060176501780644, 1.0060176503994571, 1.0060176460290016, 1.0060176797058713, 1.0060176518385084, 1.0060176704589203, 1.0060177925353047, 1.0060176630779922, 1.006017650346156, 1.0060176746179372, 1.00601774452355, 1.006017648316136, 1.0060177382495847, 1.006017624165005, 1.5507751445761804, 1.005998578642856, 1.005998578642856, 1.005998578642856, 1.005998578642856, 1.005998578642856, 1.005998578642856, 1.005998578642856, 1.005998578642856, 1.005998578642856, 1.005998578642856, 1.006202542740592, 1.0062024682589448, 1.006202542740592, 1.006202542740592, 2.640094363321277, 1.006202542740592, 1.006202542740592, 1.006202542740592, 1.006202542740592, 1.006202542740592, 1.0060397788866389, 1.0060397447011467, 1.0060397783522552, 1.0060397505239402, 1.0060397461949508, 1.0060397419174716, 1.0060398137890607, 1.00603973146747, 1.5505933721252052, 1.5505932998394236, 1.550783332396694, 1.5507833857269178, 2.0953369482417368, 2.0953369484134385, 2.095336951658599, 2.095336915481368, 2.0953370272410523, 2.0953369534786366, 2.095336845135815, 2.640094363321277, 1.005998578642856, 1.005998578642856, 1.005998578642856, 1.005998578642856, 1.005998578642856, 1.005998578642856, 1.005998578642856, 1.005998578642856, 1.005998578642856, 1.005998578642856, 1.006202542740592, 1.0062024682589448, 1.006202542740592, 1.006202542740592, 1.006202542740592, 1.006202542740592, 1.5507751445761804, 1.006202542740592, 1.006202542740592, 1.006202542740592, 1.005998578642856, 1.005998578642856, 1.005998578642856, 1.005998578642856, 1.005998578642856, 1.005998578642856, 1.005998578642856, 1.005998578642856, 1.005998578642856, 1.005998578642856, 1.005998578642856, 1.005998578642856, 1.005998578642856, 1.005998578642856, 1.005998578642856, 1.005998578642856, 1.005998578642856, 1.005998578642856, 1.005998578642856, 1.005998578642856, 1.0059986145210715, 1.0059986145210715, 1.0059986145210715, 1.0059986145210715, 1.0059986145210715, 1.0059986145210715, 1.0059986145210715, 1.0059986145210715, 1.0059986145210715, 1.0059986145210715, 1.2396076070329471, 1.2396174584664423, 1.2396192641386525, 1.2396194277505608, 1.2396198108422656, 1.2396203594953408, 1.2396208518163705, 1.2396211266070658, 1.2396223848330103, 1.2396243000130398, 1.7843700868180556, 1.2396297742900313, 1.2396307593034164, 1.2396315813547143, 2.328930233906678, 1.2396334956064285, 1.2396346998211156, 1.7841942218224056, 1.2396409419524839, 1.2396423636046738, 1.006202542740592, 1.0062024682589448, 1.006202542740592, 1.006202542740592, 2.640094363321277, 1.006202542740592, 1.006202542740592, 1.5507751445761804, 1.006202542740592, 1.006202542740592, 1.005998578642856, 1.005998578642856, 1.005998578642856, 1.005998578642856, 1.005998578642856, 1.005998578642856, 1.005998578642856, 1.005998578642856, 1.005998578642856, 1.005998578642856, 1.005998578642856, 1.005998578642856, 1.005998578642856, 1.005998578642856, 1.005998578642856, 1.005998578642856, 1.005998578642856, 1.005998578642856, 1.005998578642856, 1.005998578642856, 1.0059986145210715, 1.0059986145210715, 1.0059986145210715, 1.0059986145210715, 1.0059986145210715, 1.0059986145210715, 1.0059986145210715, 1.0059986145210715, 1.0059986145210715, 1.0059986145210715, 1.239634700599787, 1.2396356299522546, 1.2396368343778208, 1.2396372721400597, 1.239637547027747, 1.2396375469350414, 1.239638257730859, 1.2396386408307587, 1.2396409407280344, 1.2396409402645072, 1.2396413778413353, 1.2396423632467237, 1.2396423621342583, 1.2396428559494177, 1.2396432929700132, 1.2396452102309163, 1.23964701473704, 1.2396481665397867, 1.2396482190699005, 1.2396499719729648, 1.006202542740592, 1.0062024682589448, 1.006202542740592, 1.006202542740592, 2.640094363321277, 1.006202542740592, 1.006202542740592, 1.5507751445761804, 1.006202542740592, 1.006202542740592], \"Category\": [\"Default\", \"Default\", \"Default\", \"Default\", \"Default\", \"Default\", \"Default\", \"Default\", \"Default\", \"Default\", \"Default\", \"Default\", \"Default\", \"Default\", \"Default\", \"Default\", \"Default\", \"Default\", \"Default\", \"Default\", \"Default\", \"Default\", \"Default\", \"Default\", \"Default\", \"Default\", \"Default\", \"Default\", \"Default\", \"Default\", \"Topic1\", \"Topic1\", \"Topic1\", \"Topic1\", \"Topic1\", \"Topic1\", \"Topic1\", \"Topic1\", \"Topic1\", \"Topic1\", \"Topic1\", \"Topic1\", \"Topic1\", \"Topic1\", \"Topic1\", \"Topic1\", \"Topic1\", \"Topic1\", \"Topic1\", \"Topic1\", \"Topic1\", \"Topic1\", \"Topic1\", \"Topic1\", \"Topic1\", \"Topic1\", \"Topic1\", \"Topic1\", \"Topic1\", \"Topic1\", \"Topic2\", \"Topic2\", \"Topic2\", \"Topic2\", \"Topic2\", \"Topic2\", \"Topic2\", \"Topic2\", \"Topic2\", \"Topic2\", \"Topic2\", \"Topic2\", \"Topic2\", \"Topic2\", \"Topic2\", \"Topic2\", \"Topic2\", \"Topic2\", \"Topic2\", \"Topic2\", \"Topic2\", \"Topic2\", \"Topic2\", \"Topic2\", \"Topic2\", \"Topic2\", \"Topic2\", \"Topic2\", \"Topic2\", \"Topic2\", \"Topic2\", \"Topic2\", \"Topic3\", \"Topic3\", \"Topic3\", \"Topic3\", \"Topic3\", \"Topic3\", \"Topic3\", \"Topic3\", \"Topic3\", \"Topic3\", \"Topic3\", \"Topic3\", \"Topic3\", \"Topic3\", \"Topic3\", \"Topic3\", \"Topic3\", \"Topic3\", \"Topic3\", \"Topic3\", \"Topic3\", \"Topic3\", \"Topic3\", \"Topic3\", \"Topic3\", \"Topic3\", \"Topic3\", \"Topic3\", \"Topic3\", \"Topic3\", \"Topic4\", \"Topic4\", \"Topic4\", \"Topic4\", \"Topic4\", \"Topic4\", \"Topic4\", \"Topic4\", \"Topic4\", \"Topic4\", \"Topic4\", \"Topic4\", \"Topic4\", \"Topic4\", \"Topic4\", \"Topic4\", \"Topic4\", \"Topic4\", \"Topic4\", \"Topic4\", \"Topic4\", \"Topic4\", \"Topic4\", \"Topic4\", \"Topic4\", \"Topic4\", \"Topic4\", \"Topic4\", \"Topic4\", \"Topic4\", \"Topic4\", \"Topic4\", \"Topic4\", \"Topic4\", \"Topic4\", \"Topic4\", \"Topic4\", \"Topic4\", \"Topic4\", \"Topic4\", \"Topic5\", \"Topic5\", \"Topic5\", \"Topic5\", \"Topic5\", \"Topic5\", \"Topic5\", \"Topic5\", \"Topic5\", \"Topic5\", \"Topic5\", \"Topic5\", \"Topic5\", \"Topic5\", \"Topic5\", \"Topic5\", \"Topic5\", \"Topic5\", \"Topic5\", \"Topic5\", \"Topic5\", \"Topic5\", \"Topic5\", \"Topic5\", \"Topic5\", \"Topic5\", \"Topic5\", \"Topic5\", \"Topic5\", \"Topic5\", \"Topic5\", \"Topic5\", \"Topic5\", \"Topic5\", \"Topic5\", \"Topic5\", \"Topic5\", \"Topic5\", \"Topic5\", \"Topic5\", \"Topic6\", \"Topic6\", \"Topic6\", \"Topic6\", \"Topic6\", \"Topic6\", \"Topic6\", \"Topic6\", \"Topic6\", \"Topic6\", \"Topic6\", \"Topic6\", \"Topic6\", \"Topic6\", \"Topic6\", \"Topic6\", \"Topic6\", \"Topic6\", \"Topic6\", \"Topic6\", \"Topic6\", \"Topic6\", \"Topic6\", \"Topic6\", \"Topic6\", \"Topic6\", \"Topic6\", \"Topic6\", \"Topic6\", \"Topic6\", \"Topic6\", \"Topic6\", \"Topic6\", \"Topic6\", \"Topic6\", \"Topic6\", \"Topic6\", \"Topic6\", \"Topic6\", \"Topic6\", \"Topic7\", \"Topic7\", \"Topic7\", \"Topic7\", \"Topic7\", \"Topic7\", \"Topic7\", \"Topic7\", \"Topic7\", \"Topic7\", \"Topic7\", \"Topic7\", \"Topic7\", \"Topic7\", \"Topic7\", \"Topic7\", \"Topic7\", \"Topic7\", \"Topic7\", \"Topic7\", \"Topic7\", \"Topic7\", \"Topic7\", \"Topic7\", \"Topic7\", \"Topic7\", \"Topic7\", \"Topic7\", \"Topic7\", \"Topic7\", \"Topic7\", \"Topic7\", \"Topic7\", \"Topic7\", \"Topic7\", \"Topic7\", \"Topic7\", \"Topic7\", \"Topic7\", \"Topic7\", \"Topic8\", \"Topic8\", \"Topic8\", \"Topic8\", \"Topic8\", \"Topic8\", \"Topic8\", \"Topic8\", \"Topic8\", \"Topic8\", \"Topic8\", \"Topic8\", \"Topic8\", \"Topic8\", \"Topic8\", \"Topic8\", \"Topic8\", \"Topic8\", \"Topic8\", \"Topic8\", \"Topic8\", \"Topic8\", \"Topic8\", \"Topic8\", \"Topic8\", \"Topic8\", \"Topic8\", \"Topic8\", \"Topic8\", \"Topic8\", \"Topic8\", \"Topic8\", \"Topic8\", \"Topic8\", \"Topic8\", \"Topic8\", \"Topic8\", \"Topic8\", \"Topic8\", \"Topic8\", \"Topic9\", \"Topic9\", \"Topic9\", \"Topic9\", \"Topic9\", \"Topic9\", \"Topic9\", \"Topic9\", \"Topic9\", \"Topic9\", \"Topic9\", \"Topic9\", \"Topic9\", \"Topic9\", \"Topic9\", \"Topic9\", \"Topic9\", \"Topic9\", \"Topic9\", \"Topic9\", \"Topic9\", \"Topic9\", \"Topic9\", \"Topic9\", \"Topic9\", \"Topic9\", \"Topic9\", \"Topic9\", \"Topic9\", \"Topic9\", \"Topic9\", \"Topic9\", \"Topic9\", \"Topic9\", \"Topic9\", \"Topic9\", \"Topic9\", \"Topic9\", \"Topic9\", \"Topic9\", \"Topic9\", \"Topic9\", \"Topic9\", \"Topic9\", \"Topic9\", \"Topic9\", \"Topic9\", \"Topic9\", \"Topic9\", \"Topic9\", \"Topic9\", \"Topic9\", \"Topic9\", \"Topic9\", \"Topic9\", \"Topic9\", \"Topic9\", \"Topic9\", \"Topic9\", \"Topic9\", \"Topic10\", \"Topic10\", \"Topic10\", \"Topic10\", \"Topic10\", \"Topic10\", \"Topic10\", \"Topic10\", \"Topic10\", \"Topic10\", \"Topic10\", \"Topic10\", \"Topic10\", \"Topic10\", \"Topic10\", \"Topic10\", \"Topic10\", \"Topic10\", \"Topic10\", \"Topic10\", \"Topic10\", \"Topic10\", \"Topic10\", \"Topic10\", \"Topic10\", \"Topic10\", \"Topic10\", \"Topic10\", \"Topic10\", \"Topic10\", \"Topic10\", \"Topic10\", \"Topic10\", \"Topic10\", \"Topic10\", \"Topic10\", \"Topic10\", \"Topic10\", \"Topic10\", \"Topic10\", \"Topic10\", \"Topic10\", \"Topic10\", \"Topic10\", \"Topic10\", \"Topic10\", \"Topic10\", \"Topic10\", \"Topic10\", \"Topic10\", \"Topic10\", \"Topic10\", \"Topic10\", \"Topic10\", \"Topic10\", \"Topic10\", \"Topic10\", \"Topic10\", \"Topic10\", \"Topic10\"], \"logprob\": [30.0, 29.0, 28.0, 27.0, 26.0, 25.0, 24.0, 23.0, 22.0, 21.0, 20.0, 19.0, 18.0, 17.0, 16.0, 15.0, 14.0, 13.0, 12.0, 11.0, 10.0, 9.0, 8.0, 7.0, 6.0, 5.0, 4.0, 3.0, 2.0, 1.0, -4.2446, -4.2446, -4.2446, -4.2446, -4.2446, -4.2446, -4.2446, -4.2446, -4.2446, -4.2446, -4.2446, -4.2446, -4.2446, -4.2446, -4.2446, -4.2446, -4.2446, -4.2446, -4.2446, -4.2446, -4.2446, -4.2446, -4.2446, -4.2446, -4.2446, -4.2446, -4.2446, -4.2446, -4.2446, -4.2446, -3.5076, -3.5074, -3.5074, -3.5076, -3.5076, -3.5076, -3.5076, -3.5076, -3.5076, -3.5076, -3.5076, -3.5074, -3.5074, -3.5074, -3.5074, -3.5074, -3.5074, -3.5074, -3.5076, -3.5074, -5.9033, -5.9037, -5.9038, -5.9038, -5.9038, -5.9038, -5.9039, -5.904, -5.9055, -5.9055, -5.9039, -5.904, -3.5075, -3.5075, -3.5075, -3.5075, -3.5075, -3.5075, -3.5075, -3.5075, -3.5075, -3.5075, -3.5075, -3.5075, -3.5075, -3.5075, -3.5075, -3.5075, -3.5075, -3.5075, -3.5074, -3.5075, -5.9042, -5.9043, -5.9044, -5.9045, -5.9045, -5.9045, -5.9046, -5.9046, -5.9047, -5.9047, -3.5075, -3.5075, -3.5075, -3.5075, -3.5075, -3.5075, -3.5075, -3.5075, -3.5075, -3.5075, -3.5075, -3.5075, -3.5075, -3.5075, -3.5075, -3.5075, -3.5075, -3.5075, -3.5075, -3.5075, -5.9054, -5.9054, -5.9054, -5.9054, -5.9054, -5.9054, -5.9054, -5.9054, -5.9054, -5.9054, -5.9054, -5.9054, -5.9054, -5.9054, -5.9054, -5.9054, -5.9054, -5.9054, -5.9054, -5.9054, -3.5075, -3.5075, -3.5075, -3.5075, -3.5075, -3.5075, -3.5075, -3.5075, -3.5075, -3.5075, -3.5075, -3.5075, -3.5075, -3.5075, -3.5075, -3.5075, -3.5075, -3.5075, -3.5075, -3.5075, -5.9054, -5.9054, -5.9054, -5.9054, -5.9054, -5.9054, -5.9054, -5.9054, -5.9054, -5.9054, -5.9054, -5.9054, -5.9054, -5.9054, -5.9054, -5.9054, -5.9054, -5.9054, -5.9054, -5.9054, -3.5075, -3.5075, -3.5075, -3.5075, -3.5075, -3.5075, -3.5075, -3.5075, -3.5075, -3.5075, -3.5075, -3.5075, -3.5075, -3.5075, -3.5075, -3.5075, -3.5075, -3.5075, -3.5075, -3.5075, -5.9054, -5.9054, -5.9054, -5.9054, -5.9054, -5.9054, -5.9054, -5.9054, -5.9054, -5.9054, -5.9054, -5.9054, -5.9054, -5.9054, -5.9054, -5.9054, -5.9054, -5.9054, -5.9054, -5.9054, -3.5075, -3.5075, -3.5075, -3.5075, -3.5075, -3.5075, -3.5075, -3.5075, -3.5075, -3.5075, -3.5075, -3.5075, -3.5075, -3.5075, -3.5075, -3.5075, -3.5075, -3.5075, -3.5075, -3.5075, -5.9053, -5.9053, -5.9053, -5.9053, -5.9053, -5.9053, -5.9053, -5.9053, -5.9053, -5.9053, -5.9053, -5.9053, -5.9053, -5.9053, -5.9053, -5.9053, -5.9053, -5.9053, -5.9053, -5.9053, -3.5075, -3.5075, -3.5075, -3.5075, -3.5075, -3.5075, -3.5075, -3.5076, -3.5075, -3.5075, -3.5075, -3.5076, -3.5075, -3.5075, -3.5075, -3.5075, -3.5075, -3.5075, -3.5076, -3.5075, -5.9053, -5.9053, -5.9053, -5.9053, -5.9053, -5.9053, -5.9053, -5.9053, -5.9053, -5.9053, -5.9053, -5.9053, -5.9053, -5.9053, -5.9053, -5.9053, -5.9053, -5.9053, -5.9053, -5.9053, -5.1181, -5.1181, -5.1181, -5.1181, -5.1181, -5.1181, -5.1181, -5.1181, -5.1181, -5.1181, -5.1181, -5.1181, -5.1181, -5.1181, -5.1181, -5.1181, -5.1181, -5.1181, -5.1181, -5.1181, -5.1181, -5.1181, -5.1181, -5.1181, -5.1181, -5.1181, -5.1181, -5.1181, -5.1181, -5.1181, -5.1172, -5.1173, -5.1174, -5.1174, -5.1174, -5.1174, -5.1174, -5.1174, -5.1174, -5.1174, -5.1175, -5.1175, -5.1175, -5.1175, -5.1176, -5.1176, -5.1176, -5.1177, -5.1177, -5.1177, -5.1181, -5.1181, -5.1181, -5.1181, -5.1181, -5.1181, -5.1181, -5.1181, -5.1181, -5.1181, -5.118, -5.118, -5.118, -5.118, -5.118, -5.118, -5.118, -5.118, -5.118, -5.118, -5.118, -5.118, -5.118, -5.118, -5.118, -5.118, -5.118, -5.118, -5.118, -5.118, -5.118, -5.118, -5.118, -5.118, -5.118, -5.118, -5.118, -5.118, -5.118, -5.118, -5.1175, -5.1176, -5.1176, -5.1176, -5.1176, -5.1176, -5.1176, -5.1176, -5.1176, -5.1176, -5.1176, -5.1177, -5.1177, -5.1177, -5.1177, -5.1177, -5.1177, -5.1177, -5.1177, -5.1177, -5.118, -5.118, -5.118, -5.118, -5.118, -5.118, -5.118, -5.118, -5.118, -5.118], \"loglift\": [30.0, 29.0, 28.0, 27.0, 26.0, 25.0, 24.0, 23.0, 22.0, 21.0, 20.0, 19.0, 18.0, 17.0, 16.0, 15.0, 14.0, 13.0, 12.0, 11.0, 10.0, 9.0, 8.0, 7.0, 6.0, 5.0, 4.0, 3.0, 2.0, 1.0, 0.8389, 0.8389, 0.8389, 0.8389, 0.8389, 0.8389, 0.8389, 0.8389, 0.8389, 0.8389, 0.8389, 0.8389, 0.8389, 0.8389, 0.8389, 0.8389, 0.8389, 0.8389, 0.8389, 0.8389, 0.8389, 0.8389, 0.8389, 0.8389, 0.8389, 0.8389, 0.8389, 0.8389, 0.8389, 0.8389, 1.7846, 1.3522, 1.3521, 1.352, 1.352, 1.352, 1.352, 1.352, 1.352, 1.352, 1.2117, 1.0512, 1.0512, 1.0512, 1.0512, 1.0512, 1.0512, 1.0512, 0.9453, 0.8201, -0.611, -0.6114, -0.6115, -0.6115, -0.6115, -0.6115, -0.6116, -0.6117, -0.6131, -0.6131, -1.0442, -1.0443, 1.7846, 1.7846, 1.7846, 1.7846, 1.7846, 1.7846, 1.7846, 1.7846, 1.7846, 1.7846, 1.7846, 1.7846, 1.7846, 1.7846, 1.7846, 1.7846, 1.7846, 1.7846, 1.3521, 0.82, -0.6119, -0.612, -0.6121, -0.6122, -0.6122, -0.6122, -0.6123, -0.6123, -0.6123, -0.6123, 1.7849, 1.7849, 1.3522, 1.3522, 1.3521, 1.3521, 1.3521, 1.3521, 1.3521, 1.3521, 1.3521, 1.0511, 1.0511, 1.0511, 1.0511, 1.0511, 1.0511, 1.0511, 0.9454, 0.82, -0.613, -0.613, -0.613, -0.613, -0.613, -0.613, -0.613, -0.613, -0.613, -0.613, -0.6132, -0.6132, -0.6132, -0.6132, -0.6132, -0.6132, -1.0458, -0.6132, -0.6132, -0.6132, 1.7849, 1.7849, 1.7849, 1.7849, 1.7849, 1.7849, 1.7849, 1.7849, 1.7849, 1.7849, 1.7849, 1.7849, 1.7849, 1.7849, 1.7849, 1.7849, 1.7849, 1.7849, 1.7849, 1.7849, -0.613, -0.613, -0.613, -0.613, -0.613, -0.613, -0.613, -0.613, -0.613, -0.613, -0.6132, -0.6132, -0.6132, -0.6132, -1.5779, -0.6132, -0.6132, -1.0458, -0.6132, -0.6132, 1.7849, 1.7849, 1.7849, 1.7849, 1.7849, 1.7849, 1.7849, 1.7849, 1.7849, 1.7849, 1.7849, 1.7849, 1.7849, 1.7849, 1.7849, 1.7849, 1.7849, 1.7849, 1.7849, 1.2119, -0.613, -0.613, -0.613, -0.613, -0.613, -0.613, -0.613, -0.613, -0.613, -0.613, -0.6132, -0.6132, -0.6132, -0.6132, -1.5779, -0.6132, -0.6132, -1.0458, -0.6132, -0.6132, 1.7848, 1.7848, 1.7848, 1.7848, 1.7848, 1.7848, 1.7848, 1.7848, 1.7848, 1.7848, 1.7848, 1.7848, 1.7848, 1.7848, 1.7848, 1.7848, 1.7848, 1.7848, 1.7848, 1.3521, -0.613, -0.613, -0.613, -0.613, -0.613, -0.613, -0.613, -0.613, -0.613, -0.613, -0.6132, -0.6132, -0.6132, -0.6132, -1.5778, -0.6132, -0.6132, -0.6132, -0.6132, -0.6132, 1.7848, 1.7848, 1.7848, 1.7848, 1.7848, 1.7848, 1.7848, 1.7847, 1.3522, 1.3522, 1.352, 1.352, 1.0511, 1.0511, 1.0511, 1.0511, 1.0511, 1.0511, 1.0511, 0.82, -0.6129, -0.6129, -0.6129, -0.6129, -0.6129, -0.6129, -0.6129, -0.6129, -0.6129, -0.6129, -0.6131, -0.6131, -0.6131, -0.6131, -0.6131, -0.6131, -1.0457, -0.6131, -0.6131, -0.6131, 0.1743, 0.1743, 0.1743, 0.1743, 0.1743, 0.1743, 0.1743, 0.1743, 0.1743, 0.1743, 0.1743, 0.1743, 0.1743, 0.1743, 0.1743, 0.1743, 0.1743, 0.1743, 0.1743, 0.1743, 0.1743, 0.1743, 0.1743, 0.1743, 0.1743, 0.1743, 0.1743, 0.1743, 0.1743, 0.1743, -0.0337, -0.0338, -0.0339, -0.0339, -0.0339, -0.0339, -0.0339, -0.0339, -0.0339, -0.0339, -0.3982, -0.034, -0.034, -0.034, -0.6646, -0.0341, -0.0341, -0.3983, -0.0342, -0.0342, 0.1741, 0.1741, 0.1741, 0.1741, -0.7906, 0.1741, 0.1741, -0.2585, 0.1741, 0.1741, 0.1743, 0.1743, 0.1743, 0.1743, 0.1743, 0.1743, 0.1743, 0.1743, 0.1743, 0.1743, 0.1743, 0.1743, 0.1743, 0.1743, 0.1743, 0.1743, 0.1743, 0.1743, 0.1743, 0.1743, 0.1743, 0.1743, 0.1743, 0.1743, 0.1743, 0.1743, 0.1743, 0.1743, 0.1743, 0.1743, -0.034, -0.0341, -0.0341, -0.0341, -0.0341, -0.0341, -0.0341, -0.0341, -0.0341, -0.0341, -0.0341, -0.0342, -0.0342, -0.0342, -0.0342, -0.0342, -0.0342, -0.0342, -0.0342, -0.0343, 0.1741, 0.1741, 0.1741, 0.1741, -0.7905, 0.1741, 0.1741, -0.2585, 0.1741, 0.1741]}, \"token.table\": {\"Topic\": [4, 8, 6, 7, 2, 4, 7, 1, 3, 3, 1, 2, 4, 1, 1, 6, 1, 1, 1, 6, 2, 8, 4, 8, 2, 4, 6, 3, 7, 1, 1, 6, 1, 1, 5, 1, 7, 1, 1, 2, 4, 1, 3, 1, 6, 2, 4, 2, 3, 4, 8, 1, 1, 2, 4, 6, 1, 8, 3, 1, 8, 7, 8, 5, 5, 7, 6, 2, 4, 8, 2, 4, 8, 1, 7, 1, 6, 6, 1, 5, 7, 7, 7, 7, 6, 1, 2, 4, 8, 3, 1, 1, 1, 1, 1, 1, 1, 1, 5, 7, 1, 6, 5, 7, 1, 2, 4, 8, 2, 4, 8, 1, 1, 1, 6, 6, 5, 3, 7, 1, 3, 1, 6, 8, 5, 1, 3, 7, 5, 5, 5, 3, 3, 2, 8, 1, 1, 6, 1, 7, 2, 4, 8, 6, 1, 7, 1, 1, 7, 2, 4, 5, 1, 1, 1, 3, 8, 1, 8, 5, 7, 3, 1, 8, 7, 3, 5, 3, 1, 2, 5, 1, 1, 1, 5, 3, 3, 3, 3, 4, 2, 4, 8, 2, 4, 1, 5, 5, 4, 8, 6, 1, 6, 1, 1, 6, 1, 2, 5, 5], \"Freq\": [0.6449144037223792, 0.6449144037223792, 0.9940371542917807, 0.9940182733433708, 0.6448524954307197, 0.6448524954307197, 0.9940182046679921, 0.8066849153917097, 0.9938356916454433, 0.9938357652116705, 0.4293816901172449, 0.4293816901172449, 0.4293816901172449, 0.8066647195101075, 0.8066647195101075, 0.9940371542917807, 0.8067004809992929, 0.8066647195101075, 0.8066900447142242, 0.9940371542917807, 0.644835383976762, 0.644835383976762, 0.9940371309429326, 0.9939964810404187, 0.6448524954307197, 0.6448524954307197, 0.9940371542917807, 0.9938356916454433, 0.9940183453272422, 0.80668427391604, 0.8066647195101075, 0.9940371542917807, 0.8066793228805145, 0.8066836691417406, 0.9940371897434006, 0.8066647195101075, 0.9940182521070738, 0.8066993059315261, 0.8066647195101075, 0.6448524954307197, 0.6448524954307197, 0.8066985931137077, 0.9938356916454433, 0.8066918253641336, 0.9940371542917807, 0.6448524954307197, 0.6448524954307197, 0.37877433999820576, 0.37877433999820576, 0.37877433999820576, 0.37877433999820576, 0.8066647195101075, 0.8066647195101075, 0.6448524954307197, 0.6448524954307197, 0.9940371542917807, 0.8066851990423616, 0.9939964815684053, 0.9938356916454433, 0.8066852001407971, 0.9939965133407558, 0.9940183426339294, 0.9939965148166777, 0.9940371897434006, 0.9940371897434006, 0.9940183471669624, 0.9940371542917807, 0.4772502106437758, 0.4772502106437758, 0.4772502106437758, 0.47725020990463285, 0.47725020990463285, 0.47725020990463285, 0.8067068920249223, 0.9940183451084902, 0.8066647195101075, 0.9940371542917807, 0.9940371542917807, 0.8066991994588378, 0.9940371897434006, 0.9940182583062052, 0.9940183211788773, 0.9940183325811789, 0.9940183436866032, 0.9940371542917807, 0.8066647195101075, 0.477250209490087, 0.477250209490087, 0.477250209490087, 0.9938356916454433, 0.8066647195101075, 0.8066912904132079, 0.8066647195101075, 0.8066866964794176, 0.8066647195101075, 0.8066647195101075, 0.8066886557935703, 0.8066647195101075, 0.9940371897434006, 0.9940182921166879, 0.8066892605669704, 0.9940371542917807, 0.9940371897434006, 0.9940183252882873, 0.8066842748728975, 0.47725019268938723, 0.47725019268938723, 0.47725019268938723, 0.47725021814463997, 0.47725021814463997, 0.47725021814463997, 0.8066842741489724, 0.8066647195101075, 0.8066980939063806, 0.9940371542917807, 0.9940371542917807, 0.9940371897434006, 0.6448388107698846, 0.6448388107698846, 0.8066647195101075, 0.9938356916454433, 0.8066989501567785, 0.9940371542917807, 0.9939965090635884, 0.9940371897434006, 0.806689261073689, 0.9938356916454433, 0.9940183161516299, 0.9940371897434006, 0.9940371897434006, 0.9940371897434006, 0.9938356916454433, 0.9938356916454433, 0.6448354061521456, 0.6448354061521456, 0.8066647195101075, 0.8066647195101075, 0.9940371542917807, 0.8066960287802367, 0.994018349426817, 0.477250210682884, 0.477250210682884, 0.477250210682884, 0.9940371542917807, 0.8066874082651652, 0.9940183710300309, 0.8066824215081054, 0.806685199839161, 0.9940182993627037, 0.6448524954307197, 0.6448524954307197, 0.9940371897434006, 0.8066982727297117, 0.8066875871468759, 0.8066874083254928, 0.9938356916454433, 0.9939965278919352, 0.8066647195101075, 0.9939964465558149, 0.9940371897434006, 0.9940183451611556, 0.9938357652116705, 0.8066878720185049, 0.9939965175670297, 0.9940183043372856, 0.9938356916454433, 0.9940371897434006, 0.9938356916454433, 0.5604218583282974, 0.5604218583282974, 0.9940371897434006, 0.8066812472517629, 0.806683953527986, 0.806686945779236, 0.9940371897434006, 0.9938356916454433, 0.9938356916454433, 0.9938356916454433, 0.9938356916454433, 0.9940371309429326, 0.4772502341670903, 0.4772502341670903, 0.4772502341670903, 0.6448524954307197, 0.6448524954307197, 0.8066804635514203, 0.9940371897434006, 0.9940371897434006, 0.6449144337870917, 0.6449144337870917, 0.9940371542917807, 0.5604770981595173, 0.5604770981595173, 0.806692466363779, 0.8066804977345198, 0.9940371542917807, 0.8066972751018127, 0.9938494074875648, 0.9940371897434006, 0.9940371897434006], \"Term\": [\"\\u4e00\\u500b\", \"\\u4e00\\u500b\", \"\\u4e09\\u7d1a\", \"\\u4e09\\u7dda\", \"\\u4e0d\\u662f\", \"\\u4e0d\\u662f\", \"\\u4e2d\\u592e\", \"\\u4e2d\\u7acb\", \"\\u4e3b\\u4efb\\u59d4\\u54e1\", \"\\u4e3b\\u59d4\", \"\\u4e3b\\u5e2d\", \"\\u4e3b\\u5e2d\", \"\\u4e3b\\u5e2d\", \"\\u4e8c\\u5206\\u6cd5\", \"\\u4e8c\\u64c7\", \"\\u4e8c\\u7d1a\", \"\\u4ea4\\u901a\\u90e8\", \"\\u4eba\\u5077\", \"\\u4eba\\u54e1\", \"\\u4eba\\u624d\", \"\\u4ec0\\u9ebc\", \"\\u4ec0\\u9ebc\", \"\\u4ed6\\u5011\", \"\\u4f46\\u662f\", \"\\u4f60\\u5011\", \"\\u4f60\\u5011\", \"\\u4fca\\u69ae\", \"\\u4fdd\\u57fa\", \"\\u4fdd\\u5b58\", \"\\u4fee\\u6b63\", \"\\u500b\\u4eba\\u5e33\\u6236\", \"\\u516c\\u514b\", \"\\u516c\\u52d9\\u4eba\\u54e1\", \"\\u516c\\u52d9\\u54e1\", \"\\u516c\\u5916\", \"\\u518d\\u5a5a\", \"\\u5275\\u751f\", \"\\u52dd\\u7af9\", \"\\u52de\\u4e00\\u9ad4\", \"\\u53ef\\u4ee5\", \"\\u53ef\\u4ee5\", \"\\u5404\\u4f4d\", \"\\u5409\\u4ef2\", \"\\u540c\\u4ec1\", \"\\u5438\\u6bd2\", \"\\u554f\\u984c\", \"\\u554f\\u984c\", \"\\u555f\\u81e3\", \"\\u555f\\u81e3\", \"\\u555f\\u81e3\", \"\\u555f\\u81e3\", \"\\u55ae\\u5730\", \"\\u56e0\\u6545\", \"\\u56e0\\u70ba\", \"\\u56e0\\u70ba\", \"\\u570b\\u52c7\", \"\\u570b\\u5b89\\u5c40\", \"\\u570b\\u5bb6\", \"\\u570b\\u6b63\", \"\\u570b\\u6c11\\u9ee8\", \"\\u570b\\u969b\", \"\\u5730\\u65b9\", \"\\u5916\\u4ea4\\u90e8\", \"\\u5916\\u554f\", \"\\u5916\\u884c\", \"\\u5927\\u57d4\", \"\\u5927\\u5b78\", \"\\u5982\\u679c\", \"\\u5982\\u679c\", \"\\u5982\\u679c\", \"\\u59d4\\u54e1\", \"\\u59d4\\u54e1\", \"\\u59d4\\u54e1\", \"\\u59d4\\u54e1\\u6703\", \"\\u59d4\\u6703\", \"\\u5ae9\\u59bb\", \"\\u5b78\\u6821\", \"\\u5b78\\u751f\", \"\\u5b89\\u5168\", \"\\u5b9a\\u5b87\", \"\\u5ba2\\u5bb6\", \"\\u5ba2\\u5bb6\\u4eba\", \"\\u5ba2\\u5e84\", \"\\u5ba2\\u8a9e\", \"\\u5bb6\\u9577\", \"\\u5c0f\\u5c0f\", \"\\u5c31\\u662f\", \"\\u5c31\\u662f\", \"\\u5c31\\u662f\", \"\\u5c31\\u696d\", \"\\u5c31\\u8996\", \"\\u5c40\\u9577\", \"\\u5c6c\\u610f\", \"\\u5e38\\u614b\", \"\\u5e74\\u6eff\", \"\\u5e74\\u9081\", \"\\u5e74\\u91d1\", \"\\u5e74\\u9769\", \"\\u5ef6\\u7de9\", \"\\u5f35\\u9054\\u4eac\", \"\\u5fd7\\u5609\", \"\\u601d\\u83ef\", \"\\u60c5\\u5831\\u4eba\\u54e1\", \"\\u610f\\u8c61\", \"\\u61b2\\u6cd5\", \"\\u6211\\u5011\", \"\\u6211\\u5011\", \"\\u6211\\u5011\", \"\\u6240\\u4ee5\", \"\\u6240\\u4ee5\", \"\\u6240\\u4ee5\", \"\\u6539\\u9769\", \"\\u6539\\u9818\", \"\\u653f\\u5e9c\", \"\\u6559\\u80b2\", \"\\u6559\\u80b2\\u90e8\", \"\\u6575\\u6211\", \"\\u6587\\u5316\", \"\\u6587\\u5316\", \"\\u65b0\\u9673\\u4ee3\\u8b1d\", \"\\u660e\\u901a\", \"\\u662f\\u5426\", \"\\u6703\\u5831\", \"\\u6709\\u6c92\\u6709\", \"\\u672b\\u4ee3\", \"\\u672c\\u9662\", \"\\u674e\\u526f\", \"\\u6771\\u52e2\", \"\\u6821\\u53cb\", \"\\u6821\\u53cb\\u6703\", \"\\u6821\\u7d1a\", \"\\u69ae\\u6c11\", \"\\u6a5f\\u7d44\", \"\\u6b21\\u9577\", \"\\u6b21\\u9577\", \"\\u6b63\\u60f3\", \"\\u6b86\\u76e1\", \"\\u6bd2\\u54c1\", \"\\u6c11\\u773e\", \"\\u6c38\\u5f97\", \"\\u6c92\\u6709\", \"\\u6c92\\u6709\", \"\\u6c92\\u6709\", \"\\u6cd5\\u52d9\\u90e8\", \"\\u6cd5\\u6848\", \"\\u6d6a\\u6f2b\", \"\\u6e05\\u5fb7\", \"\\u71c3\\u7164\", \"\\u71df\\u9020\", \"\\u73fe\\u5728\", \"\\u73fe\\u5728\", \"\\u751f\\u667a\", \"\\u76f8\\u95dc\", \"\\u79d8\\u66f8\\u9577\", \"\\u7acb\\u6cd5\\u9662\", \"\\u7b71\\u8c9e\", \"\\u7e3d\\u7d71\", \"\\u7e73\\u7684\", \"\\u7f8e\\u570b\", \"\\u7fd4\\u5b99\", \"\\u805a\\u843d\", \"\\u8070\\u8ce2\", \"\\u80fd\\u6e90\", \"\\u81fa\\u7063\", \"\\u82d7\\u6817\", \"\\u82f1\\u9210\", \"\\u85cd\\u76ae\\u66f8\", \"\\u8655\\u9577\", \"\\u884c\\u653f\\u9662\", \"\\u884c\\u653f\\u9662\", \"\\u8a08\\u7b97\\u516c\\u5f0f\", \"\\u8a0e\\u8ad6\", \"\\u8b70\\u4e8b\", \"\\u8b70\\u9577\", \"\\u8d85\\u7a69\\u5b9a\", \"\\u8fb2\\u59d4\\u6703\", \"\\u8fb2\\u696d\", \"\\u8fb2\\u6c11\", \"\\u9000\\u8f14\\u6703\", \"\\u9019\\u4e9b\", \"\\u9019\\u500b\", \"\\u9019\\u500b\", \"\\u9019\\u500b\", \"\\u9019\\u6a23\", \"\\u9019\\u6a23\", \"\\u901a\\u904e\", \"\\u9069\\u4efb\", \"\\u9078\\u4e0a\", \"\\u90e8\\u9577\", \"\\u90e8\\u9577\", \"\\u9152\\u5bb3\", \"\\u9152\\u99d5\", \"\\u9152\\u99d5\", \"\\u91dd\\u5c0d\", \"\\u9298\\u8b19\", \"\\u9632\\u5236\", \"\\u9632\\u75ab\", \"\\u9662\\u9577\", \"\\u9673\\u4fca\\u751f\", \"\\u990a\\u751f\"]}, \"R\": 30, \"lambda.step\": 0.01, \"plot.opts\": {\"xlab\": \"PC1\", \"ylab\": \"PC2\"}, \"topic.order\": [7, 10, 3, 2, 5, 4, 9, 1, 8, 6]};\n",
       "\n",
       "function LDAvis_load_lib(url, callback){\n",
       "  var s = document.createElement('script');\n",
       "  s.src = url;\n",
       "  s.async = true;\n",
       "  s.onreadystatechange = s.onload = callback;\n",
       "  s.onerror = function(){console.warn(\"failed to load library \" + url);};\n",
       "  document.getElementsByTagName(\"head\")[0].appendChild(s);\n",
       "}\n",
       "\n",
       "if(typeof(LDAvis) !== \"undefined\"){\n",
       "   // already loaded: just create the visualization\n",
       "   !function(LDAvis){\n",
       "       new LDAvis(\"#\" + \"ldavis_el1454426336916678082425265332\", ldavis_el1454426336916678082425265332_data);\n",
       "   }(LDAvis);\n",
       "}else if(typeof define === \"function\" && define.amd){\n",
       "   // require.js is available: use it to load d3/LDAvis\n",
       "   require.config({paths: {d3: \"https://d3js.org/d3.v5\"}});\n",
       "   require([\"d3\"], function(d3){\n",
       "      window.d3 = d3;\n",
       "      LDAvis_load_lib(\"https://cdn.jsdelivr.net/gh/bmabey/pyLDAvis@3.2.2/pyLDAvis/js/ldavis.v3.0.0.js\", function(){\n",
       "        new LDAvis(\"#\" + \"ldavis_el1454426336916678082425265332\", ldavis_el1454426336916678082425265332_data);\n",
       "      });\n",
       "    });\n",
       "}else{\n",
       "    // require.js not available: dynamically load d3 & LDAvis\n",
       "    LDAvis_load_lib(\"https://d3js.org/d3.v5.js\", function(){\n",
       "         LDAvis_load_lib(\"https://cdn.jsdelivr.net/gh/bmabey/pyLDAvis@3.2.2/pyLDAvis/js/ldavis.v3.0.0.js\", function(){\n",
       "                 new LDAvis(\"#\" + \"ldavis_el1454426336916678082425265332\", ldavis_el1454426336916678082425265332_data);\n",
       "            })\n",
       "         });\n",
       "}\n",
       "</script>"
      ],
      "text/plain": [
       "<IPython.core.display.HTML object>"
      ]
     },
     "execution_count": 22,
     "metadata": {},
     "output_type": "execute_result"
    }
   ],
   "source": [
    "pyLDAvis.enable_notebook\n",
    "vis = pyLDAvis.gensim.prepare(lda_model, corpus, dict, doc_topic_dist=None)\n",
    "\"\"\"\n",
    "参数说明：\n",
    "prepare(topic_model, corpus, dictionary, doc_topic_dist=None)\n",
    "topic_model：训练得到的 gensim LdaModel 对象，不支持其他 gensim 模型类型\n",
    "corpus：以词袋形式表示的语料（用于训练主题模型的语料）\n",
    "dictionary：用于构建词袋模型的字典，即 gensim Dictionary 对象\n",
    "doc_topic_dist：可选参数，用于传入 LDA 模型的文档主题分布，默认取值为 None，当需要多次调用 prepare 函数时，可以传入该参数\n",
    "\"\"\"\n",
    "pyLDAvis.display(vis)"
   ]
  },
  {
   "cell_type": "code",
   "execution_count": null,
   "metadata": {},
   "outputs": [],
   "source": []
  }
 ],
 "metadata": {
  "kernelspec": {
   "display_name": "Python 3",
   "language": "python",
   "name": "python3"
  },
  "language_info": {
   "codemirror_mode": {
    "name": "ipython",
    "version": 3
   },
   "file_extension": ".py",
   "mimetype": "text/x-python",
   "name": "python",
   "nbconvert_exporter": "python",
   "pygments_lexer": "ipython3",
   "version": "3.8.5"
  }
 },
 "nbformat": 4,
 "nbformat_minor": 4
}
